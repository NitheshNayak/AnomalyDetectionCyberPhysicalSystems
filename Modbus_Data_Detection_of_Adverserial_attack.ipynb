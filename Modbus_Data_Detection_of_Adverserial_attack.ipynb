{
  "cells": [
    {
      "cell_type": "markdown",
      "metadata": {
        "id": "view-in-github",
        "colab_type": "text"
      },
      "source": [
        "<a href=\"https://colab.research.google.com/github/NitheshNayak/AnomalyDetection_in_Cyber_Physical_Systems/blob/main/Modbus_Data_Detection_of_Adverserial_attack.ipynb\" target=\"_parent\"><img src=\"https://colab.research.google.com/assets/colab-badge.svg\" alt=\"Open In Colab\"/></a>"
      ]
    },
    {
      "cell_type": "markdown",
      "source": [
        "# Detection of adverserial attack in IoT Network"
      ],
      "metadata": {
        "id": "n1Ve7NOKab6B"
      }
    },
    {
      "cell_type": "code",
      "execution_count": null,
      "metadata": {
        "colab": {
          "base_uri": "https://localhost:8080/"
        },
        "id": "juVKu2NMJRoF",
        "outputId": "2d382c7e-15a5-4b93-a1fa-167f7a6c7355"
      },
      "outputs": [
        {
          "output_type": "stream",
          "name": "stdout",
          "text": [
            "Mounted at /content/drive\n"
          ]
        }
      ],
      "source": [
        "# Mounting the Drive\n",
        "from google.colab import drive\n",
        "drive.mount('/content/drive')"
      ]
    },
    {
      "cell_type": "code",
      "source": [
        "# !pip install -r requirements.txt"
      ],
      "metadata": {
        "id": "JmOQH90rHCKW"
      },
      "execution_count": null,
      "outputs": []
    },
    {
      "cell_type": "code",
      "execution_count": null,
      "metadata": {
        "colab": {
          "base_uri": "https://localhost:8080/"
        },
        "id": "AbkvLAS3JdzL",
        "outputId": "a4d5c983-3961-4c91-c7a8-283aa771f01e"
      },
      "outputs": [
        {
          "output_type": "stream",
          "name": "stdout",
          "text": [
            "Collecting git+https://github.com/cleverhans-lab/cleverhans.git\n",
            "  Cloning https://github.com/cleverhans-lab/cleverhans.git to /tmp/pip-req-build-u3h_mevo\n",
            "  Running command git clone -q https://github.com/cleverhans-lab/cleverhans.git /tmp/pip-req-build-u3h_mevo\n",
            "Collecting nose\n",
            "  Downloading nose-1.3.7-py3-none-any.whl (154 kB)\n",
            "\u001b[K     |████████████████████████████████| 154 kB 4.8 MB/s \n",
            "\u001b[?25hCollecting pycodestyle\n",
            "  Downloading pycodestyle-2.8.0-py2.py3-none-any.whl (42 kB)\n",
            "\u001b[K     |████████████████████████████████| 42 kB 515 kB/s \n",
            "\u001b[?25hRequirement already satisfied: scipy in /usr/local/lib/python3.7/dist-packages (from cleverhans==4.0.0) (1.4.1)\n",
            "Requirement already satisfied: matplotlib in /usr/local/lib/python3.7/dist-packages (from cleverhans==4.0.0) (3.2.2)\n",
            "Collecting mnist\n",
            "  Downloading mnist-0.2.2-py2.py3-none-any.whl (3.5 kB)\n",
            "Requirement already satisfied: numpy in /usr/local/lib/python3.7/dist-packages (from cleverhans==4.0.0) (1.21.5)\n",
            "Requirement already satisfied: tensorflow-probability in /usr/local/lib/python3.7/dist-packages (from cleverhans==4.0.0) (0.15.0)\n",
            "Requirement already satisfied: joblib in /usr/local/lib/python3.7/dist-packages (from cleverhans==4.0.0) (1.1.0)\n",
            "Requirement already satisfied: easydict in /usr/local/lib/python3.7/dist-packages (from cleverhans==4.0.0) (1.9)\n",
            "Requirement already satisfied: absl-py in /usr/local/lib/python3.7/dist-packages (from cleverhans==4.0.0) (1.0.0)\n",
            "Requirement already satisfied: six in /usr/local/lib/python3.7/dist-packages (from cleverhans==4.0.0) (1.15.0)\n",
            "Requirement already satisfied: pyparsing!=2.0.4,!=2.1.2,!=2.1.6,>=2.0.1 in /usr/local/lib/python3.7/dist-packages (from matplotlib->cleverhans==4.0.0) (3.0.7)\n",
            "Requirement already satisfied: cycler>=0.10 in /usr/local/lib/python3.7/dist-packages (from matplotlib->cleverhans==4.0.0) (0.11.0)\n",
            "Requirement already satisfied: python-dateutil>=2.1 in /usr/local/lib/python3.7/dist-packages (from matplotlib->cleverhans==4.0.0) (2.8.2)\n",
            "Requirement already satisfied: kiwisolver>=1.0.1 in /usr/local/lib/python3.7/dist-packages (from matplotlib->cleverhans==4.0.0) (1.3.2)\n",
            "Requirement already satisfied: dm-tree in /usr/local/lib/python3.7/dist-packages (from tensorflow-probability->cleverhans==4.0.0) (0.1.6)\n",
            "Requirement already satisfied: decorator in /usr/local/lib/python3.7/dist-packages (from tensorflow-probability->cleverhans==4.0.0) (4.4.2)\n",
            "Requirement already satisfied: gast>=0.3.2 in /usr/local/lib/python3.7/dist-packages (from tensorflow-probability->cleverhans==4.0.0) (0.5.3)\n",
            "Requirement already satisfied: cloudpickle>=1.3 in /usr/local/lib/python3.7/dist-packages (from tensorflow-probability->cleverhans==4.0.0) (1.3.0)\n",
            "Building wheels for collected packages: cleverhans\n",
            "  Building wheel for cleverhans (setup.py) ... \u001b[?25l\u001b[?25hdone\n",
            "  Created wheel for cleverhans: filename=cleverhans-4.0.0-py3-none-any.whl size=92423 sha256=6ed0ecedf53671bad1398e54e7f8303eba53e32945e6a30e31dbc478e40ef7a2\n",
            "  Stored in directory: /tmp/pip-ephem-wheel-cache-urhis8ki/wheels/9b/85/fc/711535dc7ec7166b7a4fa93ac3294df0dcf383f1364af0e3d4\n",
            "Successfully built cleverhans\n",
            "Installing collected packages: pycodestyle, nose, mnist, cleverhans\n",
            "Successfully installed cleverhans-4.0.0 mnist-0.2.2 nose-1.3.7 pycodestyle-2.8.0\n"
          ]
        }
      ],
      "source": [
        "# the official Cleverhans library (without future moudule)\n",
        "!pip install git+https://github.com/cleverhans-lab/cleverhans.git\n",
        "# !pip install git+https://github.com/CNOCycle/cleverhans.git@feature/tf2.x\n",
        "# !pip install git+https://github.com/tensorflow/cleverhans/pull/1122"
      ]
    },
    {
      "cell_type": "code",
      "execution_count": null,
      "metadata": {
        "id": "ljsN_n3HTRFG",
        "colab": {
          "base_uri": "https://localhost:8080/"
        },
        "outputId": "e4a38b2c-bd61-4b12-8ec6-427fb5c5ad9d"
      },
      "outputs": [
        {
          "output_type": "stream",
          "name": "stdout",
          "text": [
            "\n",
            "Tensorflow Version: 2.8.0\n",
            "\n",
            "Cleverhans Version: 4.0.0-242afd7ec8f9546baeb1168438446ce1\n"
          ]
        }
      ],
      "source": [
        "# Libraries\n",
        "import numpy as np\n",
        "import pandas as pd\n",
        "from pandas import Series, DataFrame\n",
        "import matplotlib.pyplot as plt\n",
        "\n",
        "import itertools\n",
        "import imblearn \n",
        "from os.path import exists\n",
        "from collections import Counter\n",
        "from imblearn.over_sampling import SMOTE\n",
        "\n",
        "import sklearn\n",
        "from sklearn.utils import shuffle\n",
        "from sklearn.model_selection import train_test_split\n",
        "from sklearn.preprocessing import MinMaxScaler\n",
        "from sklearn.preprocessing import LabelEncoder\n",
        "from sklearn.metrics import confusion_matrix, classification_report, accuracy_score\n",
        "\n",
        "import tensorflow as tf # 2.7.0\n",
        "from tensorflow import keras\n",
        "from tensorflow.keras.models import load_model\n",
        "\n",
        "import torch\n",
        "import torch.nn as nn\n",
        "from keras.models import Sequential\n",
        "from keras.layers import Dense\n",
        "from keras.layers import LSTM\n",
        "from keras.layers import Dropout\n",
        "from keras.utils import np_utils\n",
        "from keras.utils.vis_utils import plot_model\n",
        "\n",
        "import cleverhans #4.0.0-242afd7ec8f9546baeb1168438446ce1\n",
        "from cleverhans.tf2.attacks.fast_gradient_method import fast_gradient_method\n",
        "\n",
        "print(\"\\nTensorflow Version: \" + tf.__version__)\n",
        "\n",
        "print(\"\\nCleverhans Version: \" + cleverhans.__version__)"
      ]
    },
    {
      "cell_type": "code",
      "execution_count": null,
      "metadata": {
        "id": "CBqjBBtUs5lj",
        "colab": {
          "base_uri": "https://localhost:8080/"
        },
        "outputId": "179b2548-1138-4b8c-f545-c5afe27e7449"
      },
      "outputs": [
        {
          "output_type": "stream",
          "name": "stdout",
          "text": [
            "GPU Available:  True\n",
            "Wed Feb 16 17:37:26 2022       \n",
            "+-----------------------------------------------------------------------------+\n",
            "| NVIDIA-SMI 460.32.03    Driver Version: 460.32.03    CUDA Version: 11.2     |\n",
            "|-------------------------------+----------------------+----------------------+\n",
            "| GPU  Name        Persistence-M| Bus-Id        Disp.A | Volatile Uncorr. ECC |\n",
            "| Fan  Temp  Perf  Pwr:Usage/Cap|         Memory-Usage | GPU-Util  Compute M. |\n",
            "|                               |                      |               MIG M. |\n",
            "|===============================+======================+======================|\n",
            "|   0  Tesla P100-PCIE...  Off  | 00000000:00:04.0 Off |                    0 |\n",
            "| N/A   34C    P0    32W / 250W |    479MiB / 16280MiB |      0%      Default |\n",
            "|                               |                      |                  N/A |\n",
            "+-------------------------------+----------------------+----------------------+\n",
            "                                                                               \n",
            "+-----------------------------------------------------------------------------+\n",
            "| Processes:                                                                  |\n",
            "|  GPU   GI   CI        PID   Type   Process name                  GPU Memory |\n",
            "|        ID   ID                                                   Usage      |\n",
            "|=============================================================================|\n",
            "+-----------------------------------------------------------------------------+\n"
          ]
        }
      ],
      "source": [
        "# Printing GPU Information\n",
        "print(\"GPU Available: \", tf.test.is_gpu_available())\n",
        "\n",
        "gpu_info = !nvidia-smi\n",
        "gpu_info = '\\n'.join(gpu_info)\n",
        "if gpu_info.find('failed') >= 0:\n",
        "  print('Not connected to a GPU')\n",
        "else:\n",
        "  print(gpu_info)"
      ]
    },
    {
      "cell_type": "code",
      "execution_count": null,
      "metadata": {
        "id": "17hwNoBlVuXB"
      },
      "outputs": [],
      "source": [
        "## Confusion Matrix Plot Function : Function is defined here for later use\n",
        "\n",
        "def plot_confusion_matrix(cm,classes\n",
        "                          ,normalize=False,\n",
        "                          title='Confusion Matrix',cmap=plt.cm.Blues):\n",
        "    \n",
        "    plt.imshow(cm, interpolation='nearest',cmap=cmap)\n",
        "    plt.title(title)\n",
        "    plt.colorbar()\n",
        "    tick_marks = np.arange(len(classes))\n",
        "    plt.xticks(tick_marks,classes, rotation=45)\n",
        "    plt.yticks(tick_marks, classes)\n",
        "    \n",
        "    if normalize:\n",
        "        cm = cm.astype('float')/cm.sum(axis=1)[:,np.newaxis]\n",
        "        print(\"Normalized confusion matrix\")\n",
        "    else:\n",
        "        print(\"Confusion Matrix without normalization\")\n",
        "        \n",
        "    print(cm)\n",
        "    \n",
        "    thresh = cm.max() /2.\n",
        "    for i, j in itertools.product(range(cm.shape[0]),range(cm.shape[1])):\n",
        "        plt.text(j,i, cm[i,j],\n",
        "                horizontalalignment=\"center\",\n",
        "                color=\"white\" if cm[i,j] > thresh else \"black\")\n",
        "    plt.tight_layout()\n",
        "    plt.ylabel('True Label')\n",
        "    plt.xlabel('Predicted label')"
      ]
    },
    {
      "cell_type": "markdown",
      "metadata": {
        "id": "2qlyUlIO5OGR"
      },
      "source": [
        "# **Data Preprocessing**\n",
        "## Load Data"
      ]
    },
    {
      "cell_type": "code",
      "execution_count": null,
      "metadata": {
        "colab": {
          "base_uri": "https://localhost:8080/",
          "height": 496
        },
        "id": "k5eJmhsp6bZy",
        "outputId": "17349805-47e7-4db1-bd19-1f8fe18fead9"
      },
      "outputs": [
        {
          "output_type": "stream",
          "name": "stdout",
          "text": [
            "Shape of the input file -  (51106, 9)\n",
            "\n",
            "\n"
          ]
        },
        {
          "output_type": "execute_result",
          "data": {
            "text/html": [
              "\n",
              "  <div id=\"df-8a4947af-c39f-4979-8cd3-866e21b0ea7e\">\n",
              "    <div class=\"colab-df-container\">\n",
              "      <div>\n",
              "<style scoped>\n",
              "    .dataframe tbody tr th:only-of-type {\n",
              "        vertical-align: middle;\n",
              "    }\n",
              "\n",
              "    .dataframe tbody tr th {\n",
              "        vertical-align: top;\n",
              "    }\n",
              "\n",
              "    .dataframe thead th {\n",
              "        text-align: right;\n",
              "    }\n",
              "</style>\n",
              "<table border=\"1\" class=\"dataframe\">\n",
              "  <thead>\n",
              "    <tr style=\"text-align: right;\">\n",
              "      <th></th>\n",
              "      <th>ts</th>\n",
              "      <th>date</th>\n",
              "      <th>time</th>\n",
              "      <th>FC1_Read_Input_Register</th>\n",
              "      <th>FC2_Read_Discrete_Value</th>\n",
              "      <th>FC3_Read_Holding_Register</th>\n",
              "      <th>FC4_Read_Coil</th>\n",
              "      <th>label</th>\n",
              "      <th>type</th>\n",
              "    </tr>\n",
              "  </thead>\n",
              "  <tbody>\n",
              "    <tr>\n",
              "      <th>0</th>\n",
              "      <td>1556208840</td>\n",
              "      <td>25-Apr-19</td>\n",
              "      <td>09:14:00</td>\n",
              "      <td>49389</td>\n",
              "      <td>52921</td>\n",
              "      <td>25770</td>\n",
              "      <td>13625</td>\n",
              "      <td>1</td>\n",
              "      <td>injection</td>\n",
              "    </tr>\n",
              "    <tr>\n",
              "      <th>1</th>\n",
              "      <td>1556208840</td>\n",
              "      <td>25-Apr-19</td>\n",
              "      <td>09:14:00</td>\n",
              "      <td>49389</td>\n",
              "      <td>52921</td>\n",
              "      <td>25770</td>\n",
              "      <td>13625</td>\n",
              "      <td>1</td>\n",
              "      <td>injection</td>\n",
              "    </tr>\n",
              "    <tr>\n",
              "      <th>2</th>\n",
              "      <td>1556208841</td>\n",
              "      <td>25-Apr-19</td>\n",
              "      <td>09:14:01</td>\n",
              "      <td>49389</td>\n",
              "      <td>52921</td>\n",
              "      <td>25770</td>\n",
              "      <td>13625</td>\n",
              "      <td>1</td>\n",
              "      <td>injection</td>\n",
              "    </tr>\n",
              "    <tr>\n",
              "      <th>3</th>\n",
              "      <td>1556208842</td>\n",
              "      <td>25-Apr-19</td>\n",
              "      <td>09:14:02</td>\n",
              "      <td>49389</td>\n",
              "      <td>52921</td>\n",
              "      <td>25770</td>\n",
              "      <td>13625</td>\n",
              "      <td>1</td>\n",
              "      <td>injection</td>\n",
              "    </tr>\n",
              "    <tr>\n",
              "      <th>4</th>\n",
              "      <td>1556208844</td>\n",
              "      <td>25-Apr-19</td>\n",
              "      <td>09:14:04</td>\n",
              "      <td>40665</td>\n",
              "      <td>44748</td>\n",
              "      <td>21098</td>\n",
              "      <td>35371</td>\n",
              "      <td>1</td>\n",
              "      <td>injection</td>\n",
              "    </tr>\n",
              "  </tbody>\n",
              "</table>\n",
              "</div>\n",
              "      <button class=\"colab-df-convert\" onclick=\"convertToInteractive('df-8a4947af-c39f-4979-8cd3-866e21b0ea7e')\"\n",
              "              title=\"Convert this dataframe to an interactive table.\"\n",
              "              style=\"display:none;\">\n",
              "        \n",
              "  <svg xmlns=\"http://www.w3.org/2000/svg\" height=\"24px\"viewBox=\"0 0 24 24\"\n",
              "       width=\"24px\">\n",
              "    <path d=\"M0 0h24v24H0V0z\" fill=\"none\"/>\n",
              "    <path d=\"M18.56 5.44l.94 2.06.94-2.06 2.06-.94-2.06-.94-.94-2.06-.94 2.06-2.06.94zm-11 1L8.5 8.5l.94-2.06 2.06-.94-2.06-.94L8.5 2.5l-.94 2.06-2.06.94zm10 10l.94 2.06.94-2.06 2.06-.94-2.06-.94-.94-2.06-.94 2.06-2.06.94z\"/><path d=\"M17.41 7.96l-1.37-1.37c-.4-.4-.92-.59-1.43-.59-.52 0-1.04.2-1.43.59L10.3 9.45l-7.72 7.72c-.78.78-.78 2.05 0 2.83L4 21.41c.39.39.9.59 1.41.59.51 0 1.02-.2 1.41-.59l7.78-7.78 2.81-2.81c.8-.78.8-2.07 0-2.86zM5.41 20L4 18.59l7.72-7.72 1.47 1.35L5.41 20z\"/>\n",
              "  </svg>\n",
              "      </button>\n",
              "      \n",
              "  <style>\n",
              "    .colab-df-container {\n",
              "      display:flex;\n",
              "      flex-wrap:wrap;\n",
              "      gap: 12px;\n",
              "    }\n",
              "\n",
              "    .colab-df-convert {\n",
              "      background-color: #E8F0FE;\n",
              "      border: none;\n",
              "      border-radius: 50%;\n",
              "      cursor: pointer;\n",
              "      display: none;\n",
              "      fill: #1967D2;\n",
              "      height: 32px;\n",
              "      padding: 0 0 0 0;\n",
              "      width: 32px;\n",
              "    }\n",
              "\n",
              "    .colab-df-convert:hover {\n",
              "      background-color: #E2EBFA;\n",
              "      box-shadow: 0px 1px 2px rgba(60, 64, 67, 0.3), 0px 1px 3px 1px rgba(60, 64, 67, 0.15);\n",
              "      fill: #174EA6;\n",
              "    }\n",
              "\n",
              "    [theme=dark] .colab-df-convert {\n",
              "      background-color: #3B4455;\n",
              "      fill: #D2E3FC;\n",
              "    }\n",
              "\n",
              "    [theme=dark] .colab-df-convert:hover {\n",
              "      background-color: #434B5C;\n",
              "      box-shadow: 0px 1px 3px 1px rgba(0, 0, 0, 0.15);\n",
              "      filter: drop-shadow(0px 1px 2px rgba(0, 0, 0, 0.3));\n",
              "      fill: #FFFFFF;\n",
              "    }\n",
              "  </style>\n",
              "\n",
              "      <script>\n",
              "        const buttonEl =\n",
              "          document.querySelector('#df-8a4947af-c39f-4979-8cd3-866e21b0ea7e button.colab-df-convert');\n",
              "        buttonEl.style.display =\n",
              "          google.colab.kernel.accessAllowed ? 'block' : 'none';\n",
              "\n",
              "        async function convertToInteractive(key) {\n",
              "          const element = document.querySelector('#df-8a4947af-c39f-4979-8cd3-866e21b0ea7e');\n",
              "          const dataTable =\n",
              "            await google.colab.kernel.invokeFunction('convertToInteractive',\n",
              "                                                     [key], {});\n",
              "          if (!dataTable) return;\n",
              "\n",
              "          const docLinkHtml = 'Like what you see? Visit the ' +\n",
              "            '<a target=\"_blank\" href=https://colab.research.google.com/notebooks/data_table.ipynb>data table notebook</a>'\n",
              "            + ' to learn more about interactive tables.';\n",
              "          element.innerHTML = '';\n",
              "          dataTable['output_type'] = 'display_data';\n",
              "          await google.colab.output.renderOutput(dataTable, element);\n",
              "          const docLink = document.createElement('div');\n",
              "          docLink.innerHTML = docLinkHtml;\n",
              "          element.appendChild(docLink);\n",
              "        }\n",
              "      </script>\n",
              "    </div>\n",
              "  </div>\n",
              "  "
            ],
            "text/plain": [
              "           ts       date        time  ...  FC4_Read_Coil  label       type\n",
              "0  1556208840  25-Apr-19   09:14:00   ...          13625      1  injection\n",
              "1  1556208840  25-Apr-19   09:14:00   ...          13625      1  injection\n",
              "2  1556208841  25-Apr-19   09:14:01   ...          13625      1  injection\n",
              "3  1556208842  25-Apr-19   09:14:02   ...          13625      1  injection\n",
              "4  1556208844  25-Apr-19   09:14:04   ...          35371      1  injection\n",
              "\n",
              "[5 rows x 9 columns]"
            ]
          },
          "metadata": {},
          "execution_count": 35
        }
      ],
      "source": [
        "# Load the dataset\n",
        "dataset = pd.read_csv(\"/content/drive/MyDrive/VRES/Train_Test_IoT_Modbus.csv\")\n",
        "dataset.dropna(inplace=True)\n",
        "\n",
        "# Check the shape\n",
        "print(\"Shape of the input file - \",dataset.shape)\n",
        "print(\"\\n\")\n",
        "\n",
        "# Print the first 5 lines of the dataset \n",
        "dataset.head(5)"
      ]
    },
    {
      "cell_type": "code",
      "source": [
        "# Information of the input data\n",
        "dataset.info()"
      ],
      "metadata": {
        "colab": {
          "base_uri": "https://localhost:8080/"
        },
        "id": "13s0sCKMHbDh",
        "outputId": "cd44453f-1071-4535-fffe-fc0d1b027942"
      },
      "execution_count": null,
      "outputs": [
        {
          "output_type": "stream",
          "name": "stdout",
          "text": [
            "<class 'pandas.core.frame.DataFrame'>\n",
            "Int64Index: 51106 entries, 0 to 51105\n",
            "Data columns (total 9 columns):\n",
            " #   Column                     Non-Null Count  Dtype \n",
            "---  ------                     --------------  ----- \n",
            " 0   ts                         51106 non-null  int64 \n",
            " 1   date                       51106 non-null  object\n",
            " 2   time                       51106 non-null  object\n",
            " 3   FC1_Read_Input_Register    51106 non-null  int64 \n",
            " 4   FC2_Read_Discrete_Value    51106 non-null  int64 \n",
            " 5   FC3_Read_Holding_Register  51106 non-null  int64 \n",
            " 6   FC4_Read_Coil              51106 non-null  int64 \n",
            " 7   label                      51106 non-null  int64 \n",
            " 8   type                       51106 non-null  object\n",
            "dtypes: int64(6), object(3)\n",
            "memory usage: 3.9+ MB\n"
          ]
        }
      ]
    },
    {
      "cell_type": "code",
      "source": [
        "# Check for NUll Values \n",
        "dataset.isna().sum()"
      ],
      "metadata": {
        "colab": {
          "base_uri": "https://localhost:8080/"
        },
        "id": "YcfRTaURHnSX",
        "outputId": "b06a1bb4-84e6-47e1-f2a9-b7f2468cb643"
      },
      "execution_count": null,
      "outputs": [
        {
          "output_type": "execute_result",
          "data": {
            "text/plain": [
              "ts                           0\n",
              "date                         0\n",
              "time                         0\n",
              "FC1_Read_Input_Register      0\n",
              "FC2_Read_Discrete_Value      0\n",
              "FC3_Read_Holding_Register    0\n",
              "FC4_Read_Coil                0\n",
              "label                        0\n",
              "type                         0\n",
              "dtype: int64"
            ]
          },
          "metadata": {},
          "execution_count": 37
        }
      ]
    },
    {
      "cell_type": "code",
      "source": [
        "# Check for Duplicates\n",
        "print(\"There is no duplicate entries present in the dataset: \", dataset[dataset.duplicated()].shape[0]==0)"
      ],
      "metadata": {
        "colab": {
          "base_uri": "https://localhost:8080/"
        },
        "id": "olSrKOEhIUyE",
        "outputId": "6d4e944f-6f0b-4ad7-cfe5-91f2b5dba0f6"
      },
      "execution_count": null,
      "outputs": [
        {
          "output_type": "stream",
          "name": "stdout",
          "text": [
            "There is no duplicate entries present in the dataset:  False\n"
          ]
        }
      ]
    },
    {
      "cell_type": "code",
      "source": [
        "# Drop duplicates\n",
        "dataset1 = dataset.drop_duplicates(ignore_index=True)\n",
        "dataset1"
      ],
      "metadata": {
        "colab": {
          "base_uri": "https://localhost:8080/",
          "height": 835
        },
        "id": "4NJp8njTUsef",
        "outputId": "970e2efd-8947-4478-b2ac-2d3351dbe4ad"
      },
      "execution_count": null,
      "outputs": [
        {
          "output_type": "execute_result",
          "data": {
            "text/html": [
              "\n",
              "  <div id=\"df-22109dd8-7e44-42c4-a1e7-3e599697dbcf\">\n",
              "    <div class=\"colab-df-container\">\n",
              "      <div>\n",
              "<style scoped>\n",
              "    .dataframe tbody tr th:only-of-type {\n",
              "        vertical-align: middle;\n",
              "    }\n",
              "\n",
              "    .dataframe tbody tr th {\n",
              "        vertical-align: top;\n",
              "    }\n",
              "\n",
              "    .dataframe thead th {\n",
              "        text-align: right;\n",
              "    }\n",
              "</style>\n",
              "<table border=\"1\" class=\"dataframe\">\n",
              "  <thead>\n",
              "    <tr style=\"text-align: right;\">\n",
              "      <th></th>\n",
              "      <th>ts</th>\n",
              "      <th>date</th>\n",
              "      <th>time</th>\n",
              "      <th>FC1_Read_Input_Register</th>\n",
              "      <th>FC2_Read_Discrete_Value</th>\n",
              "      <th>FC3_Read_Holding_Register</th>\n",
              "      <th>FC4_Read_Coil</th>\n",
              "      <th>label</th>\n",
              "      <th>type</th>\n",
              "    </tr>\n",
              "  </thead>\n",
              "  <tbody>\n",
              "    <tr>\n",
              "      <th>0</th>\n",
              "      <td>1556208840</td>\n",
              "      <td>25-Apr-19</td>\n",
              "      <td>09:14:00</td>\n",
              "      <td>49389</td>\n",
              "      <td>52921</td>\n",
              "      <td>25770</td>\n",
              "      <td>13625</td>\n",
              "      <td>1</td>\n",
              "      <td>injection</td>\n",
              "    </tr>\n",
              "    <tr>\n",
              "      <th>1</th>\n",
              "      <td>1556208841</td>\n",
              "      <td>25-Apr-19</td>\n",
              "      <td>09:14:01</td>\n",
              "      <td>49389</td>\n",
              "      <td>52921</td>\n",
              "      <td>25770</td>\n",
              "      <td>13625</td>\n",
              "      <td>1</td>\n",
              "      <td>injection</td>\n",
              "    </tr>\n",
              "    <tr>\n",
              "      <th>2</th>\n",
              "      <td>1556208842</td>\n",
              "      <td>25-Apr-19</td>\n",
              "      <td>09:14:02</td>\n",
              "      <td>49389</td>\n",
              "      <td>52921</td>\n",
              "      <td>25770</td>\n",
              "      <td>13625</td>\n",
              "      <td>1</td>\n",
              "      <td>injection</td>\n",
              "    </tr>\n",
              "    <tr>\n",
              "      <th>3</th>\n",
              "      <td>1556208844</td>\n",
              "      <td>25-Apr-19</td>\n",
              "      <td>09:14:04</td>\n",
              "      <td>40665</td>\n",
              "      <td>44748</td>\n",
              "      <td>21098</td>\n",
              "      <td>35371</td>\n",
              "      <td>1</td>\n",
              "      <td>injection</td>\n",
              "    </tr>\n",
              "    <tr>\n",
              "      <th>4</th>\n",
              "      <td>1556208846</td>\n",
              "      <td>25-Apr-19</td>\n",
              "      <td>09:14:06</td>\n",
              "      <td>40665</td>\n",
              "      <td>44748</td>\n",
              "      <td>21098</td>\n",
              "      <td>35371</td>\n",
              "      <td>1</td>\n",
              "      <td>injection</td>\n",
              "    </tr>\n",
              "    <tr>\n",
              "      <th>...</th>\n",
              "      <td>...</td>\n",
              "      <td>...</td>\n",
              "      <td>...</td>\n",
              "      <td>...</td>\n",
              "      <td>...</td>\n",
              "      <td>...</td>\n",
              "      <td>...</td>\n",
              "      <td>...</td>\n",
              "      <td>...</td>\n",
              "    </tr>\n",
              "    <tr>\n",
              "      <th>31357</th>\n",
              "      <td>1554183533</td>\n",
              "      <td>1-Apr-19</td>\n",
              "      <td>22:38:53</td>\n",
              "      <td>62602</td>\n",
              "      <td>1253</td>\n",
              "      <td>12772</td>\n",
              "      <td>29319</td>\n",
              "      <td>0</td>\n",
              "      <td>normal</td>\n",
              "    </tr>\n",
              "    <tr>\n",
              "      <th>31358</th>\n",
              "      <td>1554183536</td>\n",
              "      <td>1-Apr-19</td>\n",
              "      <td>22:38:56</td>\n",
              "      <td>62602</td>\n",
              "      <td>1253</td>\n",
              "      <td>12772</td>\n",
              "      <td>29319</td>\n",
              "      <td>0</td>\n",
              "      <td>normal</td>\n",
              "    </tr>\n",
              "    <tr>\n",
              "      <th>31359</th>\n",
              "      <td>1554183537</td>\n",
              "      <td>1-Apr-19</td>\n",
              "      <td>22:38:57</td>\n",
              "      <td>198</td>\n",
              "      <td>38266</td>\n",
              "      <td>33649</td>\n",
              "      <td>44594</td>\n",
              "      <td>0</td>\n",
              "      <td>normal</td>\n",
              "    </tr>\n",
              "    <tr>\n",
              "      <th>31360</th>\n",
              "      <td>1554183538</td>\n",
              "      <td>1-Apr-19</td>\n",
              "      <td>22:38:58</td>\n",
              "      <td>198</td>\n",
              "      <td>38266</td>\n",
              "      <td>33649</td>\n",
              "      <td>44594</td>\n",
              "      <td>0</td>\n",
              "      <td>normal</td>\n",
              "    </tr>\n",
              "    <tr>\n",
              "      <th>31361</th>\n",
              "      <td>1554183541</td>\n",
              "      <td>1-Apr-19</td>\n",
              "      <td>22:39:01</td>\n",
              "      <td>198</td>\n",
              "      <td>38266</td>\n",
              "      <td>33649</td>\n",
              "      <td>44594</td>\n",
              "      <td>0</td>\n",
              "      <td>normal</td>\n",
              "    </tr>\n",
              "  </tbody>\n",
              "</table>\n",
              "<p>31362 rows × 9 columns</p>\n",
              "</div>\n",
              "      <button class=\"colab-df-convert\" onclick=\"convertToInteractive('df-22109dd8-7e44-42c4-a1e7-3e599697dbcf')\"\n",
              "              title=\"Convert this dataframe to an interactive table.\"\n",
              "              style=\"display:none;\">\n",
              "        \n",
              "  <svg xmlns=\"http://www.w3.org/2000/svg\" height=\"24px\"viewBox=\"0 0 24 24\"\n",
              "       width=\"24px\">\n",
              "    <path d=\"M0 0h24v24H0V0z\" fill=\"none\"/>\n",
              "    <path d=\"M18.56 5.44l.94 2.06.94-2.06 2.06-.94-2.06-.94-.94-2.06-.94 2.06-2.06.94zm-11 1L8.5 8.5l.94-2.06 2.06-.94-2.06-.94L8.5 2.5l-.94 2.06-2.06.94zm10 10l.94 2.06.94-2.06 2.06-.94-2.06-.94-.94-2.06-.94 2.06-2.06.94z\"/><path d=\"M17.41 7.96l-1.37-1.37c-.4-.4-.92-.59-1.43-.59-.52 0-1.04.2-1.43.59L10.3 9.45l-7.72 7.72c-.78.78-.78 2.05 0 2.83L4 21.41c.39.39.9.59 1.41.59.51 0 1.02-.2 1.41-.59l7.78-7.78 2.81-2.81c.8-.78.8-2.07 0-2.86zM5.41 20L4 18.59l7.72-7.72 1.47 1.35L5.41 20z\"/>\n",
              "  </svg>\n",
              "      </button>\n",
              "      \n",
              "  <style>\n",
              "    .colab-df-container {\n",
              "      display:flex;\n",
              "      flex-wrap:wrap;\n",
              "      gap: 12px;\n",
              "    }\n",
              "\n",
              "    .colab-df-convert {\n",
              "      background-color: #E8F0FE;\n",
              "      border: none;\n",
              "      border-radius: 50%;\n",
              "      cursor: pointer;\n",
              "      display: none;\n",
              "      fill: #1967D2;\n",
              "      height: 32px;\n",
              "      padding: 0 0 0 0;\n",
              "      width: 32px;\n",
              "    }\n",
              "\n",
              "    .colab-df-convert:hover {\n",
              "      background-color: #E2EBFA;\n",
              "      box-shadow: 0px 1px 2px rgba(60, 64, 67, 0.3), 0px 1px 3px 1px rgba(60, 64, 67, 0.15);\n",
              "      fill: #174EA6;\n",
              "    }\n",
              "\n",
              "    [theme=dark] .colab-df-convert {\n",
              "      background-color: #3B4455;\n",
              "      fill: #D2E3FC;\n",
              "    }\n",
              "\n",
              "    [theme=dark] .colab-df-convert:hover {\n",
              "      background-color: #434B5C;\n",
              "      box-shadow: 0px 1px 3px 1px rgba(0, 0, 0, 0.15);\n",
              "      filter: drop-shadow(0px 1px 2px rgba(0, 0, 0, 0.3));\n",
              "      fill: #FFFFFF;\n",
              "    }\n",
              "  </style>\n",
              "\n",
              "      <script>\n",
              "        const buttonEl =\n",
              "          document.querySelector('#df-22109dd8-7e44-42c4-a1e7-3e599697dbcf button.colab-df-convert');\n",
              "        buttonEl.style.display =\n",
              "          google.colab.kernel.accessAllowed ? 'block' : 'none';\n",
              "\n",
              "        async function convertToInteractive(key) {\n",
              "          const element = document.querySelector('#df-22109dd8-7e44-42c4-a1e7-3e599697dbcf');\n",
              "          const dataTable =\n",
              "            await google.colab.kernel.invokeFunction('convertToInteractive',\n",
              "                                                     [key], {});\n",
              "          if (!dataTable) return;\n",
              "\n",
              "          const docLinkHtml = 'Like what you see? Visit the ' +\n",
              "            '<a target=\"_blank\" href=https://colab.research.google.com/notebooks/data_table.ipynb>data table notebook</a>'\n",
              "            + ' to learn more about interactive tables.';\n",
              "          element.innerHTML = '';\n",
              "          dataTable['output_type'] = 'display_data';\n",
              "          await google.colab.output.renderOutput(dataTable, element);\n",
              "          const docLink = document.createElement('div');\n",
              "          docLink.innerHTML = docLinkHtml;\n",
              "          element.appendChild(docLink);\n",
              "        }\n",
              "      </script>\n",
              "    </div>\n",
              "  </div>\n",
              "  "
            ],
            "text/plain": [
              "               ts       date        time  ...  FC4_Read_Coil  label       type\n",
              "0      1556208840  25-Apr-19   09:14:00   ...          13625      1  injection\n",
              "1      1556208841  25-Apr-19   09:14:01   ...          13625      1  injection\n",
              "2      1556208842  25-Apr-19   09:14:02   ...          13625      1  injection\n",
              "3      1556208844  25-Apr-19   09:14:04   ...          35371      1  injection\n",
              "4      1556208846  25-Apr-19   09:14:06   ...          35371      1  injection\n",
              "...           ...        ...         ...  ...            ...    ...        ...\n",
              "31357  1554183533   1-Apr-19   22:38:53   ...          29319      0     normal\n",
              "31358  1554183536   1-Apr-19   22:38:56   ...          29319      0     normal\n",
              "31359  1554183537   1-Apr-19   22:38:57   ...          44594      0     normal\n",
              "31360  1554183538   1-Apr-19   22:38:58   ...          44594      0     normal\n",
              "31361  1554183541   1-Apr-19   22:39:01   ...          44594      0     normal\n",
              "\n",
              "[31362 rows x 9 columns]"
            ]
          },
          "metadata": {},
          "execution_count": 39
        }
      ]
    },
    {
      "cell_type": "markdown",
      "source": [
        "## Data Encoding"
      ],
      "metadata": {
        "id": "BZkpQ82piGhc"
      }
    },
    {
      "cell_type": "code",
      "source": [
        "# Encode data which is not in numerical form\n",
        "dataset = dataset1.copy()\n",
        "stringEncoder= LabelEncoder()\n",
        "dataset['date'] = stringEncoder.fit_transform(dataset['date'])\n",
        "dataset['time'] = stringEncoder.fit_transform(dataset['time'])\n",
        "dataset['type'] = stringEncoder.fit_transform(dataset['type'])\n",
        "dataset"
      ],
      "metadata": {
        "colab": {
          "base_uri": "https://localhost:8080/",
          "height": 487
        },
        "id": "nCpd5vpmXZMR",
        "outputId": "c86a6e05-111e-4927-b7d8-a7b1b96a5d6b"
      },
      "execution_count": null,
      "outputs": [
        {
          "output_type": "execute_result",
          "data": {
            "text/html": [
              "\n",
              "  <div id=\"df-57443c22-66dd-4399-baa1-dd776c05bc11\">\n",
              "    <div class=\"colab-df-container\">\n",
              "      <div>\n",
              "<style scoped>\n",
              "    .dataframe tbody tr th:only-of-type {\n",
              "        vertical-align: middle;\n",
              "    }\n",
              "\n",
              "    .dataframe tbody tr th {\n",
              "        vertical-align: top;\n",
              "    }\n",
              "\n",
              "    .dataframe thead th {\n",
              "        text-align: right;\n",
              "    }\n",
              "</style>\n",
              "<table border=\"1\" class=\"dataframe\">\n",
              "  <thead>\n",
              "    <tr style=\"text-align: right;\">\n",
              "      <th></th>\n",
              "      <th>ts</th>\n",
              "      <th>date</th>\n",
              "      <th>time</th>\n",
              "      <th>FC1_Read_Input_Register</th>\n",
              "      <th>FC2_Read_Discrete_Value</th>\n",
              "      <th>FC3_Read_Holding_Register</th>\n",
              "      <th>FC4_Read_Coil</th>\n",
              "      <th>label</th>\n",
              "      <th>type</th>\n",
              "    </tr>\n",
              "  </thead>\n",
              "  <tbody>\n",
              "    <tr>\n",
              "      <th>0</th>\n",
              "      <td>1556208840</td>\n",
              "      <td>3</td>\n",
              "      <td>1850</td>\n",
              "      <td>49389</td>\n",
              "      <td>52921</td>\n",
              "      <td>25770</td>\n",
              "      <td>13625</td>\n",
              "      <td>1</td>\n",
              "      <td>1</td>\n",
              "    </tr>\n",
              "    <tr>\n",
              "      <th>1</th>\n",
              "      <td>1556208841</td>\n",
              "      <td>3</td>\n",
              "      <td>1851</td>\n",
              "      <td>49389</td>\n",
              "      <td>52921</td>\n",
              "      <td>25770</td>\n",
              "      <td>13625</td>\n",
              "      <td>1</td>\n",
              "      <td>1</td>\n",
              "    </tr>\n",
              "    <tr>\n",
              "      <th>2</th>\n",
              "      <td>1556208842</td>\n",
              "      <td>3</td>\n",
              "      <td>1852</td>\n",
              "      <td>49389</td>\n",
              "      <td>52921</td>\n",
              "      <td>25770</td>\n",
              "      <td>13625</td>\n",
              "      <td>1</td>\n",
              "      <td>1</td>\n",
              "    </tr>\n",
              "    <tr>\n",
              "      <th>3</th>\n",
              "      <td>1556208844</td>\n",
              "      <td>3</td>\n",
              "      <td>1853</td>\n",
              "      <td>40665</td>\n",
              "      <td>44748</td>\n",
              "      <td>21098</td>\n",
              "      <td>35371</td>\n",
              "      <td>1</td>\n",
              "      <td>1</td>\n",
              "    </tr>\n",
              "    <tr>\n",
              "      <th>4</th>\n",
              "      <td>1556208846</td>\n",
              "      <td>3</td>\n",
              "      <td>1854</td>\n",
              "      <td>40665</td>\n",
              "      <td>44748</td>\n",
              "      <td>21098</td>\n",
              "      <td>35371</td>\n",
              "      <td>1</td>\n",
              "      <td>1</td>\n",
              "    </tr>\n",
              "    <tr>\n",
              "      <th>...</th>\n",
              "      <td>...</td>\n",
              "      <td>...</td>\n",
              "      <td>...</td>\n",
              "      <td>...</td>\n",
              "      <td>...</td>\n",
              "      <td>...</td>\n",
              "      <td>...</td>\n",
              "      <td>...</td>\n",
              "      <td>...</td>\n",
              "    </tr>\n",
              "    <tr>\n",
              "      <th>31357</th>\n",
              "      <td>1554183533</td>\n",
              "      <td>0</td>\n",
              "      <td>22910</td>\n",
              "      <td>62602</td>\n",
              "      <td>1253</td>\n",
              "      <td>12772</td>\n",
              "      <td>29319</td>\n",
              "      <td>0</td>\n",
              "      <td>2</td>\n",
              "    </tr>\n",
              "    <tr>\n",
              "      <th>31358</th>\n",
              "      <td>1554183536</td>\n",
              "      <td>0</td>\n",
              "      <td>22911</td>\n",
              "      <td>62602</td>\n",
              "      <td>1253</td>\n",
              "      <td>12772</td>\n",
              "      <td>29319</td>\n",
              "      <td>0</td>\n",
              "      <td>2</td>\n",
              "    </tr>\n",
              "    <tr>\n",
              "      <th>31359</th>\n",
              "      <td>1554183537</td>\n",
              "      <td>0</td>\n",
              "      <td>22912</td>\n",
              "      <td>198</td>\n",
              "      <td>38266</td>\n",
              "      <td>33649</td>\n",
              "      <td>44594</td>\n",
              "      <td>0</td>\n",
              "      <td>2</td>\n",
              "    </tr>\n",
              "    <tr>\n",
              "      <th>31360</th>\n",
              "      <td>1554183538</td>\n",
              "      <td>0</td>\n",
              "      <td>22913</td>\n",
              "      <td>198</td>\n",
              "      <td>38266</td>\n",
              "      <td>33649</td>\n",
              "      <td>44594</td>\n",
              "      <td>0</td>\n",
              "      <td>2</td>\n",
              "    </tr>\n",
              "    <tr>\n",
              "      <th>31361</th>\n",
              "      <td>1554183541</td>\n",
              "      <td>0</td>\n",
              "      <td>22914</td>\n",
              "      <td>198</td>\n",
              "      <td>38266</td>\n",
              "      <td>33649</td>\n",
              "      <td>44594</td>\n",
              "      <td>0</td>\n",
              "      <td>2</td>\n",
              "    </tr>\n",
              "  </tbody>\n",
              "</table>\n",
              "<p>31362 rows × 9 columns</p>\n",
              "</div>\n",
              "      <button class=\"colab-df-convert\" onclick=\"convertToInteractive('df-57443c22-66dd-4399-baa1-dd776c05bc11')\"\n",
              "              title=\"Convert this dataframe to an interactive table.\"\n",
              "              style=\"display:none;\">\n",
              "        \n",
              "  <svg xmlns=\"http://www.w3.org/2000/svg\" height=\"24px\"viewBox=\"0 0 24 24\"\n",
              "       width=\"24px\">\n",
              "    <path d=\"M0 0h24v24H0V0z\" fill=\"none\"/>\n",
              "    <path d=\"M18.56 5.44l.94 2.06.94-2.06 2.06-.94-2.06-.94-.94-2.06-.94 2.06-2.06.94zm-11 1L8.5 8.5l.94-2.06 2.06-.94-2.06-.94L8.5 2.5l-.94 2.06-2.06.94zm10 10l.94 2.06.94-2.06 2.06-.94-2.06-.94-.94-2.06-.94 2.06-2.06.94z\"/><path d=\"M17.41 7.96l-1.37-1.37c-.4-.4-.92-.59-1.43-.59-.52 0-1.04.2-1.43.59L10.3 9.45l-7.72 7.72c-.78.78-.78 2.05 0 2.83L4 21.41c.39.39.9.59 1.41.59.51 0 1.02-.2 1.41-.59l7.78-7.78 2.81-2.81c.8-.78.8-2.07 0-2.86zM5.41 20L4 18.59l7.72-7.72 1.47 1.35L5.41 20z\"/>\n",
              "  </svg>\n",
              "      </button>\n",
              "      \n",
              "  <style>\n",
              "    .colab-df-container {\n",
              "      display:flex;\n",
              "      flex-wrap:wrap;\n",
              "      gap: 12px;\n",
              "    }\n",
              "\n",
              "    .colab-df-convert {\n",
              "      background-color: #E8F0FE;\n",
              "      border: none;\n",
              "      border-radius: 50%;\n",
              "      cursor: pointer;\n",
              "      display: none;\n",
              "      fill: #1967D2;\n",
              "      height: 32px;\n",
              "      padding: 0 0 0 0;\n",
              "      width: 32px;\n",
              "    }\n",
              "\n",
              "    .colab-df-convert:hover {\n",
              "      background-color: #E2EBFA;\n",
              "      box-shadow: 0px 1px 2px rgba(60, 64, 67, 0.3), 0px 1px 3px 1px rgba(60, 64, 67, 0.15);\n",
              "      fill: #174EA6;\n",
              "    }\n",
              "\n",
              "    [theme=dark] .colab-df-convert {\n",
              "      background-color: #3B4455;\n",
              "      fill: #D2E3FC;\n",
              "    }\n",
              "\n",
              "    [theme=dark] .colab-df-convert:hover {\n",
              "      background-color: #434B5C;\n",
              "      box-shadow: 0px 1px 3px 1px rgba(0, 0, 0, 0.15);\n",
              "      filter: drop-shadow(0px 1px 2px rgba(0, 0, 0, 0.3));\n",
              "      fill: #FFFFFF;\n",
              "    }\n",
              "  </style>\n",
              "\n",
              "      <script>\n",
              "        const buttonEl =\n",
              "          document.querySelector('#df-57443c22-66dd-4399-baa1-dd776c05bc11 button.colab-df-convert');\n",
              "        buttonEl.style.display =\n",
              "          google.colab.kernel.accessAllowed ? 'block' : 'none';\n",
              "\n",
              "        async function convertToInteractive(key) {\n",
              "          const element = document.querySelector('#df-57443c22-66dd-4399-baa1-dd776c05bc11');\n",
              "          const dataTable =\n",
              "            await google.colab.kernel.invokeFunction('convertToInteractive',\n",
              "                                                     [key], {});\n",
              "          if (!dataTable) return;\n",
              "\n",
              "          const docLinkHtml = 'Like what you see? Visit the ' +\n",
              "            '<a target=\"_blank\" href=https://colab.research.google.com/notebooks/data_table.ipynb>data table notebook</a>'\n",
              "            + ' to learn more about interactive tables.';\n",
              "          element.innerHTML = '';\n",
              "          dataTable['output_type'] = 'display_data';\n",
              "          await google.colab.output.renderOutput(dataTable, element);\n",
              "          const docLink = document.createElement('div');\n",
              "          docLink.innerHTML = docLinkHtml;\n",
              "          element.appendChild(docLink);\n",
              "        }\n",
              "      </script>\n",
              "    </div>\n",
              "  </div>\n",
              "  "
            ],
            "text/plain": [
              "               ts  date   time  ...  FC4_Read_Coil  label  type\n",
              "0      1556208840     3   1850  ...          13625      1     1\n",
              "1      1556208841     3   1851  ...          13625      1     1\n",
              "2      1556208842     3   1852  ...          13625      1     1\n",
              "3      1556208844     3   1853  ...          35371      1     1\n",
              "4      1556208846     3   1854  ...          35371      1     1\n",
              "...           ...   ...    ...  ...            ...    ...   ...\n",
              "31357  1554183533     0  22910  ...          29319      0     2\n",
              "31358  1554183536     0  22911  ...          29319      0     2\n",
              "31359  1554183537     0  22912  ...          44594      0     2\n",
              "31360  1554183538     0  22913  ...          44594      0     2\n",
              "31361  1554183541     0  22914  ...          44594      0     2\n",
              "\n",
              "[31362 rows x 9 columns]"
            ]
          },
          "metadata": {},
          "execution_count": 40
        }
      ]
    },
    {
      "cell_type": "code",
      "source": [
        "# Check if \"data\" column is encoded successfully\n",
        "dataset.date.unique()"
      ],
      "metadata": {
        "colab": {
          "base_uri": "https://localhost:8080/"
        },
        "id": "dX5NeIa2dDIZ",
        "outputId": "e25b3bcd-051f-4e53-8ecc-26abf2fb8c68"
      },
      "execution_count": null,
      "outputs": [
        {
          "output_type": "execute_result",
          "data": {
            "text/plain": [
              "array([3, 6, 7, 4, 2, 5, 0, 1])"
            ]
          },
          "metadata": {},
          "execution_count": 41
        }
      ]
    },
    {
      "cell_type": "markdown",
      "source": [
        "## Data Preparation for Model Train and Test"
      ],
      "metadata": {
        "id": "93AjgKxvkQ2W"
      }
    },
    {
      "cell_type": "code",
      "execution_count": null,
      "metadata": {
        "colab": {
          "base_uri": "https://localhost:8080/"
        },
        "id": "2tmfUPFXTkS6",
        "outputId": "fef732b6-f701-40d3-adfc-429768bb892c"
      },
      "outputs": [
        {
          "output_type": "stream",
          "name": "stdout",
          "text": [
            "           ts  date  time  ...  FC4_Read_Coil  label  type\n",
            "0  1556208840     3  1850  ...          13625      1     1\n",
            "1  1556208841     3  1851  ...          13625      1     1\n",
            "2  1556208842     3  1852  ...          13625      1     1\n",
            "3  1556208844     3  1853  ...          35371      1     1\n",
            "4  1556208846     3  1854  ...          35371      1     1\n",
            "\n",
            "[5 rows x 9 columns]\n",
            "Class split in the dataset - Counter({0: 17476, 1: 13886})\n"
          ]
        }
      ],
      "source": [
        "df = pd.DataFrame(dataset)\n",
        "print(df.head(5))\n",
        "\n",
        "# Separate lable column from the overall dataset\n",
        "x = df.drop('label',axis='columns')\n",
        "y = df['label']\n",
        "\n",
        "# Check the classes in the dataset\n",
        "counter = Counter(y)\n",
        "print(\"Class split in the dataset -\", counter)\n",
        "\n",
        "# Save samples and labels into 2 variables \n",
        "train_samples, train_labels = x, y"
      ]
    },
    {
      "cell_type": "code",
      "execution_count": null,
      "metadata": {
        "colab": {
          "base_uri": "https://localhost:8080/"
        },
        "id": "IUoAVVsYqUDJ",
        "outputId": "877ffeb3-10b6-4b23-d807-501185e69eba"
      },
      "outputs": [
        {
          "output_type": "stream",
          "name": "stdout",
          "text": [
            "After Normalizing with MinMax \n",
            "\n",
            "[[0.88775013 0.42857143 0.07839315 ... 0.39328501 0.20790735 0.2       ]\n",
            " [0.88775055 0.42857143 0.07843553 ... 0.39328501 0.20790735 0.2       ]\n",
            " [0.88775096 0.42857143 0.0784779  ... 0.39328501 0.20790735 0.2       ]\n",
            " ...\n",
            " [0.0506426  0.         0.9708886  ... 0.51352919 0.68047121 0.4       ]\n",
            " [0.05064301 0.         0.97093097 ... 0.51352919 0.68047121 0.4       ]\n",
            " [0.05064425 0.         0.97097335 ... 0.51352919 0.68047121 0.4       ]]\n"
          ]
        }
      ],
      "source": [
        "# Data Normalization (MinMax): scale data to make values between 0 and 1\n",
        "scaler = MinMaxScaler().fit(train_samples)\n",
        "scaled_x = scaler.transform(train_samples)\n",
        "pd.DataFrame(scaled_x)\n",
        "\n",
        "print(\"After Normalizing with MinMax \\n\")\n",
        "print(scaled_x)"
      ]
    },
    {
      "cell_type": "code",
      "source": [
        "# Encoding the labels\n",
        "le = LabelEncoder()\n",
        "y_encoded = le.fit_transform(y)\n",
        "y_encoded = np_utils.to_categorical(y_encoded)\n",
        "print(y_encoded)"
      ],
      "metadata": {
        "colab": {
          "base_uri": "https://localhost:8080/"
        },
        "id": "pdjzMH36xSXA",
        "outputId": "46ca5877-c8e7-40c1-9b91-791accb2eaf8"
      },
      "execution_count": null,
      "outputs": [
        {
          "output_type": "stream",
          "name": "stdout",
          "text": [
            "[[0. 1.]\n",
            " [0. 1.]\n",
            " [0. 1.]\n",
            " ...\n",
            " [1. 0.]\n",
            " [1. 0.]\n",
            " [1. 0.]]\n"
          ]
        }
      ]
    },
    {
      "cell_type": "code",
      "source": [
        "# Data split for train and test with 70:30 split with stratified Sampling \n",
        "RANDOM_STATE = 42\n",
        "TEST_SPLIT = 0.3\n",
        "train_samples, test_samples, train_labels, test_labels = train_test_split(\n",
        "    scaled_x, y_encoded, test_size=TEST_SPLIT, random_state=RANDOM_STATE, stratify=y_encoded)\n",
        "print(\"Train Set\", train_samples.shape, train_labels.shape)\n",
        "print(\"Test Set\", test_samples.shape, test_labels.shape)"
      ],
      "metadata": {
        "id": "hBtoY6SLxHa7",
        "colab": {
          "base_uri": "https://localhost:8080/"
        },
        "outputId": "45d86c81-a00d-430e-fddf-355df16a5614"
      },
      "execution_count": null,
      "outputs": [
        {
          "output_type": "stream",
          "name": "stdout",
          "text": [
            "Train Set (21953, 8) (21953, 2)\n",
            "Test Set (9409, 8) (9409, 2)\n"
          ]
        }
      ]
    },
    {
      "cell_type": "markdown",
      "metadata": {
        "id": "j2clJPj0nqIb"
      },
      "source": [
        "### Save Processed Data"
      ]
    },
    {
      "cell_type": "code",
      "execution_count": null,
      "metadata": {
        "id": "kExTsJlXhpQv"
      },
      "outputs": [],
      "source": [
        "# Save processed data using following code if needed\n",
        "# train_samples_df = pd.DataFrame(train_samples)\n",
        "# print(train_samples_df.shape)\n",
        "# test_samples_df = pd.DataFrame(test_samples)\n",
        "# print(test_samples_df.shape)\n",
        "\n",
        "# train_labels_df = pd.DataFrame(train_labels)\n",
        "# print(train_samples_df.shape)\n",
        "# test_labels_df = pd.DataFrame(test_labels)\n",
        "# print(test_labels_df.shape)\n",
        "\n",
        "# for data in [\n",
        "#              [\"scaled_train_samples.csv\", train_samples_df, train_samples.columns.values], \n",
        "#              [\"train_labels.csv\", train_labels_df, train_labels_df.columns.values], \n",
        "#              [\"scaled_test_samples.csv\", test_samples_df, test_samples.columns.values], \n",
        "#              [\"test_labels.csv\", test_labels_df, test_labels_df.columns.values]\n",
        "#              ]:\n",
        "\n",
        "#   path = \"/content/drive/MyDrive/VRES/Epsilon/\" + data[0]\n",
        "#   if exists(path) == False:\n",
        "#     data[1].to_csv(path, header=data[2], index=False)"
      ]
    },
    {
      "cell_type": "markdown",
      "metadata": {
        "id": "exu8IqDZyoBO"
      },
      "source": [
        "## Read Saved CSV"
      ]
    },
    {
      "cell_type": "code",
      "execution_count": null,
      "metadata": {
        "id": "9g-a6R25ymhF"
      },
      "outputs": [],
      "source": [
        "# scaled_train_samples = pd.read_csv(\"/content/drive/MyDrive/VRES/Epsilon/scaled_train_samples.csv\")\n",
        "# train_labels = pd.read_csv(\"/content/drive/MyDrive/VRES/Epsilon/train_labels.csv\")\n",
        "# scaled_test_samples = pd.read_csv(\"/content/drive/MyDrive/VRES/Epsilon/scaled_test_samples.csv\")\n",
        "# test_labels = pd.read_csv(\"/content/drive/MyDrive/VRES/Epsilon/test_labels.csv\")"
      ]
    },
    {
      "cell_type": "markdown",
      "metadata": {
        "id": "0HHo6PPe5Dts"
      },
      "source": [
        "# **Model Architecture and Traning**"
      ]
    },
    {
      "cell_type": "code",
      "execution_count": null,
      "metadata": {
        "id": "i_EPcRv5IsbA"
      },
      "outputs": [],
      "source": [
        "# Model Architecture\n",
        "model = keras.Sequential(\n",
        "    [\n",
        "     keras.layers.Input(shape=(8,)),\n",
        "     keras.layers.Dense(20, activation='tanh'),\n",
        "     keras.layers.Dense(60, activation='tanh'),\n",
        "     keras.layers.Dense(80, activation='tanh'),\n",
        "     keras.layers.Dense(90, activation='tanh'),\n",
        "     keras.layers.Dense(2, activation='sigmoid') \n",
        "    ]\n",
        "  )\n",
        "\n",
        "model.compile(optimizer=tf.keras.optimizers.SGD(learning_rate=0.001), \n",
        "              loss=tf.keras.losses.BinaryCrossentropy(from_logits=True), metrics=['accuracy'])"
      ]
    },
    {
      "cell_type": "code",
      "source": [
        "plot_model(model, to_file='model_plot.png', show_shapes=True, show_layer_names=True)"
      ],
      "metadata": {
        "colab": {
          "base_uri": "https://localhost:8080/",
          "height": 644
        },
        "id": "F8qaQwfdoB2L",
        "outputId": "fe25e81f-b65b-4562-a413-f4fc16877967"
      },
      "execution_count": null,
      "outputs": [
        {
          "output_type": "execute_result",
          "data": {
            "image/png": "[encoded data removed]",
            "text/plain": [
              "<IPython.core.display.Image object>"
            ]
          },
          "metadata": {},
          "execution_count": 49
        }
      ]
    },
    {
      "cell_type": "code",
      "execution_count": null,
      "metadata": {
        "colab": {
          "base_uri": "https://localhost:8080/"
        },
        "id": "Iunw2fePEW75",
        "outputId": "ced8f7f3-5ee3-4fcd-eb5d-c6cabdf29782"
      },
      "outputs": [
        {
          "output_type": "stream",
          "name": "stdout",
          "text": [
            "(None, 8)\n",
            "Model: \"sequential_1\"\n",
            "_________________________________________________________________\n",
            " Layer (type)                Output Shape              Param #   \n",
            "=================================================================\n",
            " dense_5 (Dense)             (None, 20)                180       \n",
            "                                                                 \n",
            " dense_6 (Dense)             (None, 60)                1260      \n",
            "                                                                 \n",
            " dense_7 (Dense)             (None, 80)                4880      \n",
            "                                                                 \n",
            " dense_8 (Dense)             (None, 90)                7290      \n",
            "                                                                 \n",
            " dense_9 (Dense)             (None, 2)                 182       \n",
            "                                                                 \n",
            "=================================================================\n",
            "Total params: 13,792\n",
            "Trainable params: 13,792\n",
            "Non-trainable params: 0\n",
            "_________________________________________________________________\n",
            "None\n"
          ]
        }
      ],
      "source": [
        "# Model summery \n",
        "print(model.input_shape)\n",
        "print(model.summary())"
      ]
    },
    {
      "cell_type": "code",
      "source": [
        "# Model hyperparameters\n",
        "BATCH_SIZE = 32\n",
        "EPOCH = 3\n",
        "VERBOSE = 1\n",
        "VALIDATION_SPLIT = 0.4\n",
        "RANDOM_STATE = 42\n",
        "LEARNING_RATE = 0.001\n",
        "MODEL_PATH = \"/content/drive/MyDrive/VRES/Modbus/model_modbus.h5\""
      ],
      "metadata": {
        "id": "yJUpLhZCooq6"
      },
      "execution_count": null,
      "outputs": []
    },
    {
      "cell_type": "code",
      "source": [
        "# Compile the model\n",
        "model.compile(optimizer=tf.keras.optimizers.SGD(learning_rate=LEARNING_RATE), \n",
        "              loss=tf.keras.losses.BinaryCrossentropy(from_logits=True), metrics=['accuracy'])"
      ],
      "metadata": {
        "id": "P2fyNEo8pi-h"
      },
      "execution_count": null,
      "outputs": []
    },
    {
      "cell_type": "code",
      "execution_count": null,
      "metadata": {
        "colab": {
          "base_uri": "https://localhost:8080/"
        },
        "id": "baX0ACQnLBEH",
        "outputId": "096d7a99-43bf-42df-b669-1aeaff86e1d9"
      },
      "outputs": [
        {
          "output_type": "stream",
          "name": "stdout",
          "text": [
            "Epoch 1/3\n"
          ]
        },
        {
          "output_type": "stream",
          "name": "stderr",
          "text": [
            "/usr/local/lib/python3.7/dist-packages/tensorflow/python/util/dispatch.py:1082: UserWarning: \"`binary_crossentropy` received `from_logits=True`, but the `output` argument was produced by a sigmoid or softmax activation and thus does not represent logits. Was this intended?\"\n",
            "  return dispatch_target(*args, **kwargs)\n"
          ]
        },
        {
          "output_type": "stream",
          "name": "stdout",
          "text": [
            "412/412 [==============================] - 6s 6ms/step - loss: 0.6088 - accuracy: 0.8015 - val_loss: 0.5124 - val_accuracy: 0.9151\n",
            "Epoch 2/3\n",
            "412/412 [==============================] - 2s 6ms/step - loss: 0.4331 - accuracy: 0.9388 - val_loss: 0.3591 - val_accuracy: 0.9573\n",
            "Epoch 3/3\n",
            "412/412 [==============================] - 2s 6ms/step - loss: 0.2955 - accuracy: 0.9759 - val_loss: 0.2409 - val_accuracy: 0.9834\n"
          ]
        },
        {
          "output_type": "execute_result",
          "data": {
            "text/plain": [
              "<keras.callbacks.History at 0x7f7a249531d0>"
            ]
          },
          "metadata": {},
          "execution_count": 24
        }
      ],
      "source": [
        "# Train the model \n",
        "model.fit(x=train_samples, y=train_labels, batch_size=BATCH_SIZE, epochs=EPOCH, \n",
        "          verbose=1, validation_split=VALIDATION_SPLIT, shuffle=True) "
      ]
    },
    {
      "cell_type": "code",
      "execution_count": null,
      "metadata": {
        "id": "SwOFxrQKQGFj"
      },
      "outputs": [],
      "source": [
        "# Save the model\n",
        "if exists(MODEL_PATH) == False:\n",
        "  model.save(MODEL_PATH)"
      ]
    },
    {
      "cell_type": "markdown",
      "source": [
        "## Model Predictions"
      ],
      "metadata": {
        "id": "SUudBl3XnzQ-"
      }
    },
    {
      "cell_type": "code",
      "source": [
        "# Model prediction\n",
        "print(\"Model Evalution:\")\n",
        "print(model.evaluate(test_samples, test_labels))\n",
        "print(\"\\n\")\n",
        "\n",
        "print(\"Modle Prediction...\")    \n",
        "pred_Main1 = model.predict(test_samples)\n",
        "pred_Main = np.round(pred_Main1)\n",
        "print(\"Classification Report: \\n\",classification_report(test_labels, pred_Main))\n",
        "\n",
        "cm = confusion_matrix(test_labels.argmax(axis=1), pred_Main.argmax(axis=1))\n",
        "CM_PLOT_LABLES = ['attack','normal'] # Confusion matrix lables defined here\n",
        "plot_confusion_matrix(cm=cm, classes=CM_PLOT_LABLES, title=\"Modbus Data: Original Data Confusion Matrix\")"
      ],
      "metadata": {
        "colab": {
          "base_uri": "https://localhost:8080/",
          "height": 713
        },
        "id": "WYGp0a2eJu2B",
        "outputId": "87a759cc-e4b7-48dc-eb8c-7a40f46abb96"
      },
      "execution_count": null,
      "outputs": [
        {
          "output_type": "stream",
          "name": "stdout",
          "text": [
            "Model Evalution:\n",
            "295/295 [==============================] - 1s 3ms/step - loss: 0.2438 - accuracy: 0.9810\n",
            "[0.24380145967006683, 0.9809756875038147]\n",
            "\n",
            "\n",
            "Modle Prediction...\n"
          ]
        },
        {
          "output_type": "stream",
          "name": "stderr",
          "text": [
            "/usr/local/lib/python3.7/dist-packages/sklearn/metrics/_classification.py:1318: UndefinedMetricWarning: Precision and F-score are ill-defined and being set to 0.0 in samples with no predicted labels. Use `zero_division` parameter to control this behavior.\n",
            "  _warn_prf(average, modifier, msg_start, len(result))\n"
          ]
        },
        {
          "output_type": "stream",
          "name": "stdout",
          "text": [
            "Classification Report: \n",
            "               precision    recall  f1-score   support\n",
            "\n",
            "           0       0.96      1.00      0.98      5243\n",
            "           1       1.00      0.97      0.98      4166\n",
            "\n",
            "   micro avg       0.98      0.98      0.98      9409\n",
            "   macro avg       0.98      0.98      0.98      9409\n",
            "weighted avg       0.98      0.98      0.98      9409\n",
            " samples avg       0.98      0.98      0.98      9409\n",
            "\n",
            "Confusion Matrix without normalization\n",
            "[[5243    0]\n",
            " [ 194 3972]]\n"
          ]
        },
        {
          "output_type": "display_data",
          "data": {
            "image/png": "[encoded data removed]",
            "text/plain": [
              "<Figure size 432x288 with 2 Axes>"
            ]
          },
          "metadata": {
            "needs_background": "light"
          }
        }
      ]
    },
    {
      "cell_type": "markdown",
      "metadata": {
        "id": "xG_bjwGBj5JK"
      },
      "source": [
        "# **FGSM and Prediction**"
      ]
    },
    {
      "cell_type": "code",
      "execution_count": null,
      "metadata": {
        "id": "BXala-GJGfAo",
        "colab": {
          "base_uri": "https://localhost:8080/"
        },
        "outputId": "bb289b00-a29d-42a6-fe01-ff94c2fe2b5a"
      },
      "outputs": [
        {
          "output_type": "execute_result",
          "data": {
            "text/plain": [
              "<KerasTensor: shape=(None, 8) dtype=float32 (created by layer 'input_1')>"
            ]
          },
          "metadata": {},
          "execution_count": 27
        }
      ],
      "source": [
        "# Load the Model: Load model when we need to use it after restarting runtime. \n",
        "model = load_model(\"/content/drive/MyDrive/VRES/Modbus/model_modbus.h5\")\n",
        "\n",
        "CM_PLOT_LABLES = ['attack','normal'] # Class lables for Confusion Matix\n",
        "\n",
        "# Create a list for saving accuracy\n",
        "adv_acc = []\n",
        "\n",
        "# Check model shape\n",
        "model.layers[-1].output\n",
        "model.input"
      ]
    },
    {
      "cell_type": "code",
      "execution_count": null,
      "metadata": {
        "id": "rHFn4BuD2Q1s",
        "colab": {
          "base_uri": "https://localhost:8080/"
        },
        "outputId": "3aec3bae-06ca-4f5a-de65-5662dfad74aa"
      },
      "outputs": [
        {
          "output_type": "execute_result",
          "data": {
            "text/plain": [
              "<keras.engine.functional.Functional at 0x7f7a2059abd0>"
            ]
          },
          "metadata": {},
          "execution_count": 28
        }
      ],
      "source": [
        "# Logits Model as given in - https://arxiv.org/abs/2104.12426\n",
        "logits_model = tf.keras.Model(model.input, model.layers[-1].output)\n",
        "logits_model"
      ]
    },
    {
      "cell_type": "code",
      "source": [
        "# Convert the Test samples to tensor\n",
        "original_data = test_samples\n",
        "original_data = tf.convert_to_tensor(original_data.reshape((len(test_samples), 8)))\n",
        "original_data"
      ],
      "metadata": {
        "colab": {
          "base_uri": "https://localhost:8080/"
        },
        "id": "TioO7iBuJtFH",
        "outputId": "ad532174-3502-4320-9457-23af4a9bf62b"
      },
      "execution_count": null,
      "outputs": [
        {
          "output_type": "execute_result",
          "data": {
            "text/plain": [
              "<tf.Tensor: shape=(9409, 8), dtype=float64, numpy=\n",
              "array([[9.95612973e-01, 8.57142857e-01, 1.29073266e-01, ...,\n",
              "        2.89126288e-01, 2.02948088e-03, 0.00000000e+00],\n",
              "       [1.41770335e-04, 1.00000000e+00, 9.93643798e-01, ...,\n",
              "        6.64860740e-01, 2.50724815e-01, 4.00000000e-01],\n",
              "       [1.24410702e-04, 1.00000000e+00, 9.91864062e-01, ...,\n",
              "        4.70980542e-01, 3.34299753e-01, 4.00000000e-01],\n",
              "       ...,\n",
              "       [4.30374232e-02, 0.00000000e+00, 6.77274461e-01, ...,\n",
              "        7.65906143e-01, 7.93633839e-02, 4.00000000e-01],\n",
              "       [4.47105612e-02, 0.00000000e+00, 7.81982287e-01, ...,\n",
              "        5.00312858e-01, 1.06814783e-03, 4.00000000e-01],\n",
              "       [8.88170071e-01, 4.28571429e-01, 1.07123183e-01, ...,\n",
              "        1.75780237e-01, 8.25830866e-02, 2.00000000e-01]])>"
            ]
          },
          "metadata": {},
          "execution_count": 29
        }
      ]
    },
    {
      "cell_type": "code",
      "source": [
        "# fast_gradient_method with varing Epsilon value \n",
        "\n",
        "# Epsilon value: EPS\n",
        "EPS= 0 \n",
        "\n",
        "# Generate adversarial samples\n",
        "adv_data_0 = fast_gradient_method(logits_model, original_data, EPS, np.inf, targeted=False)\n",
        "\n",
        "print(\"Model Evaluation : \")\n",
        "print(model.evaluate(adv_data_0, test_labels))\n",
        "\n",
        "pred0 = model.predict(adv_data_0)\n",
        "pred0 = np.round(pred0)\n",
        "print(\"Classification Report: \\n\", classification_report(test_labels, pred0))\n",
        "\n",
        "# The confusion matrix\n",
        "cm0 = confusion_matrix(test_labels.argmax(axis=1), pred0.argmax(axis=1))\n",
        "plot_confusion_matrix(cm=cm0, classes=CM_PLOT_LABLES, title=\"Modbus Data: Confusion Matrix when Epsilon = 0\")"
      ],
      "metadata": {
        "colab": {
          "base_uri": "https://localhost:8080/",
          "height": 661
        },
        "outputId": "14d4d135-a200-469f-a1df-f266a5eab646",
        "id": "8z9GqGVO8a90"
      },
      "execution_count": null,
      "outputs": [
        {
          "output_type": "stream",
          "name": "stdout",
          "text": [
            "Model Evaluation : \n",
            " 18/295 [>.............................] - ETA: 0s - loss: 0.3887 - accuracy: 0.9861 "
          ]
        },
        {
          "output_type": "stream",
          "name": "stderr",
          "text": [
            "/usr/local/lib/python3.7/dist-packages/tensorflow/python/util/dispatch.py:1082: UserWarning: \"`binary_crossentropy` received `from_logits=True`, but the `output` argument was produced by a sigmoid or softmax activation and thus does not represent logits. Was this intended?\"\n",
            "  return dispatch_target(*args, **kwargs)\n"
          ]
        },
        {
          "output_type": "stream",
          "name": "stdout",
          "text": [
            "295/295 [==============================] - 1s 3ms/step - loss: 0.3839 - accuracy: 0.9784\n",
            "[0.383854478597641, 0.9784249067306519]\n",
            "Classification Report: \n",
            "               precision    recall  f1-score   support\n",
            "\n",
            "           0       0.94      1.00      0.97      5243\n",
            "           1       1.00      0.98      0.99      4166\n",
            "\n",
            "   micro avg       0.96      0.99      0.98      9409\n",
            "   macro avg       0.97      0.99      0.98      9409\n",
            "weighted avg       0.97      0.99      0.98      9409\n",
            " samples avg       0.98      0.99      0.98      9409\n",
            "\n",
            "Confusion Matrix without normalization\n",
            "[[5243    0]\n",
            " [ 351 3815]]\n"
          ]
        },
        {
          "output_type": "display_data",
          "data": {
            "image/png": "[encoded data removed]",
            "text/plain": [
              "<Figure size 432x288 with 2 Axes>"
            ]
          },
          "metadata": {
            "needs_background": "light"
          }
        }
      ]
    },
    {
      "cell_type": "code",
      "source": [
        "adv_acc.append(accuracy_score(test_labels, pred0)) # Saving the prediction accuracy"
      ],
      "metadata": {
        "id": "Mmqww3GNWzq2"
      },
      "execution_count": null,
      "outputs": []
    },
    {
      "cell_type": "markdown",
      "source": [
        "\n",
        "\n",
        "---\n",
        "\n",
        "\n",
        "\n",
        "---\n",
        "\n"
      ],
      "metadata": {
        "id": "JLGGUlLA9Msu"
      }
    },
    {
      "cell_type": "code",
      "source": [
        "# fast_gradient_method with varing Epsilon value \n",
        "\n",
        "# Epsilon value: EPS\n",
        "EPS= 0.2\n",
        "\n",
        "# Generate adversarial samples\n",
        "adv_data_1 = fast_gradient_method(logits_model, original_data, EPS, np.inf, targeted=False)\n",
        "\n",
        "print(\"Model Evaluation : \")\n",
        "print(model.evaluate(adv_data_1, test_labels))\n",
        "\n",
        "pred1 = model.predict(adv_data_1)\n",
        "pred1 = np.round(pred1)\n",
        "print(\"Classification Report: \\n\", classification_report(test_labels, pred1))\n",
        "\n",
        "# The confusion matrix\n",
        "cm1 = confusion_matrix(test_labels.argmax(axis=1), pred1.argmax(axis=1))\n",
        "plot_confusion_matrix(cm=cm1, classes=CM_PLOT_LABLES, title=\"Modbus Data:Confusion Matrix when Epsilon = 0.2\")"
      ],
      "metadata": {
        "colab": {
          "base_uri": "https://localhost:8080/",
          "height": 661
        },
        "id": "hhl-O4rEn18t",
        "outputId": "f03c9589-35ac-4e69-b544-c7fa1cd502f4"
      },
      "execution_count": null,
      "outputs": [
        {
          "output_type": "stream",
          "name": "stdout",
          "text": [
            "Model Evaluation : \n",
            "295/295 [==============================] - 1s 3ms/step - loss: 0.6390 - accuracy: 0.6993\n",
            "[0.638979434967041, 0.6993304491043091]\n"
          ]
        },
        {
          "output_type": "stream",
          "name": "stderr",
          "text": [
            "/usr/local/lib/python3.7/dist-packages/sklearn/metrics/_classification.py:1318: UndefinedMetricWarning: Precision and F-score are ill-defined and being set to 0.0 in samples with no predicted labels. Use `zero_division` parameter to control this behavior.\n",
            "  _warn_prf(average, modifier, msg_start, len(result))\n"
          ]
        },
        {
          "output_type": "stream",
          "name": "stdout",
          "text": [
            "Classification Report: \n",
            "               precision    recall  f1-score   support\n",
            "\n",
            "           0       0.65      0.65      0.65      5243\n",
            "           1       0.85      0.62      0.72      4166\n",
            "\n",
            "   micro avg       0.72      0.64      0.68      9409\n",
            "   macro avg       0.75      0.64      0.69      9409\n",
            "weighted avg       0.74      0.64      0.68      9409\n",
            " samples avg       0.62      0.64      0.63      9409\n",
            "\n",
            "Confusion Matrix without normalization\n",
            "[[4796  447]\n",
            " [1944 2222]]\n"
          ]
        },
        {
          "output_type": "display_data",
          "data": {
            "image/png": "[encoded data removed]",
            "text/plain": [
              "<Figure size 432x288 with 2 Axes>"
            ]
          },
          "metadata": {
            "needs_background": "light"
          }
        }
      ]
    },
    {
      "cell_type": "code",
      "source": [
        "adv_acc.append(accuracy_score(test_labels, pred1))"
      ],
      "metadata": {
        "id": "OdvgCH119pb9"
      },
      "execution_count": null,
      "outputs": []
    },
    {
      "cell_type": "markdown",
      "source": [
        "\n",
        "\n",
        "---\n",
        "\n",
        "\n",
        "\n",
        "---\n",
        "\n"
      ],
      "metadata": {
        "id": "7aFAZl2pArNs"
      }
    },
    {
      "cell_type": "code",
      "source": [
        "# fast_gradient_method with varing Epsilon value \n",
        "\n",
        "# Epsilon value: EPS\n",
        "EPS= 0.4\n",
        "\n",
        "# Generate adversarial samples\n",
        "adv_data_2 = fast_gradient_method(logits_model, original_data, EPS, np.inf, targeted=False)\n",
        "\n",
        "print(\"Model Evaluation : \")\n",
        "print(model.evaluate(adv_data_2, test_labels))\n",
        "\n",
        "pred2 = model.predict(adv_data_2)\n",
        "pred2 = np.round(pred2)\n",
        "print(\"Classification Report: \\n\", classification_report(test_labels, pred2))\n",
        "\n",
        "# The confusion matrix\n",
        "cm2 = confusion_matrix(test_labels.argmax(axis=1), pred2.argmax(axis=1))\n",
        "plot_confusion_matrix(cm=cm2, classes=CM_PLOT_LABLES, title=\"Modbus Data: Confusion Matrix when Epsilon = 0.4\")"
      ],
      "metadata": {
        "colab": {
          "base_uri": "https://localhost:8080/",
          "height": 661
        },
        "id": "bLnioF1b9-yD",
        "outputId": "0f2cbd9b-7f76-4b17-e320-af97a398a750"
      },
      "execution_count": null,
      "outputs": [
        {
          "output_type": "stream",
          "name": "stdout",
          "text": [
            "Model Evaluation : \n",
            "295/295 [==============================] - 1s 3ms/step - loss: 0.9847 - accuracy: 0.0368\n",
            "[0.9846563935279846, 0.03677330166101456]\n"
          ]
        },
        {
          "output_type": "stream",
          "name": "stderr",
          "text": [
            "/usr/local/lib/python3.7/dist-packages/sklearn/metrics/_classification.py:1318: UndefinedMetricWarning: Precision and F-score are ill-defined and being set to 0.0 in samples with no predicted labels. Use `zero_division` parameter to control this behavior.\n",
            "  _warn_prf(average, modifier, msg_start, len(result))\n"
          ]
        },
        {
          "output_type": "stream",
          "name": "stdout",
          "text": [
            "Classification Report: \n",
            "               precision    recall  f1-score   support\n",
            "\n",
            "           0       0.00      0.00      0.00      5243\n",
            "           1       0.05      0.05      0.05      4166\n",
            "\n",
            "   micro avg       0.03      0.03      0.03      9409\n",
            "   macro avg       0.03      0.03      0.03      9409\n",
            "weighted avg       0.02      0.03      0.02      9409\n",
            " samples avg       0.03      0.03      0.03      9409\n",
            "\n",
            "Confusion Matrix without normalization\n",
            "[[ 806 4437]\n",
            " [3948  218]]\n"
          ]
        },
        {
          "output_type": "display_data",
          "data": {
            "image/png": "[encoded data removed]",
            "text/plain": [
              "<Figure size 432x288 with 2 Axes>"
            ]
          },
          "metadata": {
            "needs_background": "light"
          }
        }
      ]
    },
    {
      "cell_type": "code",
      "source": [
        "adv_acc.append(accuracy_score(test_labels, pred2))"
      ],
      "metadata": {
        "id": "mcrssf0HAqUZ"
      },
      "execution_count": null,
      "outputs": []
    },
    {
      "cell_type": "markdown",
      "source": [
        "\n",
        "\n",
        "---\n",
        "\n",
        "\n",
        "\n",
        "---\n",
        "\n"
      ],
      "metadata": {
        "id": "v0zRHovpAuMw"
      }
    },
    {
      "cell_type": "code",
      "source": [
        "# fast_gradient_method with varing Epsilon value \n",
        "\n",
        "# Epsilon value: EPS\n",
        "EPS= 0.6\n",
        "\n",
        "# Generate adversarial samples\n",
        "adv_data_3 = fast_gradient_method(logits_model, original_data, EPS, np.inf, targeted=False)\n",
        "\n",
        "print(\"Model Evaluation : \")\n",
        "print(model.evaluate(adv_data_3, test_labels))\n",
        "\n",
        "pred3 = model.predict(adv_data_3)\n",
        "pred3 = np.round(pred3)\n",
        "print(\"Classification Report: \\n\", classification_report(test_labels, pred3))\n",
        "\n",
        "# The confusion matrix\n",
        "cm3 = confusion_matrix(test_labels.argmax(axis=1), pred3.argmax(axis=1))\n",
        "plot_confusion_matrix(cm=cm3, classes=CM_PLOT_LABLES, title=\"Modbus Data:Confusion Matrix when Epsilon = 0.6\")"
      ],
      "metadata": {
        "colab": {
          "base_uri": "https://localhost:8080/",
          "height": 661
        },
        "id": "yMITQeSk-RGT",
        "outputId": "56fb0175-e679-4e9b-b1e8-29ce039c68c6"
      },
      "execution_count": null,
      "outputs": [
        {
          "output_type": "stream",
          "name": "stdout",
          "text": [
            "Model Evaluation : \n",
            "295/295 [==============================] - 1s 3ms/step - loss: 1.3223 - accuracy: 0.0216\n",
            "[1.3222792148590088, 0.021575087681412697]\n"
          ]
        },
        {
          "output_type": "stream",
          "name": "stderr",
          "text": [
            "/usr/local/lib/python3.7/dist-packages/sklearn/metrics/_classification.py:1318: UndefinedMetricWarning: Precision and F-score are ill-defined and being set to 0.0 in samples with no predicted labels. Use `zero_division` parameter to control this behavior.\n",
            "  _warn_prf(average, modifier, msg_start, len(result))\n"
          ]
        },
        {
          "output_type": "stream",
          "name": "stdout",
          "text": [
            "Classification Report: \n",
            "               precision    recall  f1-score   support\n",
            "\n",
            "           0       0.00      0.00      0.00      5243\n",
            "           1       0.04      0.05      0.04      4166\n",
            "\n",
            "   micro avg       0.02      0.02      0.02      9409\n",
            "   macro avg       0.02      0.02      0.02      9409\n",
            "weighted avg       0.02      0.02      0.02      9409\n",
            " samples avg       0.02      0.02      0.02      9409\n",
            "\n",
            "Confusion Matrix without normalization\n",
            "[[   0 5243]\n",
            " [3963  203]]\n"
          ]
        },
        {
          "output_type": "display_data",
          "data": {
            "image/png": "[encoded data removed]",
            "text/plain": [
              "<Figure size 432x288 with 2 Axes>"
            ]
          },
          "metadata": {
            "needs_background": "light"
          }
        }
      ]
    },
    {
      "cell_type": "code",
      "source": [
        "adv_acc.append(accuracy_score(test_labels, pred3))"
      ],
      "metadata": {
        "id": "EHvRzP_DA2Dh"
      },
      "execution_count": null,
      "outputs": []
    },
    {
      "cell_type": "markdown",
      "source": [
        "\n",
        "\n",
        "---\n",
        "\n",
        "\n",
        "\n",
        "---\n",
        "\n"
      ],
      "metadata": {
        "id": "UJUQofBxA56T"
      }
    },
    {
      "cell_type": "code",
      "source": [
        "# fast_gradient_method with varing Epsilon value \n",
        "\n",
        "# Epsilon value: EPS\n",
        "EPS= 0.8\n",
        "\n",
        "# Generate adversarial samples\n",
        "adv_data_4 = fast_gradient_method(logits_model, original_data, EPS, np.inf, targeted=False)\n",
        "\n",
        "print(\"Model Evaluation : \")\n",
        "print(model.evaluate(adv_data_4, test_labels))\n",
        "\n",
        "pred4 = model.predict(adv_data_4)\n",
        "pred4 = np.round(pred4)\n",
        "print(\"Classification Report: \\n\", classification_report(test_labels, pred4))\n",
        "\n",
        "# The confusion matrix\n",
        "cm4 = confusion_matrix(test_labels.argmax(axis=1), pred4.argmax(axis=1))\n",
        "plot_confusion_matrix(cm=cm4, classes=CM_PLOT_LABLES, title=\"Modbus Data:Confusion Matrix when Epsilon = 0.8\")"
      ],
      "metadata": {
        "colab": {
          "base_uri": "https://localhost:8080/",
          "height": 606
        },
        "id": "4jakBmCZA_Z1",
        "outputId": "3789157d-cb2c-44c6-b419-a83e83319ea2"
      },
      "execution_count": null,
      "outputs": [
        {
          "output_type": "stream",
          "name": "stdout",
          "text": [
            "Model Evaluation : \n",
            "295/295 [==============================] - 1s 3ms/step - loss: 1.5894 - accuracy: 0.0216\n",
            "[1.5893570184707642, 0.021575087681412697]\n",
            "Classification Report: \n",
            "               precision    recall  f1-score   support\n",
            "\n",
            "           0       0.00      0.00      0.00      5243\n",
            "           1       0.04      0.05      0.04      4166\n",
            "\n",
            "   micro avg       0.02      0.02      0.02      9409\n",
            "   macro avg       0.02      0.02      0.02      9409\n",
            "weighted avg       0.02      0.02      0.02      9409\n",
            " samples avg       0.02      0.02      0.02      9409\n",
            "\n",
            "Confusion Matrix without normalization\n",
            "[[   0 5243]\n",
            " [3963  203]]\n"
          ]
        },
        {
          "output_type": "display_data",
          "data": {
            "image/png": "[encoded data removed]",
            "text/plain": [
              "<Figure size 432x288 with 2 Axes>"
            ]
          },
          "metadata": {
            "needs_background": "light"
          }
        }
      ]
    },
    {
      "cell_type": "code",
      "source": [
        "adv_acc.append(accuracy_score(test_labels, pred4))"
      ],
      "metadata": {
        "id": "5bqn7N2dBH2J"
      },
      "execution_count": null,
      "outputs": []
    },
    {
      "cell_type": "markdown",
      "source": [
        "\n",
        "\n",
        "---\n",
        "\n",
        "\n",
        "\n",
        "---\n",
        "\n"
      ],
      "metadata": {
        "id": "_eDfIqbCBIds"
      }
    },
    {
      "cell_type": "code",
      "source": [
        "# fast_gradient_method with varing Epsilon value \n",
        "\n",
        "# Epsilon value: EPS\n",
        "EPS = 1\n",
        "\n",
        "# Generate adversarial samples\n",
        "adv_data_5 = fast_gradient_method(logits_model, original_data, EPS, np.inf, targeted=False)\n",
        "\n",
        "print(\"Model Evaluation : \")\n",
        "print(model.evaluate(adv_data_5, test_labels))\n",
        "\n",
        "pred5 = model.predict(adv_data_5)\n",
        "pred5 = np.round(pred5)\n",
        "print(\"Classification Report: \\n\", classification_report(test_labels, pred5))\n",
        "\n",
        "# The confusion matrix\n",
        "cm5 = confusion_matrix(test_labels.argmax(axis=1), pred5.argmax(axis=1))\n",
        "plot_confusion_matrix(cm=cm5, classes=CM_PLOT_LABLES, title=\"Modbus Data:Confusion Matrix when Epsilon = 1\")"
      ],
      "metadata": {
        "colab": {
          "base_uri": "https://localhost:8080/",
          "height": 606
        },
        "id": "B_YHIsdTBMH6",
        "outputId": "bebd962d-b442-435e-9d07-03bcdbdb15e9"
      },
      "execution_count": null,
      "outputs": [
        {
          "output_type": "stream",
          "name": "stdout",
          "text": [
            "Model Evaluation : \n",
            "295/295 [==============================] - 1s 3ms/step - loss: 1.7794 - accuracy: 0.0216\n",
            "[1.779352068901062, 0.021575087681412697]\n",
            "Classification Report: \n",
            "               precision    recall  f1-score   support\n",
            "\n",
            "           0       0.00      0.00      0.00      5243\n",
            "           1       0.04      0.05      0.04      4166\n",
            "\n",
            "   micro avg       0.02      0.02      0.02      9409\n",
            "   macro avg       0.02      0.02      0.02      9409\n",
            "weighted avg       0.02      0.02      0.02      9409\n",
            " samples avg       0.02      0.02      0.02      9409\n",
            "\n",
            "Confusion Matrix without normalization\n",
            "[[   0 5243]\n",
            " [3963  203]]\n"
          ]
        },
        {
          "output_type": "display_data",
          "data": {
            "image/png": "[encoded data removed]",
            "text/plain": [
              "<Figure size 432x288 with 2 Axes>"
            ]
          },
          "metadata": {
            "needs_background": "light"
          }
        }
      ]
    },
    {
      "cell_type": "code",
      "source": [
        "adv_acc.append(accuracy_score(test_labels, pred5))"
      ],
      "metadata": {
        "id": "j0yXc6FzBXhn"
      },
      "execution_count": null,
      "outputs": []
    },
    {
      "cell_type": "markdown",
      "source": [
        "# **Epsilon Value VS. Accuracy**"
      ],
      "metadata": {
        "id": "qKY7Hxuc0PzI"
      }
    },
    {
      "cell_type": "code",
      "source": [
        "plt.plot(np.linspace(0, 1, 6, True), adv_acc, color='#ffa64d')\n",
        "plt.title('Modbus Data Accuracy VS. Epsilon Values')\n",
        "plt.xlabel('Epsilon')\n",
        "plt.ylabel('Accuracy')\n",
        "plt.show()"
      ],
      "metadata": {
        "colab": {
          "base_uri": "https://localhost:8080/",
          "height": 295
        },
        "id": "_i3FR_LF8-JI",
        "outputId": "d0b58d49-3c45-47dc-c562-b7fcb2c39010"
      },
      "execution_count": null,
      "outputs": [
        {
          "output_type": "display_data",
          "data": {
            "image/png": "[encoded data removed]",
            "text/plain": [
              "<Figure size 432x288 with 1 Axes>"
            ]
          },
          "metadata": {
            "needs_background": "light"
          }
        }
      ]
    },
    {
      "cell_type": "markdown",
      "source": [
        "# Retrain Model \n",
        "Retrain model with samples including various percentage of adversarial samples."
      ],
      "metadata": {
        "id": "iylyagd97D8b"
      }
    },
    {
      "cell_type": "markdown",
      "source": [
        "## Experiment 1"
      ],
      "metadata": {
        "id": "FLaRRVZ8OUn4"
      }
    },
    {
      "cell_type": "markdown",
      "source": [
        "We have 70% for training and 30% for testing. Now we are going to split the 70% into 60% and 10%, and use the 10% to generate adversarial samples. "
      ],
      "metadata": {
        "id": "FdKT7RERzi6_"
      }
    },
    {
      "cell_type": "code",
      "source": [
        "# Retain from \"FGSM and Prediction\"\n",
        "CM_PLOT_LABLES = ['attack','normal'] # Class lables for Confusion Matix"
      ],
      "metadata": {
        "id": "-1XdfQIeGxM1"
      },
      "execution_count": null,
      "outputs": []
    },
    {
      "cell_type": "code",
      "source": [
        "# Logits Model as given in - https://arxiv.org/abs/2104.12426\n",
        "logits_model = tf.keras.Model(model.input, model.layers[-1].output)\n",
        "logits_model"
      ],
      "metadata": {
        "colab": {
          "base_uri": "https://localhost:8080/"
        },
        "id": "k9O2OIYzGKgg",
        "outputId": "82de9059-0850-444c-ba64-21b4a01fa1e8"
      },
      "execution_count": null,
      "outputs": [
        {
          "output_type": "execute_result",
          "data": {
            "text/plain": [
              "<keras.engine.functional.Functional at 0x7f7fd05ac610>"
            ]
          },
          "metadata": {},
          "execution_count": 54
        }
      ]
    },
    {
      "cell_type": "code",
      "source": [
        "# Parameters\n",
        "EPS = 1 # Epsilon Value\n",
        "RANDOM_STATE = 42\n",
        "TRAIN_ADVERSERIAL_SIZE = 0.1\n",
        "# TEST_ADVERSERIAL_SIZE = 1.0\n",
        "\n",
        "# Adding adverserial samples to train set \n",
        "\n",
        "norm_samples1, adv_samples1, norm_labels1, adv_labels1 = train_test_split(\n",
        "    train_samples, train_labels, test_size=TRAIN_ADVERSERIAL_SIZE, \n",
        "    random_state=RANDOM_STATE, stratify=train_labels) # Making the train and adverserial sample split \n",
        "\n",
        "original_data = adv_samples1.copy()\n",
        "original_data = tf.convert_to_tensor(original_data.reshape((len(adv_samples1), 8))) # Convert to part of train samples to tensor\n",
        "\n",
        "adv_samples1 = fast_gradient_method(logits_model, original_data,EPS, np.inf) # Run fast_gradient_method on the tensor train sample \n",
        "\n",
        "# Concatenate split train data\n",
        "exp_train_samples1 = tf.concat((norm_samples1, adv_samples1), 0)\n",
        "exp_train_labels1 = np.concatenate((norm_labels1, adv_labels1), axis=0)\n",
        "exp_train_samples1 = exp_train_samples1.numpy() # Convert to numpy for shuffling \n",
        "\n",
        "# Shuffle train data\n",
        "exp_train_samples1, exp_train_labels1 = shuffle(exp_train_samples1, \n",
        "                                                exp_train_labels1, random_state=RANDOM_STATE)\n",
        "\n",
        "# # Add Adverserial Samples to test set \n",
        "# norm_samples, adv_samples, norm_labels, adv_labels = train_test_split(\n",
        "#     test_samples, test_labels, test_size=TEST_ADVERSERIAL_SIZE, \n",
        "#     random_state=RANDOM_STATE, stratify=test_labels) # Making the train and adverserial sample split \n",
        "\n",
        "# original_data = adv_samples.copy()\n",
        "# original_data = tf.convert_to_tensor(original_data.reshape((len(adv_samples), 8))) # Convert to part of test samples to tensor\n",
        "\n",
        "# adv_samples1 = fast_gradient_method(logits_model, original_data, EPS, np.inf) # Run fast_gradient_method on the tensor test sample \n",
        "\n",
        "# # Concatenate split test data\n",
        "# exp_test_samples = tf.concat((norm_samples, adv_samples), 0)\n",
        "# exp_test_labels = tf.concat((norm_labels, adv_labels), 0)\n",
        "# exp_test_samples = exp_test_samples.numpy() # Convert to numpy for shuffling \n",
        "# exp_test_labels = exp_test_labels.numpy()\n",
        "\n",
        "\n",
        "# Add Adverserial Samples to test set \n",
        "adv_samples1, adv_labels1 = test_samples, test_labels # Making the train and adverserial sample split \n",
        "\n",
        "original_data = adv_samples1.copy()\n",
        "original_data = tf.convert_to_tensor(original_data.reshape((len(adv_samples1), 8))) # Convert to part of test samples to tensor\n",
        "\n",
        "adv_samples1 = fast_gradient_method(logits_model, original_data, EPS, np.inf) # Run fast_gradient_method on the tensor test sample \n",
        "\n",
        "# Convert to numpy for shuffling\n",
        "exp_test_samples1 = adv_samples1.numpy()  \n",
        "exp_test_labels1 = adv_labels1.copy()\n",
        "\n",
        "# Shuffle test data\n",
        "exp_test_samples, exp_test_labels = shuffle(exp_test_samples1, \n",
        "                                            exp_test_labels1, random_state=RANDOM_STATE)"
      ],
      "metadata": {
        "id": "jsd9OXzVBu2_"
      },
      "execution_count": null,
      "outputs": []
    },
    {
      "cell_type": "code",
      "source": [
        "# Convert test and train samples to tensor\n",
        "exp_train_samples1 = tf.convert_to_tensor(exp_train_samples1)\n",
        "exp_test_samples1 = tf.convert_to_tensor(exp_test_samples)\n",
        "\n",
        "print(\"Train Samples - \", exp_train_samples1.shape, exp_train_labels1.shape)\n",
        "print(\"Test Samples - \", exp_test_samples1.shape, exp_test_labels.shape)"
      ],
      "metadata": {
        "colab": {
          "base_uri": "https://localhost:8080/"
        },
        "id": "JQSkQKP8Frn_",
        "outputId": "59eceb40-c69d-443d-8ee2-85cebfadab90"
      },
      "execution_count": null,
      "outputs": [
        {
          "output_type": "stream",
          "name": "stdout",
          "text": [
            "Train Samples -  (21953, 8) (21953, 2)\n",
            "Test Samples -  (9409, 8) (9409, 2)\n"
          ]
        }
      ]
    },
    {
      "cell_type": "code",
      "source": [
        "# Model training\n",
        "# Model hyperparameters\n",
        "BATCH_SIZE = 32\n",
        "EPOCH = 3\n",
        "VERBOSE = 1\n",
        "VALIDATION_SPLIT = 0.4\n",
        "\n",
        "model.fit(x=exp_train_samples1, y=exp_train_labels1, batch_size=BATCH_SIZE, epochs=EPOCH, \n",
        "          verbose=1, validation_split=VALIDATION_SPLIT, shuffle=True)"
      ],
      "metadata": {
        "colab": {
          "base_uri": "https://localhost:8080/"
        },
        "id": "NfZE3n-95AcF",
        "outputId": "e6a4129a-d569-4205-bc9a-f4b22ea3e28a"
      },
      "execution_count": null,
      "outputs": [
        {
          "output_type": "stream",
          "name": "stdout",
          "text": [
            "Epoch 1/3\n"
          ]
        },
        {
          "output_type": "stream",
          "name": "stderr",
          "text": [
            "/usr/local/lib/python3.7/dist-packages/tensorflow/python/util/dispatch.py:1082: UserWarning: \"`binary_crossentropy` received `from_logits=True`, but the `output` argument was produced by a sigmoid or softmax activation and thus does not represent logits. Was this intended?\"\n",
            "  return dispatch_target(*args, **kwargs)\n"
          ]
        },
        {
          "output_type": "stream",
          "name": "stdout",
          "text": [
            "412/412 [==============================] - 2s 5ms/step - loss: 0.7138 - accuracy: 0.4678 - val_loss: 0.6750 - val_accuracy: 0.5823\n",
            "Epoch 2/3\n",
            "412/412 [==============================] - 2s 4ms/step - loss: 0.6431 - accuracy: 0.6772 - val_loss: 0.6114 - val_accuracy: 0.7765\n",
            "Epoch 3/3\n",
            "412/412 [==============================] - 2s 5ms/step - loss: 0.5788 - accuracy: 0.8245 - val_loss: 0.5463 - val_accuracy: 0.8574\n"
          ]
        },
        {
          "output_type": "execute_result",
          "data": {
            "text/plain": [
              "<keras.callbacks.History at 0x7f7fd0563c10>"
            ]
          },
          "metadata": {},
          "execution_count": 57
        }
      ]
    },
    {
      "cell_type": "markdown",
      "source": [
        "Predict after fitting mixed data to the model"
      ],
      "metadata": {
        "id": "OiEPRjM38Cg1"
      }
    },
    {
      "cell_type": "code",
      "source": [
        "# Predict after fitting mixed data to the model\n",
        "print(\"Model Evaluation .. \")\n",
        "print(model.evaluate(exp_test_samples, exp_test_labels))\n",
        "\n",
        "print(\"Model Prediction....\")\n",
        "exp_pred1 = model.predict(exp_test_samples)\n",
        "exp_pred1 = np.round(exp_pred1)\n",
        "\n",
        "print(\"Classification Report: \\n\",classification_report(exp_test_labels, exp_pred1))\n",
        "exp1= confusion_matrix(exp_test_labels.argmax(axis=1), exp_pred1.argmax(axis=1))\n",
        "plot_confusion_matrix(cm=exp1, classes=CM_PLOT_LABLES, title=\"Modbus Data: Experiment 1 Confusion Matrix, Epsilion=1.0\")"
      ],
      "metadata": {
        "colab": {
          "base_uri": "https://localhost:8080/",
          "height": 678
        },
        "id": "PKRoyFOw8BxA",
        "outputId": "ace78f86-835a-4484-bb0b-33660e8fc3ad"
      },
      "execution_count": null,
      "outputs": [
        {
          "output_type": "stream",
          "name": "stdout",
          "text": [
            "Model Evaluation .. \n",
            "295/295 [==============================] - 1s 3ms/step - loss: 0.7033 - accuracy: 0.5994\n",
            "[0.7033448815345764, 0.5994260907173157]\n",
            "Model Prediction....\n"
          ]
        },
        {
          "output_type": "stream",
          "name": "stderr",
          "text": [
            "/usr/local/lib/python3.7/dist-packages/sklearn/metrics/_classification.py:1318: UndefinedMetricWarning: Precision and F-score are ill-defined and being set to 0.0 in samples with no predicted labels. Use `zero_division` parameter to control this behavior.\n",
            "  _warn_prf(average, modifier, msg_start, len(result))\n"
          ]
        },
        {
          "output_type": "stream",
          "name": "stdout",
          "text": [
            "Classification Report: \n",
            "               precision    recall  f1-score   support\n",
            "\n",
            "           0       0.61      0.85      0.71      5243\n",
            "           1       0.54      0.34      0.42      4166\n",
            "\n",
            "   micro avg       0.60      0.62      0.61      9409\n",
            "   macro avg       0.58      0.59      0.56      9409\n",
            "weighted avg       0.58      0.62      0.58      9409\n",
            " samples avg       0.58      0.62      0.59      9409\n",
            "\n",
            "Confusion Matrix without normalization\n",
            "[[4681  562]\n",
            " [2936 1230]]\n"
          ]
        },
        {
          "output_type": "display_data",
          "data": {
            "image/png": "[encoded data removed]",
            "text/plain": [
              "<Figure size 432x288 with 2 Axes>"
            ]
          },
          "metadata": {
            "needs_background": "light"
          }
        }
      ]
    },
    {
      "cell_type": "markdown",
      "source": [
        "## Experiment 2"
      ],
      "metadata": {
        "id": "KltazxbVOgxV"
      }
    },
    {
      "cell_type": "code",
      "source": [
        "# Retain from \"FGSM and Prediction\"\n",
        "CM_PLOT_LABLES = ['attack','normal'] # Class lables for Confusion Matix"
      ],
      "metadata": {
        "id": "R15pBPpXHNaX"
      },
      "execution_count": null,
      "outputs": []
    },
    {
      "cell_type": "code",
      "source": [
        "# Logits Model as given in - https://arxiv.org/abs/2104.12426\n",
        "logits_model = tf.keras.Model(model.input, model.layers[-1].output)\n",
        "logits_model"
      ],
      "metadata": {
        "colab": {
          "base_uri": "https://localhost:8080/"
        },
        "id": "Hhy2Z-IzHh-x",
        "outputId": "38a38c6f-0676-4554-b85e-287ce78f38a1"
      },
      "execution_count": null,
      "outputs": [
        {
          "output_type": "execute_result",
          "data": {
            "text/plain": [
              "<keras.engine.functional.Functional at 0x7f7a2181ac50>"
            ]
          },
          "metadata": {},
          "execution_count": 55
        }
      ]
    },
    {
      "cell_type": "code",
      "source": [
        "# Parameters\n",
        "\n",
        "EPS = 1 # Epsilon Value\n",
        "RANDOM_STATE = 42\n",
        "TRAIN_ADVERSERIAL_SIZE = 0.2\n",
        "# TEST_ADVERSERIAL_SIZE = 1.0\n",
        "\n",
        "# Adding Adverserial Samples to train set \n",
        "\n",
        "norm_samples, adv_samples2, norm_labels, adv_labels2 = train_test_split(\n",
        "    train_samples, train_labels, test_size=TRAIN_ADVERSERIAL_SIZE, \n",
        "    random_state=RANDOM_STATE, stratify=train_labels) # Making the train and adverserial sample split \n",
        "\n",
        "original_data = adv_samples2.copy()\n",
        "original_data = tf.convert_to_tensor(original_data.reshape((len(adv_samples2), 8))) #Convert to part of train samples to tensor\n",
        "\n",
        "adv_samples2 = fast_gradient_method(logits_model, original_data,EPS, np.inf) # Run fast_gradient_method on the tensor train sample \n",
        "\n",
        "# Concatenate split train data\n",
        "exp_train_samples2 = tf.concat((norm_samples, adv_samples2), 0)\n",
        "exp_train_labels2 = np.concatenate((norm_labels, adv_labels2), axis=0)\n",
        "exp_train_samples2 = exp_train_samples2.numpy()\n",
        "\n",
        "# Shuffle train data\n",
        "exp_train_samples2, exp_train_labels2 = shuffle(exp_train_samples2, exp_train_labels2, random_state=RANDOM_STATE)\n",
        "\n",
        "# We have kept the test size split same as experiment 1 \n",
        "# # Add Adverserial Samples to test set \n",
        "# norm_samples, adv_samples, norm_labels, adv_labels = train_test_split(\n",
        "#     test_samples, test_labels, test_size=TEST_ADVERSERIAL_SIZE, \n",
        "#     random_state=RANDOM_STATE, stratify=test_labels) # Making the train and adverserial sample split \n",
        "\n",
        "# original_data = adv_samples.copy()\n",
        "# original_data = tf.convert_to_tensor(original_data.reshape((len(adv_samples), 8))) # Convert to part of test samples to tensor\n",
        "\n",
        "# adv_samples1 = fast_gradient_method(logits_model, original_data, EPS, np.inf) # Run fast_gradient_method on the tensor test sample \n",
        "\n",
        "# # Concatenate split test data\n",
        "# exp_test_samples = tf.concat((norm_samples, adv_samples), 0)\n",
        "# exp_test_labels = tf.concat((norm_labels, adv_labels), 0)\n",
        "# exp_test_samples = exp_test_samples.numpy() # Convert to numpy for shuffling \n",
        "# exp_test_labels = exp_test_labels.numpy()\n",
        "\n",
        "# # Shuffle test data\n",
        "# exp_test_samples, exp_test_labels = shuffle(exp_test_samples, \n",
        "#                                             exp_test_labels, random_state=RANDOM_STATE)\n",
        "\n",
        "# Add Adverserial Samples to test set \n",
        "adv_samples2, adv_labels2 = test_samples, test_labels # Making the train and adverserial sample split \n",
        "\n",
        "original_data2 = adv_samples2.copy()\n",
        "original_data2 = tf.convert_to_tensor(original_data2.reshape((len(adv_samples), 8))) # Convert to part of test samples to tensor\n",
        "\n",
        "adv_samples21 = fast_gradient_method(logits_model, original_data2, EPS, np.inf) # Run fast_gradient_method on the tensor test sample \n",
        "\n",
        "# Concatenate split test data\n",
        "\n",
        "exp_test_samples2 = adv_samples21.numpy() # Convert to numpy for shuffling \n",
        "exp_test_labels2 = adv_labels2.copy()\n",
        "\n",
        "# Shuffle test data\n",
        "exp_test_samples, exp_test_labels = shuffle(exp_test_samples2, \n",
        "                                            exp_test_labels2, random_state=RANDOM_STATE)"
      ],
      "metadata": {
        "id": "ZAb7Jg14SBXR",
        "colab": {
          "base_uri": "https://localhost:8080/"
        },
        "outputId": "4f5e9027-77ad-4ae5-b5ee-b394955c4285"
      },
      "execution_count": null,
      "outputs": [
        {
          "output_type": "stream",
          "name": "stdout",
          "text": [
            "WARNING:tensorflow:5 out of the last 15 calls to <function compute_gradient at 0x7f7a9d670f80> triggered tf.function retracing. Tracing is expensive and the excessive number of tracings could be due to (1) creating @tf.function repeatedly in a loop, (2) passing tensors with different shapes, (3) passing Python objects instead of tensors. For (1), please define your @tf.function outside of the loop. For (2), @tf.function has experimental_relax_shapes=True option that relaxes argument shapes that can avoid unnecessary retracing. For (3), please refer to https://www.tensorflow.org/guide/function#controlling_retracing and https://www.tensorflow.org/api_docs/python/tf/function for  more details.\n"
          ]
        }
      ]
    },
    {
      "cell_type": "code",
      "source": [
        "# Convert test and train samples to tensor\n",
        "exp_train_samples2 = tf.convert_to_tensor(exp_train_samples2)\n",
        "exp_test_samples2 = tf.convert_to_tensor(exp_test_samples)\n",
        "\n",
        "print(\"Train Samples - \", exp_train_samples2.shape, exp_train_labels2.shape)\n",
        "print(\"Test Samples - \", exp_test_samples2.shape, exp_test_labels.shape)"
      ],
      "metadata": {
        "colab": {
          "base_uri": "https://localhost:8080/"
        },
        "id": "c7c_AZstJsZ9",
        "outputId": "05704a4c-9a75-4d0b-e8bd-80c3eaae940f"
      },
      "execution_count": null,
      "outputs": [
        {
          "output_type": "stream",
          "name": "stdout",
          "text": [
            "Train Samples -  (21953, 8) (21953, 2)\n",
            "Test Samples -  (9409, 8) (9409, 2)\n"
          ]
        }
      ]
    },
    {
      "cell_type": "code",
      "source": [
        "# Model training\n",
        "# Model hyperparameters\n",
        "BATCH_SIZE = 32\n",
        "EPOCH = 3\n",
        "VERBOSE = 1\n",
        "VALIDATION_SPLIT = 0.4\n",
        "\n",
        "model.fit(x=exp_train_samples2, y=exp_train_labels2, batch_size=BATCH_SIZE, epochs=EPOCH, \n",
        "          verbose=VERBOSE, validation_split=VALIDATION_SPLIT, shuffle=True)"
      ],
      "metadata": {
        "colab": {
          "base_uri": "https://localhost:8080/"
        },
        "id": "FjOyxtIeTuo-",
        "outputId": "8725ff7e-60ce-46b6-b09c-e19911b81d43"
      },
      "execution_count": null,
      "outputs": [
        {
          "output_type": "stream",
          "name": "stdout",
          "text": [
            "Epoch 1/3\n",
            "412/412 [==============================] - 3s 8ms/step - loss: 0.5017 - accuracy: 0.8043 - val_loss: 0.3908 - val_accuracy: 0.7936\n",
            "Epoch 2/3\n",
            "412/412 [==============================] - 2s 6ms/step - loss: 0.3089 - accuracy: 0.8922 - val_loss: 0.2585 - val_accuracy: 0.9668\n",
            "Epoch 3/3\n",
            "412/412 [==============================] - 2s 6ms/step - loss: 0.2198 - accuracy: 0.9729 - val_loss: 0.1952 - val_accuracy: 0.9780\n"
          ]
        },
        {
          "output_type": "execute_result",
          "data": {
            "text/plain": [
              "<keras.callbacks.History at 0x7f7a2181f150>"
            ]
          },
          "metadata": {},
          "execution_count": 58
        }
      ]
    },
    {
      "cell_type": "code",
      "source": [
        "# Predict after fitting mixed data to the model\n",
        "print(\"Model Evaluation\")\n",
        "print(model.evaluate(exp_test_samples2, exp_test_labels))\n",
        "\n",
        "print(\"Model Prediction...\")\n",
        "exp_pred2 = model.predict(exp_test_samples2)\n",
        "exp_pred2 = np.round(exp_pred2)\n",
        "\n",
        "print(\"Classification Report: \\n\",classification_report(exp_test_labels, exp_pred2))\n",
        "exp2= confusion_matrix(exp_test_labels.argmax(axis=1), exp_pred2.argmax(axis=1))\n",
        "plot_confusion_matrix(cm=exp2, classes=CM_PLOT_LABLES, title=\"Modbus Data: Experiment 2 Confusion Matrix, Epsilion=1.0\")"
      ],
      "metadata": {
        "colab": {
          "base_uri": "https://localhost:8080/",
          "height": 623
        },
        "id": "Fw5MUdJaT9pl",
        "outputId": "9093b637-601c-4eb6-f025-1f9f63ac08c6"
      },
      "execution_count": null,
      "outputs": [
        {
          "output_type": "stream",
          "name": "stdout",
          "text": [
            "Model Evaluation\n",
            "295/295 [==============================] - 1s 3ms/step - loss: 0.3868 - accuracy: 0.8865\n",
            "[0.38683220744132996, 0.8864916563034058]\n",
            "Model Prediction...\n",
            "Classification Report: \n",
            "               precision    recall  f1-score   support\n",
            "\n",
            "           0       0.83      0.99      0.91      5243\n",
            "           1       0.99      0.76      0.86      4166\n",
            "\n",
            "   micro avg       0.88      0.89      0.89      9409\n",
            "   macro avg       0.91      0.88      0.88      9409\n",
            "weighted avg       0.90      0.89      0.88      9409\n",
            " samples avg       0.89      0.89      0.89      9409\n",
            "\n",
            "Confusion Matrix without normalization\n",
            "[[5216   27]\n",
            " [1064 3102]]\n"
          ]
        },
        {
          "output_type": "display_data",
          "data": {
            "image/png": "[encoded data removed]",
            "text/plain": [
              "<Figure size 432x288 with 2 Axes>"
            ]
          },
          "metadata": {
            "needs_background": "light"
          }
        }
      ]
    },
    {
      "cell_type": "markdown",
      "source": [
        "## Experiment 3"
      ],
      "metadata": {
        "id": "sbWtT-mhhxc6"
      }
    },
    {
      "cell_type": "code",
      "source": [
        "# Retain from \"FGSM and Prediction\"\n",
        "CM_PLOT_LABLES = ['attack','normal'] # Class lables for Confusion Matix"
      ],
      "metadata": {
        "id": "g4oV9o1Shn4C"
      },
      "execution_count": null,
      "outputs": []
    },
    {
      "cell_type": "code",
      "source": [
        "# Logits Model as given in - https://arxiv.org/abs/2104.12426\n",
        "logits_model = tf.keras.Model(model.input, model.layers[-1].output)\n",
        "logits_model"
      ],
      "metadata": {
        "colab": {
          "base_uri": "https://localhost:8080/"
        },
        "outputId": "ff8cd211-aef6-4678-eb1f-4105af0c9416",
        "id": "GWv0PZ_fhn4C"
      },
      "execution_count": null,
      "outputs": [
        {
          "output_type": "execute_result",
          "data": {
            "text/plain": [
              "<keras.engine.functional.Functional at 0x7f97e0027590>"
            ]
          },
          "metadata": {},
          "execution_count": 25
        }
      ]
    },
    {
      "cell_type": "code",
      "source": [
        "# Parameters\n",
        "\n",
        "EPS = 1 # Epsilon Value\n",
        "RANDOM_STATE = 42\n",
        "TRAIN_ADVERSERIAL_SIZE = 0.3\n",
        "# TEST_ADVERSERIAL_SIZE = 1.0\n",
        "\n",
        "# Adding Adverserial Samples to train set \n",
        "\n",
        "norm_samples, adv_samples3, norm_labels, adv_labels3 = train_test_split(\n",
        "    train_samples, train_labels, test_size=TRAIN_ADVERSERIAL_SIZE, \n",
        "    random_state=RANDOM_STATE, stratify=train_labels) # Making the train and adverserial sample split \n",
        "\n",
        "original_data = adv_samples3.copy()\n",
        "original_data = tf.convert_to_tensor(original_data.reshape((len(adv_samples3), 8))) #Convert to part of train samples to tensor\n",
        "\n",
        "adv_samples3 = fast_gradient_method(logits_model, original_data,EPS, np.inf) # Run fast_gradient_method on the tensor train sample \n",
        "\n",
        "# Concatenate split train data\n",
        "exp_train_samples3 = tf.concat((norm_samples, adv_samples3), 0)\n",
        "exp_train_labels3 = np.concatenate((norm_labels, adv_labels3), axis=0)\n",
        "exp_train_samples3 = exp_train_samples3.numpy()\n",
        "\n",
        "# Shuffle train data\n",
        "exp_train_samples3, exp_train_labels3 = shuffle(exp_train_samples3, exp_train_labels3, random_state=RANDOM_STATE)\n",
        "\n",
        "# We have kept the test size split same as experiment 1 \n",
        "# # Add Adverserial Samples to test set \n",
        "# norm_samples, adv_samples, norm_labels, adv_labels = train_test_split(\n",
        "#     test_samples, test_labels, test_size=TEST_ADVERSERIAL_SIZE, \n",
        "#     random_state=RANDOM_STATE, stratify=test_labels) # Making the train and adverserial sample split \n",
        "\n",
        "# original_data = adv_samples.copy()\n",
        "# original_data = tf.convert_to_tensor(original_data.reshape((len(adv_samples), 8))) # Convert to part of test samples to tensor\n",
        "\n",
        "# adv_samples1 = fast_gradient_method(logits_model, original_data, EPS, np.inf) # Run fast_gradient_method on the tensor test sample \n",
        "\n",
        "# # Concatenate split test data\n",
        "# exp_test_samples = tf.concat((norm_samples, adv_samples), 0)\n",
        "# exp_test_labels = tf.concat((norm_labels, adv_labels), 0)\n",
        "# exp_test_samples = exp_test_samples.numpy() # Convert to numpy for shuffling \n",
        "# exp_test_labels = exp_test_labels.numpy()\n",
        "\n",
        "# # Shuffle test data\n",
        "# exp_test_samples, exp_test_labels = shuffle(exp_test_samples, \n",
        "#                                             exp_test_labels, random_state=RANDOM_STATE)\n",
        "\n",
        "# Add Adverserial Samples to test set \n",
        "adv_samples3, adv_labels3 = test_samples, test_labels # Making the train and adverserial sample split \n",
        "\n",
        "original_data3 = adv_samples3.copy()\n",
        "original_data3 = tf.convert_to_tensor(original_data3.reshape((len(adv_samples3), 8))) # Convert to part of test samples to tensor\n",
        "\n",
        "adv_samples3 = fast_gradient_method(logits_model, original_data3, EPS, np.inf) # Run fast_gradient_method on the tensor test sample \n",
        "\n",
        "# Concatenate split test data\n",
        "\n",
        "exp_test_samples3 = adv_samples3.numpy() # Convert to numpy for shuffling \n",
        "exp_test_labels3 = adv_labels3.copy()\n",
        "\n",
        "# Shuffle test data\n",
        "exp_test_samples, exp_test_labels = shuffle(exp_test_samples3, \n",
        "                                            exp_test_labels3, random_state=RANDOM_STATE)"
      ],
      "metadata": {
        "id": "3jmrzpB4iVSh"
      },
      "execution_count": null,
      "outputs": []
    },
    {
      "cell_type": "code",
      "source": [
        "# Convert test and train samples to tensor\n",
        "exp_train_samples3 = tf.convert_to_tensor(exp_train_samples3)\n",
        "exp_test_samples3 = tf.convert_to_tensor(exp_test_samples)\n",
        "\n",
        "print(\"Train Samples - \", exp_train_samples3.shape, exp_train_labels3.shape)\n",
        "print(\"Test Samples - \", exp_test_samples3.shape, exp_test_labels.shape)"
      ],
      "metadata": {
        "colab": {
          "base_uri": "https://localhost:8080/"
        },
        "id": "hnrT9KPqiXvi",
        "outputId": "8f7c6816-e329-4002-eec9-aba91a18fdb3"
      },
      "execution_count": null,
      "outputs": [
        {
          "output_type": "stream",
          "name": "stdout",
          "text": [
            "Train Samples -  (21953, 8) (21953, 2)\n",
            "Test Samples -  (9409, 8) (9409, 2)\n"
          ]
        }
      ]
    },
    {
      "cell_type": "code",
      "source": [
        "# Model training\n",
        "# Model hyperparameters\n",
        "BATCH_SIZE = 32\n",
        "EPOCH = 3\n",
        "VERBOSE = 1\n",
        "VALIDATION_SPLIT = 0.4\n",
        "\n",
        "model.fit(x=exp_train_samples3, y=exp_train_labels3, batch_size=BATCH_SIZE, epochs=EPOCH, \n",
        "          verbose=VERBOSE, validation_split=VALIDATION_SPLIT, shuffle=True)"
      ],
      "metadata": {
        "colab": {
          "base_uri": "https://localhost:8080/"
        },
        "id": "XPKTEvRoif1x",
        "outputId": "16fd63f8-90e1-4603-f8c3-6f4cc6a331cd"
      },
      "execution_count": null,
      "outputs": [
        {
          "output_type": "stream",
          "name": "stdout",
          "text": [
            "Epoch 1/3\n"
          ]
        },
        {
          "output_type": "stream",
          "name": "stderr",
          "text": [
            "/usr/local/lib/python3.7/dist-packages/tensorflow/python/util/dispatch.py:1082: UserWarning: \"`binary_crossentropy` received `from_logits=True`, but the `output` argument was produced by a sigmoid or softmax activation and thus does not represent logits. Was this intended?\"\n",
            "  return dispatch_target(*args, **kwargs)\n"
          ]
        },
        {
          "output_type": "stream",
          "name": "stdout",
          "text": [
            "412/412 [==============================] - 6s 8ms/step - loss: 0.6748 - accuracy: 0.5918 - val_loss: 0.6513 - val_accuracy: 0.6768\n",
            "Epoch 2/3\n",
            "412/412 [==============================] - 3s 7ms/step - loss: 0.6264 - accuracy: 0.7752 - val_loss: 0.6035 - val_accuracy: 0.8327\n",
            "Epoch 3/3\n",
            "412/412 [==============================] - 3s 6ms/step - loss: 0.5767 - accuracy: 0.8667 - val_loss: 0.5507 - val_accuracy: 0.8812\n"
          ]
        },
        {
          "output_type": "execute_result",
          "data": {
            "text/plain": [
              "<keras.callbacks.History at 0x7f97722c6250>"
            ]
          },
          "metadata": {},
          "execution_count": 29
        }
      ]
    },
    {
      "cell_type": "code",
      "source": [
        "# Predict after fitting mixed data to the model\n",
        "print(\"Model Evaluation\")\n",
        "print(model.evaluate(exp_test_samples3, exp_test_labels))\n",
        "\n",
        "print(\"Model Prediction...\")\n",
        "exp_pred3 = model.predict(exp_test_samples3)\n",
        "exp_pred3 = np.round(exp_pred3)\n",
        "\n",
        "print(\"Classification Report: \\n\",classification_report(exp_test_labels, exp_pred3))\n",
        "exp3= confusion_matrix(exp_test_labels.argmax(axis=1), exp_pred3.argmax(axis=1))\n",
        "plot_confusion_matrix(cm=exp3, classes=CM_PLOT_LABLES, title=\"Modbus Data: Experiment 3 Confusion Matrix, Epsilion=1.0\")"
      ],
      "metadata": {
        "colab": {
          "base_uri": "https://localhost:8080/",
          "height": 678
        },
        "id": "SRAuYvIBimUU",
        "outputId": "48ece9b4-a3fb-4823-d4d3-8cb9b5903a96"
      },
      "execution_count": null,
      "outputs": [
        {
          "output_type": "stream",
          "name": "stdout",
          "text": [
            "Model Evaluation\n",
            "295/295 [==============================] - 1s 3ms/step - loss: 0.5638 - accuracy: 0.8263\n",
            "[0.5638227462768555, 0.8263365030288696]\n",
            "Model Prediction...\n"
          ]
        },
        {
          "output_type": "stream",
          "name": "stderr",
          "text": [
            "/usr/local/lib/python3.7/dist-packages/sklearn/metrics/_classification.py:1318: UndefinedMetricWarning: Precision and F-score are ill-defined and being set to 0.0 in samples with no predicted labels. Use `zero_division` parameter to control this behavior.\n",
            "  _warn_prf(average, modifier, msg_start, len(result))\n"
          ]
        },
        {
          "output_type": "stream",
          "name": "stdout",
          "text": [
            "Classification Report: \n",
            "               precision    recall  f1-score   support\n",
            "\n",
            "           0       0.78      0.83      0.81      5243\n",
            "           1       0.75      0.88      0.81      4166\n",
            "\n",
            "   micro avg       0.77      0.85      0.81      9409\n",
            "   macro avg       0.77      0.85      0.81      9409\n",
            "weighted avg       0.77      0.85      0.81      9409\n",
            " samples avg       0.80      0.85      0.81      9409\n",
            "\n",
            "Confusion Matrix without normalization\n",
            "[[4400  843]\n",
            " [1204 2962]]\n"
          ]
        },
        {
          "output_type": "display_data",
          "data": {
            "image/png": "[encoded data removed]",
            "text/plain": [
              "<Figure size 432x288 with 2 Axes>"
            ]
          },
          "metadata": {
            "needs_background": "light"
          }
        }
      ]
    },
    {
      "cell_type": "code",
      "source": [
        ""
      ],
      "metadata": {
        "id": "pynb1wsCkG8T"
      },
      "execution_count": null,
      "outputs": []
    }
  ],
  "metadata": {
    "accelerator": "GPU",
    "colab": {
      "collapsed_sections": [],
      "name": "Modbus Data: Detection_of_Adverserial_attack ",
      "provenance": [],
      "toc_visible": true,
      "include_colab_link": true
    },
    "kernelspec": {
      "display_name": "Python 3",
      "name": "python3"
    },
    "language_info": {
      "name": "python"
    }
  },
  "nbformat": 4,
  "nbformat_minor": 0
}
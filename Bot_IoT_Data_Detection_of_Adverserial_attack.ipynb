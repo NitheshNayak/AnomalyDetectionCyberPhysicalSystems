{
  "cells": [
    {
      "cell_type": "markdown",
      "metadata": {
        "id": "view-in-github",
        "colab_type": "text"
      },
      "source": [
        "<a href=\"https://colab.research.google.com/github/NitheshNayak/AnomalyDetection_in_Cyber_Physical_Systems/blob/main/Bot_IoT_Data_Detection_of_Adverserial_attack.ipynb\" target=\"_parent\"><img src=\"https://colab.research.google.com/assets/colab-badge.svg\" alt=\"Open In Colab\"/></a>"
      ]
    },
    {
      "cell_type": "markdown",
      "metadata": {
        "id": "Tkq1New0bq1N"
      },
      "source": [
        "# Bot-IoT-Data:Detection of Adverserial attack "
      ]
    },
    {
      "cell_type": "code",
      "execution_count": null,
      "metadata": {
        "colab": {
          "base_uri": "https://localhost:8080/"
        },
        "id": "juVKu2NMJRoF",
        "outputId": "22238cbe-b0a7-4284-d010-63e2821166c6"
      },
      "outputs": [
        {
          "output_type": "stream",
          "name": "stdout",
          "text": [
            "Mounted at /content/drive\n"
          ]
        }
      ],
      "source": [
        "#Mount the Folder from drive\n",
        "from google.colab import drive\n",
        "drive.mount('/content/drive')"
      ]
    },
    {
      "cell_type": "code",
      "execution_count": null,
      "metadata": {
        "colab": {
          "base_uri": "https://localhost:8080/"
        },
        "id": "AbkvLAS3JdzL",
        "outputId": "73b19992-80af-4889-8f0d-4f952d5c22f8"
      },
      "outputs": [
        {
          "output_type": "stream",
          "name": "stdout",
          "text": [
            "Collecting git+https://github.com/cleverhans-lab/cleverhans.git\n",
            "  Cloning https://github.com/cleverhans-lab/cleverhans.git to /tmp/pip-req-build-4g5i4roe\n",
            "  Running command git clone -q https://github.com/cleverhans-lab/cleverhans.git /tmp/pip-req-build-4g5i4roe\n",
            "Collecting nose\n",
            "  Downloading nose-1.3.7-py3-none-any.whl (154 kB)\n",
            "\u001b[K     |████████████████████████████████| 154 kB 5.2 MB/s \n",
            "\u001b[?25hCollecting pycodestyle\n",
            "  Downloading pycodestyle-2.8.0-py2.py3-none-any.whl (42 kB)\n",
            "\u001b[K     |████████████████████████████████| 42 kB 870 kB/s \n",
            "\u001b[?25hRequirement already satisfied: scipy in /usr/local/lib/python3.7/dist-packages (from cleverhans==4.0.0) (1.4.1)\n",
            "Requirement already satisfied: matplotlib in /usr/local/lib/python3.7/dist-packages (from cleverhans==4.0.0) (3.2.2)\n",
            "Collecting mnist\n",
            "  Downloading mnist-0.2.2-py2.py3-none-any.whl (3.5 kB)\n",
            "Requirement already satisfied: numpy in /usr/local/lib/python3.7/dist-packages (from cleverhans==4.0.0) (1.21.5)\n",
            "Requirement already satisfied: tensorflow-probability in /usr/local/lib/python3.7/dist-packages (from cleverhans==4.0.0) (0.15.0)\n",
            "Requirement already satisfied: joblib in /usr/local/lib/python3.7/dist-packages (from cleverhans==4.0.0) (1.1.0)\n",
            "Requirement already satisfied: easydict in /usr/local/lib/python3.7/dist-packages (from cleverhans==4.0.0) (1.9)\n",
            "Requirement already satisfied: absl-py in /usr/local/lib/python3.7/dist-packages (from cleverhans==4.0.0) (1.0.0)\n",
            "Requirement already satisfied: six in /usr/local/lib/python3.7/dist-packages (from cleverhans==4.0.0) (1.15.0)\n",
            "Requirement already satisfied: python-dateutil>=2.1 in /usr/local/lib/python3.7/dist-packages (from matplotlib->cleverhans==4.0.0) (2.8.2)\n",
            "Requirement already satisfied: pyparsing!=2.0.4,!=2.1.2,!=2.1.6,>=2.0.1 in /usr/local/lib/python3.7/dist-packages (from matplotlib->cleverhans==4.0.0) (3.0.7)\n",
            "Requirement already satisfied: cycler>=0.10 in /usr/local/lib/python3.7/dist-packages (from matplotlib->cleverhans==4.0.0) (0.11.0)\n",
            "Requirement already satisfied: kiwisolver>=1.0.1 in /usr/local/lib/python3.7/dist-packages (from matplotlib->cleverhans==4.0.0) (1.3.2)\n",
            "Requirement already satisfied: decorator in /usr/local/lib/python3.7/dist-packages (from tensorflow-probability->cleverhans==4.0.0) (4.4.2)\n",
            "Requirement already satisfied: cloudpickle>=1.3 in /usr/local/lib/python3.7/dist-packages (from tensorflow-probability->cleverhans==4.0.0) (1.3.0)\n",
            "Requirement already satisfied: gast>=0.3.2 in /usr/local/lib/python3.7/dist-packages (from tensorflow-probability->cleverhans==4.0.0) (0.5.3)\n",
            "Requirement already satisfied: dm-tree in /usr/local/lib/python3.7/dist-packages (from tensorflow-probability->cleverhans==4.0.0) (0.1.6)\n",
            "Building wheels for collected packages: cleverhans\n",
            "  Building wheel for cleverhans (setup.py) ... \u001b[?25l\u001b[?25hdone\n",
            "  Created wheel for cleverhans: filename=cleverhans-4.0.0-py3-none-any.whl size=92423 sha256=fa246d4eb263601219173b049d27f6965be6295bca47c386ba70f1d9dde9a4b8\n",
            "  Stored in directory: /tmp/pip-ephem-wheel-cache-3ql9w0yq/wheels/9b/85/fc/711535dc7ec7166b7a4fa93ac3294df0dcf383f1364af0e3d4\n",
            "Successfully built cleverhans\n",
            "Installing collected packages: pycodestyle, nose, mnist, cleverhans\n",
            "Successfully installed cleverhans-4.0.0 mnist-0.2.2 nose-1.3.7 pycodestyle-2.8.0\n"
          ]
        }
      ],
      "source": [
        "# the official Cleverhans library (without future moudule)\n",
        "!pip install git+https://github.com/cleverhans-lab/cleverhans.git\n",
        "# !pip install git+https://github.com/CNOCycle/cleverhans.git@feature/tf2.x\n",
        "# !pip install git+https://github.com/tensorflow/cleverhans/pull/1122"
      ]
    },
    {
      "cell_type": "code",
      "execution_count": null,
      "metadata": {
        "colab": {
          "base_uri": "https://localhost:8080/"
        },
        "id": "ljsN_n3HTRFG",
        "outputId": "2e52156f-676d-4e6f-8790-dc7497583be3"
      },
      "outputs": [
        {
          "output_type": "stream",
          "name": "stdout",
          "text": [
            "\n",
            "Tensorflow Version: 2.8.0\n",
            "\n",
            "Cleverhans Version: 4.0.0-242afd7ec8f9546baeb1168438446ce1\n"
          ]
        }
      ],
      "source": [
        "# Libraries\n",
        "import numpy as np\n",
        "import pandas as pd\n",
        "from pandas import Series, DataFrame\n",
        "import matplotlib.pyplot as plt\n",
        "\n",
        "import itertools \n",
        "import imblearn\n",
        "from os.path import exists\n",
        "from collections import Counter\n",
        "from imblearn.over_sampling import SMOTE\n",
        "\n",
        "import sklearn\n",
        "from sklearn.utils import shuffle\n",
        "from sklearn.model_selection import train_test_split\n",
        "from sklearn.preprocessing import MinMaxScaler\n",
        "from sklearn.preprocessing import LabelEncoder\n",
        "from sklearn.metrics import confusion_matrix, classification_report, accuracy_score\n",
        "\n",
        "import tensorflow as tf # 2.7.0\n",
        "from tensorflow import keras\n",
        "from tensorflow.keras.models import load_model\n",
        "\n",
        "import torch\n",
        "import torch.nn as nn\n",
        "from keras.models import Sequential\n",
        "from keras.layers import Dense\n",
        "from keras.layers import LSTM\n",
        "from keras.layers import Dropout\n",
        "from keras.utils import np_utils\n",
        "from keras.utils.vis_utils import plot_model\n",
        "\n",
        "import cleverhans #4.0.0-242afd7ec8f9546baeb1168438446ce1\n",
        "from cleverhans.tf2.attacks.fast_gradient_method import fast_gradient_method\n",
        "\n",
        "print(\"\\nTensorflow Version: \" + tf.__version__)\n",
        "\n",
        "print(\"\\nCleverhans Version: \" + cleverhans.__version__)"
      ]
    },
    {
      "cell_type": "code",
      "execution_count": null,
      "metadata": {
        "colab": {
          "base_uri": "https://localhost:8080/"
        },
        "id": "CBqjBBtUs5lj",
        "outputId": "7728c9d5-541b-4fc2-aa1d-798b6331369c"
      },
      "outputs": [
        {
          "output_type": "stream",
          "name": "stdout",
          "text": [
            "WARNING:tensorflow:From <ipython-input-4-6497b23fb2a7>:2: is_gpu_available (from tensorflow.python.framework.test_util) is deprecated and will be removed in a future version.\n",
            "Instructions for updating:\n",
            "Use `tf.config.list_physical_devices('GPU')` instead.\n",
            "GPU Available:  True\n",
            "Wed Feb 16 22:56:56 2022       \n",
            "+-----------------------------------------------------------------------------+\n",
            "| NVIDIA-SMI 460.32.03    Driver Version: 460.32.03    CUDA Version: 11.2     |\n",
            "|-------------------------------+----------------------+----------------------+\n",
            "| GPU  Name        Persistence-M| Bus-Id        Disp.A | Volatile Uncorr. ECC |\n",
            "| Fan  Temp  Perf  Pwr:Usage/Cap|         Memory-Usage | GPU-Util  Compute M. |\n",
            "|                               |                      |               MIG M. |\n",
            "|===============================+======================+======================|\n",
            "|   0  Tesla K80           Off  | 00000000:00:04.0 Off |                    0 |\n",
            "| N/A   72C    P0    75W / 149W |    145MiB / 11441MiB |      1%      Default |\n",
            "|                               |                      |                  N/A |\n",
            "+-------------------------------+----------------------+----------------------+\n",
            "                                                                               \n",
            "+-----------------------------------------------------------------------------+\n",
            "| Processes:                                                                  |\n",
            "|  GPU   GI   CI        PID   Type   Process name                  GPU Memory |\n",
            "|        ID   ID                                                   Usage      |\n",
            "|=============================================================================|\n",
            "+-----------------------------------------------------------------------------+\n"
          ]
        }
      ],
      "source": [
        "# Printing GPU Information\n",
        "print(\"GPU Available: \", tf.test.is_gpu_available())\n",
        "\n",
        "gpu_info = !nvidia-smi\n",
        "gpu_info = '\\n'.join(gpu_info)\n",
        "if gpu_info.find('failed') >= 0:\n",
        "  print('Not connected to a GPU')\n",
        "else:\n",
        "  print(gpu_info)"
      ]
    },
    {
      "cell_type": "code",
      "execution_count": null,
      "metadata": {
        "id": "17hwNoBlVuXB"
      },
      "outputs": [],
      "source": [
        "## Confusion Matrix Plot Function : Function is defined here for later use\n",
        "\n",
        "def plot_confusion_matrix(cm,classes\n",
        "                          ,normalize=False,\n",
        "                          title='Confusion Matrix',cmap=plt.cm.Blues):\n",
        "    \n",
        "    plt.imshow(cm, interpolation='nearest',cmap=cmap)\n",
        "    plt.title(title)\n",
        "    plt.colorbar()\n",
        "    tick_marks = np.arange(len(classes))\n",
        "    plt.xticks(tick_marks,classes, rotation=45)\n",
        "    plt.yticks(tick_marks, classes)\n",
        "    \n",
        "    if normalize:\n",
        "        cm = cm.astype('float')/cm.sum(axis=1)[:,np.newaxis]\n",
        "        print(\"Normalized confusion matrix\")\n",
        "    else:\n",
        "        print(\"Confusion Matrix without normalization\")\n",
        "        \n",
        "    print(cm)\n",
        "    \n",
        "    thresh = cm.max() /2.\n",
        "    for i, j in itertools.product(range(cm.shape[0]),range(cm.shape[1])):\n",
        "        plt.text(j,i, cm[i,j],\n",
        "                horizontalalignment=\"center\",\n",
        "                color=\"white\" if cm[i,j] > thresh else \"black\")\n",
        "    plt.tight_layout()\n",
        "    plt.ylabel('True Label')\n",
        "    plt.xlabel('Predicted label')"
      ]
    },
    {
      "cell_type": "markdown",
      "metadata": {
        "id": "2qlyUlIO5OGR"
      },
      "source": [
        "# **Data Preprocessing**\n",
        "## Load Data"
      ]
    },
    {
      "cell_type": "code",
      "execution_count": null,
      "metadata": {
        "colab": {
          "base_uri": "https://localhost:8080/",
          "height": 322
        },
        "id": "k5eJmhsp6bZy",
        "outputId": "a1b1fb7f-35d7-4b49-f128-640bd5addc9f"
      },
      "outputs": [
        {
          "output_type": "stream",
          "name": "stdout",
          "text": [
            "Shape of the input file -  (2934817, 19)\n",
            "\n",
            "\n"
          ]
        },
        {
          "output_type": "execute_result",
          "data": {
            "text/html": [
              "\n",
              "  <div id=\"df-11e3e936-b11c-448e-8086-558f405dab9c\">\n",
              "    <div class=\"colab-df-container\">\n",
              "      <div>\n",
              "<style scoped>\n",
              "    .dataframe tbody tr th:only-of-type {\n",
              "        vertical-align: middle;\n",
              "    }\n",
              "\n",
              "    .dataframe tbody tr th {\n",
              "        vertical-align: top;\n",
              "    }\n",
              "\n",
              "    .dataframe thead th {\n",
              "        text-align: right;\n",
              "    }\n",
              "</style>\n",
              "<table border=\"1\" class=\"dataframe\">\n",
              "  <thead>\n",
              "    <tr style=\"text-align: right;\">\n",
              "      <th></th>\n",
              "      <th>pkSeqID</th>\n",
              "      <th>proto</th>\n",
              "      <th>saddr</th>\n",
              "      <th>sport</th>\n",
              "      <th>daddr</th>\n",
              "      <th>dport</th>\n",
              "      <th>seq</th>\n",
              "      <th>stddev</th>\n",
              "      <th>N_IN_Conn_P_SrcIP</th>\n",
              "      <th>min</th>\n",
              "      <th>state_number</th>\n",
              "      <th>mean</th>\n",
              "      <th>N_IN_Conn_P_DstIP</th>\n",
              "      <th>drate</th>\n",
              "      <th>srate</th>\n",
              "      <th>max</th>\n",
              "      <th>attack</th>\n",
              "      <th>category</th>\n",
              "      <th>subcategory</th>\n",
              "    </tr>\n",
              "  </thead>\n",
              "  <tbody>\n",
              "    <tr>\n",
              "      <th>0</th>\n",
              "      <td>3142762</td>\n",
              "      <td>udp</td>\n",
              "      <td>192.168.100.150</td>\n",
              "      <td>6551</td>\n",
              "      <td>192.168.100.3</td>\n",
              "      <td>80</td>\n",
              "      <td>251984</td>\n",
              "      <td>1.900363</td>\n",
              "      <td>100</td>\n",
              "      <td>0.000000</td>\n",
              "      <td>4</td>\n",
              "      <td>2.687519</td>\n",
              "      <td>100</td>\n",
              "      <td>0.0</td>\n",
              "      <td>0.494549</td>\n",
              "      <td>4.031619</td>\n",
              "      <td>1</td>\n",
              "      <td>DDoS</td>\n",
              "      <td>UDP</td>\n",
              "    </tr>\n",
              "    <tr>\n",
              "      <th>1</th>\n",
              "      <td>2432264</td>\n",
              "      <td>tcp</td>\n",
              "      <td>192.168.100.150</td>\n",
              "      <td>5532</td>\n",
              "      <td>192.168.100.3</td>\n",
              "      <td>80</td>\n",
              "      <td>256724</td>\n",
              "      <td>0.078003</td>\n",
              "      <td>38</td>\n",
              "      <td>3.856930</td>\n",
              "      <td>3</td>\n",
              "      <td>3.934927</td>\n",
              "      <td>100</td>\n",
              "      <td>0.0</td>\n",
              "      <td>0.256493</td>\n",
              "      <td>4.012924</td>\n",
              "      <td>1</td>\n",
              "      <td>DDoS</td>\n",
              "      <td>TCP</td>\n",
              "    </tr>\n",
              "    <tr>\n",
              "      <th>2</th>\n",
              "      <td>1976315</td>\n",
              "      <td>tcp</td>\n",
              "      <td>192.168.100.147</td>\n",
              "      <td>27165</td>\n",
              "      <td>192.168.100.3</td>\n",
              "      <td>80</td>\n",
              "      <td>62921</td>\n",
              "      <td>0.268666</td>\n",
              "      <td>100</td>\n",
              "      <td>2.974100</td>\n",
              "      <td>3</td>\n",
              "      <td>3.341429</td>\n",
              "      <td>100</td>\n",
              "      <td>0.0</td>\n",
              "      <td>0.294880</td>\n",
              "      <td>3.609205</td>\n",
              "      <td>1</td>\n",
              "      <td>DDoS</td>\n",
              "      <td>TCP</td>\n",
              "    </tr>\n",
              "    <tr>\n",
              "      <th>3</th>\n",
              "      <td>1240757</td>\n",
              "      <td>udp</td>\n",
              "      <td>192.168.100.150</td>\n",
              "      <td>48719</td>\n",
              "      <td>192.168.100.3</td>\n",
              "      <td>80</td>\n",
              "      <td>99168</td>\n",
              "      <td>1.823185</td>\n",
              "      <td>63</td>\n",
              "      <td>0.000000</td>\n",
              "      <td>4</td>\n",
              "      <td>3.222832</td>\n",
              "      <td>63</td>\n",
              "      <td>0.0</td>\n",
              "      <td>0.461435</td>\n",
              "      <td>4.942302</td>\n",
              "      <td>1</td>\n",
              "      <td>DoS</td>\n",
              "      <td>UDP</td>\n",
              "    </tr>\n",
              "    <tr>\n",
              "      <th>4</th>\n",
              "      <td>3257991</td>\n",
              "      <td>udp</td>\n",
              "      <td>192.168.100.147</td>\n",
              "      <td>22461</td>\n",
              "      <td>192.168.100.3</td>\n",
              "      <td>80</td>\n",
              "      <td>105063</td>\n",
              "      <td>0.822418</td>\n",
              "      <td>100</td>\n",
              "      <td>2.979995</td>\n",
              "      <td>4</td>\n",
              "      <td>3.983222</td>\n",
              "      <td>100</td>\n",
              "      <td>0.0</td>\n",
              "      <td>1.002999</td>\n",
              "      <td>4.994452</td>\n",
              "      <td>1</td>\n",
              "      <td>DDoS</td>\n",
              "      <td>UDP</td>\n",
              "    </tr>\n",
              "  </tbody>\n",
              "</table>\n",
              "</div>\n",
              "      <button class=\"colab-df-convert\" onclick=\"convertToInteractive('df-11e3e936-b11c-448e-8086-558f405dab9c')\"\n",
              "              title=\"Convert this dataframe to an interactive table.\"\n",
              "              style=\"display:none;\">\n",
              "        \n",
              "  <svg xmlns=\"http://www.w3.org/2000/svg\" height=\"24px\"viewBox=\"0 0 24 24\"\n",
              "       width=\"24px\">\n",
              "    <path d=\"M0 0h24v24H0V0z\" fill=\"none\"/>\n",
              "    <path d=\"M18.56 5.44l.94 2.06.94-2.06 2.06-.94-2.06-.94-.94-2.06-.94 2.06-2.06.94zm-11 1L8.5 8.5l.94-2.06 2.06-.94-2.06-.94L8.5 2.5l-.94 2.06-2.06.94zm10 10l.94 2.06.94-2.06 2.06-.94-2.06-.94-.94-2.06-.94 2.06-2.06.94z\"/><path d=\"M17.41 7.96l-1.37-1.37c-.4-.4-.92-.59-1.43-.59-.52 0-1.04.2-1.43.59L10.3 9.45l-7.72 7.72c-.78.78-.78 2.05 0 2.83L4 21.41c.39.39.9.59 1.41.59.51 0 1.02-.2 1.41-.59l7.78-7.78 2.81-2.81c.8-.78.8-2.07 0-2.86zM5.41 20L4 18.59l7.72-7.72 1.47 1.35L5.41 20z\"/>\n",
              "  </svg>\n",
              "      </button>\n",
              "      \n",
              "  <style>\n",
              "    .colab-df-container {\n",
              "      display:flex;\n",
              "      flex-wrap:wrap;\n",
              "      gap: 12px;\n",
              "    }\n",
              "\n",
              "    .colab-df-convert {\n",
              "      background-color: #E8F0FE;\n",
              "      border: none;\n",
              "      border-radius: 50%;\n",
              "      cursor: pointer;\n",
              "      display: none;\n",
              "      fill: #1967D2;\n",
              "      height: 32px;\n",
              "      padding: 0 0 0 0;\n",
              "      width: 32px;\n",
              "    }\n",
              "\n",
              "    .colab-df-convert:hover {\n",
              "      background-color: #E2EBFA;\n",
              "      box-shadow: 0px 1px 2px rgba(60, 64, 67, 0.3), 0px 1px 3px 1px rgba(60, 64, 67, 0.15);\n",
              "      fill: #174EA6;\n",
              "    }\n",
              "\n",
              "    [theme=dark] .colab-df-convert {\n",
              "      background-color: #3B4455;\n",
              "      fill: #D2E3FC;\n",
              "    }\n",
              "\n",
              "    [theme=dark] .colab-df-convert:hover {\n",
              "      background-color: #434B5C;\n",
              "      box-shadow: 0px 1px 3px 1px rgba(0, 0, 0, 0.15);\n",
              "      filter: drop-shadow(0px 1px 2px rgba(0, 0, 0, 0.3));\n",
              "      fill: #FFFFFF;\n",
              "    }\n",
              "  </style>\n",
              "\n",
              "      <script>\n",
              "        const buttonEl =\n",
              "          document.querySelector('#df-11e3e936-b11c-448e-8086-558f405dab9c button.colab-df-convert');\n",
              "        buttonEl.style.display =\n",
              "          google.colab.kernel.accessAllowed ? 'block' : 'none';\n",
              "\n",
              "        async function convertToInteractive(key) {\n",
              "          const element = document.querySelector('#df-11e3e936-b11c-448e-8086-558f405dab9c');\n",
              "          const dataTable =\n",
              "            await google.colab.kernel.invokeFunction('convertToInteractive',\n",
              "                                                     [key], {});\n",
              "          if (!dataTable) return;\n",
              "\n",
              "          const docLinkHtml = 'Like what you see? Visit the ' +\n",
              "            '<a target=\"_blank\" href=https://colab.research.google.com/notebooks/data_table.ipynb>data table notebook</a>'\n",
              "            + ' to learn more about interactive tables.';\n",
              "          element.innerHTML = '';\n",
              "          dataTable['output_type'] = 'display_data';\n",
              "          await google.colab.output.renderOutput(dataTable, element);\n",
              "          const docLink = document.createElement('div');\n",
              "          docLink.innerHTML = docLinkHtml;\n",
              "          element.appendChild(docLink);\n",
              "        }\n",
              "      </script>\n",
              "    </div>\n",
              "  </div>\n",
              "  "
            ],
            "text/plain": [
              "   pkSeqID proto            saddr  sport  ...       max attack  category  subcategory\n",
              "0  3142762   udp  192.168.100.150   6551  ...  4.031619      1      DDoS          UDP\n",
              "1  2432264   tcp  192.168.100.150   5532  ...  4.012924      1      DDoS          TCP\n",
              "2  1976315   tcp  192.168.100.147  27165  ...  3.609205      1      DDoS          TCP\n",
              "3  1240757   udp  192.168.100.150  48719  ...  4.942302      1       DoS          UDP\n",
              "4  3257991   udp  192.168.100.147  22461  ...  4.994452      1      DDoS          UDP\n",
              "\n",
              "[5 rows x 19 columns]"
            ]
          },
          "metadata": {},
          "execution_count": 6
        }
      ],
      "source": [
        "# Load the dataset\n",
        "dataset = pd.read_csv(\"/content/drive/MyDrive/VRES/Bot-IoT-Training.csv\") #path of the datafile \n",
        "dataset.dropna(inplace=True)\n",
        "\n",
        "# Check the shape\n",
        "print(\"Shape of the input file - \",dataset.shape)\n",
        "print(\"\\n\")\n",
        "\n",
        "# Print the first 5 lines of the dataset \n",
        "dataset.head(5)"
      ]
    },
    {
      "cell_type": "code",
      "execution_count": null,
      "metadata": {
        "colab": {
          "base_uri": "https://localhost:8080/"
        },
        "id": "13s0sCKMHbDh",
        "outputId": "ed91d975-65c3-442d-d93a-f9430f5a8d67"
      },
      "outputs": [
        {
          "output_type": "stream",
          "name": "stdout",
          "text": [
            "<class 'pandas.core.frame.DataFrame'>\n",
            "Int64Index: 2934817 entries, 0 to 2934816\n",
            "Data columns (total 19 columns):\n",
            " #   Column             Dtype  \n",
            "---  ------             -----  \n",
            " 0   pkSeqID            int64  \n",
            " 1   proto              object \n",
            " 2   saddr              object \n",
            " 3   sport              object \n",
            " 4   daddr              object \n",
            " 5   dport              object \n",
            " 6   seq                int64  \n",
            " 7   stddev             float64\n",
            " 8   N_IN_Conn_P_SrcIP  int64  \n",
            " 9   min                float64\n",
            " 10  state_number       int64  \n",
            " 11  mean               float64\n",
            " 12  N_IN_Conn_P_DstIP  int64  \n",
            " 13  drate              float64\n",
            " 14  srate              float64\n",
            " 15  max                float64\n",
            " 16  attack             int64  \n",
            " 17  category           object \n",
            " 18  subcategory        object \n",
            "dtypes: float64(6), int64(6), object(7)\n",
            "memory usage: 447.8+ MB\n"
          ]
        }
      ],
      "source": [
        "# Information of the input data\n",
        "dataset.info()"
      ]
    },
    {
      "cell_type": "code",
      "execution_count": null,
      "metadata": {
        "colab": {
          "base_uri": "https://localhost:8080/"
        },
        "id": "YcfRTaURHnSX",
        "outputId": "3458d53d-c8b0-44b8-9bcd-ad82d7bb04fa"
      },
      "outputs": [
        {
          "output_type": "execute_result",
          "data": {
            "text/plain": [
              "pkSeqID              0\n",
              "proto                0\n",
              "saddr                0\n",
              "sport                0\n",
              "daddr                0\n",
              "dport                0\n",
              "seq                  0\n",
              "stddev               0\n",
              "N_IN_Conn_P_SrcIP    0\n",
              "min                  0\n",
              "state_number         0\n",
              "mean                 0\n",
              "N_IN_Conn_P_DstIP    0\n",
              "drate                0\n",
              "srate                0\n",
              "max                  0\n",
              "attack               0\n",
              "category             0\n",
              "subcategory          0\n",
              "dtype: int64"
            ]
          },
          "metadata": {},
          "execution_count": 8
        }
      ],
      "source": [
        "# Check for NUll Values \n",
        "dataset.isna().sum()"
      ]
    },
    {
      "cell_type": "code",
      "execution_count": null,
      "metadata": {
        "colab": {
          "base_uri": "https://localhost:8080/"
        },
        "id": "olSrKOEhIUyE",
        "outputId": "89237c65-f22f-41f4-fc42-bb060bf1537b"
      },
      "outputs": [
        {
          "output_type": "stream",
          "name": "stdout",
          "text": [
            "There is no duplicate entires present in the dataset:  True\n"
          ]
        }
      ],
      "source": [
        "# Check for Duplicates\n",
        "print(\"There is no duplicate entires present in the dataset: \", dataset[dataset.duplicated()].shape[0]==0)"
      ]
    },
    {
      "cell_type": "markdown",
      "metadata": {
        "id": "6UYNqAsk5R34"
      },
      "source": [
        "## Feature Selection"
      ]
    },
    {
      "cell_type": "code",
      "execution_count": null,
      "metadata": {
        "colab": {
          "base_uri": "https://localhost:8080/",
          "height": 511
        },
        "id": "l6a3pBQyggsC",
        "outputId": "dae38555-bafd-4f03-dfc2-02b029d9c1c9"
      },
      "outputs": [
        {
          "output_type": "stream",
          "name": "stdout",
          "text": [
            "Shape of the input file -  (2934817, 11)\n",
            "\n",
            "\n",
            "seq                  251984.000000\n",
            "stddev                    1.900363\n",
            "N_IN_Conn_P_SrcIP       100.000000\n",
            "min                       0.000000\n",
            "state_number              4.000000\n",
            "mean                      2.687519\n",
            "N_IN_Conn_P_DstIP       100.000000\n",
            "drate                     0.000000\n",
            "srate                     0.494549\n",
            "max                       4.031619\n",
            "attack                    1.000000\n",
            "Name: 0, dtype: float64\n"
          ]
        },
        {
          "output_type": "execute_result",
          "data": {
            "text/html": [
              "\n",
              "  <div id=\"df-46c66ef2-1b2f-4591-b18e-7326d3e1c246\">\n",
              "    <div class=\"colab-df-container\">\n",
              "      <div>\n",
              "<style scoped>\n",
              "    .dataframe tbody tr th:only-of-type {\n",
              "        vertical-align: middle;\n",
              "    }\n",
              "\n",
              "    .dataframe tbody tr th {\n",
              "        vertical-align: top;\n",
              "    }\n",
              "\n",
              "    .dataframe thead th {\n",
              "        text-align: right;\n",
              "    }\n",
              "</style>\n",
              "<table border=\"1\" class=\"dataframe\">\n",
              "  <thead>\n",
              "    <tr style=\"text-align: right;\">\n",
              "      <th></th>\n",
              "      <th>seq</th>\n",
              "      <th>stddev</th>\n",
              "      <th>N_IN_Conn_P_SrcIP</th>\n",
              "      <th>min</th>\n",
              "      <th>state_number</th>\n",
              "      <th>mean</th>\n",
              "      <th>N_IN_Conn_P_DstIP</th>\n",
              "      <th>drate</th>\n",
              "      <th>srate</th>\n",
              "      <th>max</th>\n",
              "      <th>attack</th>\n",
              "    </tr>\n",
              "  </thead>\n",
              "  <tbody>\n",
              "    <tr>\n",
              "      <th>0</th>\n",
              "      <td>251984</td>\n",
              "      <td>1.900363</td>\n",
              "      <td>100</td>\n",
              "      <td>0.000000</td>\n",
              "      <td>4</td>\n",
              "      <td>2.687519</td>\n",
              "      <td>100</td>\n",
              "      <td>0.0</td>\n",
              "      <td>0.494549</td>\n",
              "      <td>4.031619</td>\n",
              "      <td>1</td>\n",
              "    </tr>\n",
              "    <tr>\n",
              "      <th>1</th>\n",
              "      <td>256724</td>\n",
              "      <td>0.078003</td>\n",
              "      <td>38</td>\n",
              "      <td>3.856930</td>\n",
              "      <td>3</td>\n",
              "      <td>3.934927</td>\n",
              "      <td>100</td>\n",
              "      <td>0.0</td>\n",
              "      <td>0.256493</td>\n",
              "      <td>4.012924</td>\n",
              "      <td>1</td>\n",
              "    </tr>\n",
              "    <tr>\n",
              "      <th>2</th>\n",
              "      <td>62921</td>\n",
              "      <td>0.268666</td>\n",
              "      <td>100</td>\n",
              "      <td>2.974100</td>\n",
              "      <td>3</td>\n",
              "      <td>3.341429</td>\n",
              "      <td>100</td>\n",
              "      <td>0.0</td>\n",
              "      <td>0.294880</td>\n",
              "      <td>3.609205</td>\n",
              "      <td>1</td>\n",
              "    </tr>\n",
              "    <tr>\n",
              "      <th>3</th>\n",
              "      <td>99168</td>\n",
              "      <td>1.823185</td>\n",
              "      <td>63</td>\n",
              "      <td>0.000000</td>\n",
              "      <td>4</td>\n",
              "      <td>3.222832</td>\n",
              "      <td>63</td>\n",
              "      <td>0.0</td>\n",
              "      <td>0.461435</td>\n",
              "      <td>4.942302</td>\n",
              "      <td>1</td>\n",
              "    </tr>\n",
              "    <tr>\n",
              "      <th>4</th>\n",
              "      <td>105063</td>\n",
              "      <td>0.822418</td>\n",
              "      <td>100</td>\n",
              "      <td>2.979995</td>\n",
              "      <td>4</td>\n",
              "      <td>3.983222</td>\n",
              "      <td>100</td>\n",
              "      <td>0.0</td>\n",
              "      <td>1.002999</td>\n",
              "      <td>4.994452</td>\n",
              "      <td>1</td>\n",
              "    </tr>\n",
              "  </tbody>\n",
              "</table>\n",
              "</div>\n",
              "      <button class=\"colab-df-convert\" onclick=\"convertToInteractive('df-46c66ef2-1b2f-4591-b18e-7326d3e1c246')\"\n",
              "              title=\"Convert this dataframe to an interactive table.\"\n",
              "              style=\"display:none;\">\n",
              "        \n",
              "  <svg xmlns=\"http://www.w3.org/2000/svg\" height=\"24px\"viewBox=\"0 0 24 24\"\n",
              "       width=\"24px\">\n",
              "    <path d=\"M0 0h24v24H0V0z\" fill=\"none\"/>\n",
              "    <path d=\"M18.56 5.44l.94 2.06.94-2.06 2.06-.94-2.06-.94-.94-2.06-.94 2.06-2.06.94zm-11 1L8.5 8.5l.94-2.06 2.06-.94-2.06-.94L8.5 2.5l-.94 2.06-2.06.94zm10 10l.94 2.06.94-2.06 2.06-.94-2.06-.94-.94-2.06-.94 2.06-2.06.94z\"/><path d=\"M17.41 7.96l-1.37-1.37c-.4-.4-.92-.59-1.43-.59-.52 0-1.04.2-1.43.59L10.3 9.45l-7.72 7.72c-.78.78-.78 2.05 0 2.83L4 21.41c.39.39.9.59 1.41.59.51 0 1.02-.2 1.41-.59l7.78-7.78 2.81-2.81c.8-.78.8-2.07 0-2.86zM5.41 20L4 18.59l7.72-7.72 1.47 1.35L5.41 20z\"/>\n",
              "  </svg>\n",
              "      </button>\n",
              "      \n",
              "  <style>\n",
              "    .colab-df-container {\n",
              "      display:flex;\n",
              "      flex-wrap:wrap;\n",
              "      gap: 12px;\n",
              "    }\n",
              "\n",
              "    .colab-df-convert {\n",
              "      background-color: #E8F0FE;\n",
              "      border: none;\n",
              "      border-radius: 50%;\n",
              "      cursor: pointer;\n",
              "      display: none;\n",
              "      fill: #1967D2;\n",
              "      height: 32px;\n",
              "      padding: 0 0 0 0;\n",
              "      width: 32px;\n",
              "    }\n",
              "\n",
              "    .colab-df-convert:hover {\n",
              "      background-color: #E2EBFA;\n",
              "      box-shadow: 0px 1px 2px rgba(60, 64, 67, 0.3), 0px 1px 3px 1px rgba(60, 64, 67, 0.15);\n",
              "      fill: #174EA6;\n",
              "    }\n",
              "\n",
              "    [theme=dark] .colab-df-convert {\n",
              "      background-color: #3B4455;\n",
              "      fill: #D2E3FC;\n",
              "    }\n",
              "\n",
              "    [theme=dark] .colab-df-convert:hover {\n",
              "      background-color: #434B5C;\n",
              "      box-shadow: 0px 1px 3px 1px rgba(0, 0, 0, 0.15);\n",
              "      filter: drop-shadow(0px 1px 2px rgba(0, 0, 0, 0.3));\n",
              "      fill: #FFFFFF;\n",
              "    }\n",
              "  </style>\n",
              "\n",
              "      <script>\n",
              "        const buttonEl =\n",
              "          document.querySelector('#df-46c66ef2-1b2f-4591-b18e-7326d3e1c246 button.colab-df-convert');\n",
              "        buttonEl.style.display =\n",
              "          google.colab.kernel.accessAllowed ? 'block' : 'none';\n",
              "\n",
              "        async function convertToInteractive(key) {\n",
              "          const element = document.querySelector('#df-46c66ef2-1b2f-4591-b18e-7326d3e1c246');\n",
              "          const dataTable =\n",
              "            await google.colab.kernel.invokeFunction('convertToInteractive',\n",
              "                                                     [key], {});\n",
              "          if (!dataTable) return;\n",
              "\n",
              "          const docLinkHtml = 'Like what you see? Visit the ' +\n",
              "            '<a target=\"_blank\" href=https://colab.research.google.com/notebooks/data_table.ipynb>data table notebook</a>'\n",
              "            + ' to learn more about interactive tables.';\n",
              "          element.innerHTML = '';\n",
              "          dataTable['output_type'] = 'display_data';\n",
              "          await google.colab.output.renderOutput(dataTable, element);\n",
              "          const docLink = document.createElement('div');\n",
              "          docLink.innerHTML = docLinkHtml;\n",
              "          element.appendChild(docLink);\n",
              "        }\n",
              "      </script>\n",
              "    </div>\n",
              "  </div>\n",
              "  "
            ],
            "text/plain": [
              "      seq    stddev  N_IN_Conn_P_SrcIP  ...     srate       max  attack\n",
              "0  251984  1.900363                100  ...  0.494549  4.031619       1\n",
              "1  256724  0.078003                 38  ...  0.256493  4.012924       1\n",
              "2   62921  0.268666                100  ...  0.294880  3.609205       1\n",
              "3   99168  1.823185                 63  ...  0.461435  4.942302       1\n",
              "4  105063  0.822418                100  ...  1.002999  4.994452       1\n",
              "\n",
              "[5 rows x 11 columns]"
            ]
          },
          "metadata": {},
          "execution_count": 10
        }
      ],
      "source": [
        "# Feature Selection : Deleted unused columns\n",
        "dataset1 = dataset.copy()\n",
        "dataset1.drop(dataset1.columns[[0, 1 , 2, 3, 4, 5, 17, 18]], axis = 1, inplace = True)\n",
        "print(\"Shape of the input file - \", dataset1.shape)\n",
        "print(\"\\n\")\n",
        "print(dataset1.iloc[0])\n",
        "df = pd.DataFrame(dataset1)\n",
        "df.head(5)"
      ]
    },
    {
      "cell_type": "markdown",
      "metadata": {
        "id": "qWOw2Zvve46g"
      },
      "source": [
        "## Data preparation for model train and test"
      ]
    },
    {
      "cell_type": "code",
      "execution_count": null,
      "metadata": {
        "colab": {
          "base_uri": "https://localhost:8080/"
        },
        "id": "2tmfUPFXTkS6",
        "outputId": "1cbda034-7f3f-4d9c-86d1-df697982b12a"
      },
      "outputs": [
        {
          "output_type": "stream",
          "name": "stdout",
          "text": [
            "Class split in the dataset - Counter({1: 2934447, 0: 370})\n"
          ]
        }
      ],
      "source": [
        "# Separate lable column from the overall dataset\n",
        "x = df.drop('attack',axis='columns')\n",
        "y = df['attack']\n",
        "\n",
        "# Check the classes in the dataset\n",
        "counter = Counter(y)\n",
        "print(\"Class split in the dataset -\", counter)"
      ]
    },
    {
      "cell_type": "code",
      "execution_count": null,
      "metadata": {
        "id": "61JHnsPfVa81"
      },
      "outputs": [],
      "source": [
        "# Data Balance\n",
        "# smote = SMOTE(sampling_strategy='minority')\n",
        "# train_samples, train_labels = smote.fit_resample(x,y)\n",
        "# counter = Counter(train_labels)\n",
        "# print(\"Class split in the dataset after balancing -\", counter)\n",
        "\n",
        "train_samples, train_labels = x, y #Without Databalance"
      ]
    },
    {
      "cell_type": "code",
      "execution_count": null,
      "metadata": {
        "colab": {
          "base_uri": "https://localhost:8080/"
        },
        "id": "IUoAVVsYqUDJ",
        "outputId": "73975a5e-d215-40af-a66c-d9169817d03a"
      },
      "outputs": [
        {
          "output_type": "stream",
          "name": "stdout",
          "text": [
            "After Normalizing with MinMax \n",
            "\n",
            "[[9.60996911e-01 7.61130712e-01 1.00000000e+00 ... 0.00000000e+00\n",
            "  4.94549000e-07 8.06323961e-01]\n",
            " [9.79074025e-01 3.12416517e-02 3.73737374e-01 ... 0.00000000e+00\n",
            "  2.56493000e-07 8.02584961e-01]\n",
            " [2.39960337e-01 1.07605728e-01 1.00000000e+00 ... 0.00000000e+00\n",
            "  2.94880000e-07 7.21841144e-01]\n",
            " ...\n",
            " [6.04915907e-01 8.45986583e-01 1.00000000e+00 ... 0.00000000e+00\n",
            "  2.07444000e-07 8.66523173e-01]\n",
            " [6.85915869e-01 0.00000000e+00 1.00000000e+00 ... 0.00000000e+00\n",
            "  1.62130000e-07 0.00000000e+00]\n",
            " [3.63937302e-01 2.15559106e-02 1.00000000e+00 ... 6.59532023e-07\n",
            "  1.16388000e-07 3.44816069e-02]]\n"
          ]
        }
      ],
      "source": [
        "# Data Normalization (MinMax): scale data to make values between 0 and 1\n",
        "scaler = MinMaxScaler().fit(train_samples)\n",
        "scaled_x = scaler.transform(train_samples)\n",
        "pd.DataFrame(scaled_x)\n",
        "\n",
        "print(\"After Normalizing with MinMax \\n\")\n",
        "print(scaled_x)"
      ]
    },
    {
      "cell_type": "code",
      "execution_count": null,
      "metadata": {
        "colab": {
          "base_uri": "https://localhost:8080/"
        },
        "id": "pdjzMH36xSXA",
        "outputId": "0bcdfffa-e274-4f81-af49-f1a84fbcb943"
      },
      "outputs": [
        {
          "output_type": "stream",
          "name": "stdout",
          "text": [
            "[[0. 1.]\n",
            " [0. 1.]\n",
            " [0. 1.]\n",
            " ...\n",
            " [0. 1.]\n",
            " [0. 1.]\n",
            " [0. 1.]]\n"
          ]
        }
      ],
      "source": [
        "# Encoding the lables \n",
        "le = LabelEncoder()\n",
        "y_encoded = le.fit_transform(train_labels)\n",
        "y_encoded = np_utils.to_categorical(y_encoded)\n",
        "print(y_encoded)"
      ]
    },
    {
      "cell_type": "code",
      "execution_count": null,
      "metadata": {
        "colab": {
          "base_uri": "https://localhost:8080/"
        },
        "id": "hBtoY6SLxHa7",
        "outputId": "ca4bbd82-a909-4975-91d3-45b39c1e7e2c"
      },
      "outputs": [
        {
          "output_type": "stream",
          "name": "stdout",
          "text": [
            "Train Set:  (2054371, 10) (2054371, 2)\n",
            "Test Set:  (880446, 10) (880446, 2)\n"
          ]
        }
      ],
      "source": [
        "# Data split for train and test with 70:30 split with stratified Sampling \n",
        "RANDOM_STATE = 42\n",
        "TEST_SPLIT = 0.3\n",
        "train_samples, test_samples, train_labels, test_labels = train_test_split(\n",
        "    scaled_x, y_encoded, test_size=TEST_SPLIT, random_state=RANDOM_STATE, stratify=y_encoded)\n",
        "print(\"Train Set: \", train_samples.shape, train_labels.shape)\n",
        "print(\"Test Set: \", test_samples.shape, test_labels.shape)"
      ]
    },
    {
      "cell_type": "markdown",
      "metadata": {
        "id": "j2clJPj0nqIb"
      },
      "source": [
        "### Save Processed Data"
      ]
    },
    {
      "cell_type": "code",
      "execution_count": null,
      "metadata": {
        "id": "kExTsJlXhpQv"
      },
      "outputs": [],
      "source": [
        "# Save processed data using following code if needed\n",
        "# train_samples_df = pd.DataFrame(train_samples)\n",
        "# print(train_samples_df.shape)\n",
        "# test_samples_df = pd.DataFrame(test_samples)\n",
        "# print(test_samples_df.shape)\n",
        "\n",
        "# train_labels_df = pd.DataFrame(train_labels)\n",
        "# print(train_samples_df.shape)\n",
        "# test_labels_df = pd.DataFrame(test_labels)\n",
        "# print(test_labels_df.shape)\n",
        "# for data in [\n",
        "#              [\"scaled_train_samples.csv\", train_samples_df, train_samples.columns.values], \n",
        "#              [\"train_labels.csv\", train_labels_df, train_labels_df.columns.values], \n",
        "#              [\"scaled_test_samples.csv\", test_samples_df, test_samples.columns.values], \n",
        "#              [\"test_labels.csv\", test_labels_df, test_labels_df.columns.values]\n",
        "#              ]:\n",
        "\n",
        "#   path = \"/content/drive/MyDrive/VRES/Epsilon/\" + data[0]\n",
        "#   if exists(path) == False:\n",
        "#     data[1].to_csv(path, header=data[2], index=False)"
      ]
    },
    {
      "cell_type": "markdown",
      "metadata": {
        "id": "exu8IqDZyoBO"
      },
      "source": [
        "### Read Saved CSV"
      ]
    },
    {
      "cell_type": "code",
      "execution_count": null,
      "metadata": {
        "id": "9g-a6R25ymhF"
      },
      "outputs": [],
      "source": [
        "# scaled_train_samples = pd.read_csv(\"/content/drive/MyDrive/VRES/Epsilon/scaled_train_samples.csv\")\n",
        "# train_labels = pd.read_csv(\"/content/drive/MyDrive/VRES/Epsilon/train_labels.csv\")\n",
        "# scaled_test_samples = pd.read_csv(\"/content/drive/MyDrive/VRES/Epsilon/scaled_test_samples.csv\")\n",
        "# test_labels = pd.read_csv(\"/content/drive/MyDrive/VRES/Epsilon/test_labels.csv\")"
      ]
    },
    {
      "cell_type": "markdown",
      "metadata": {
        "id": "0HHo6PPe5Dts"
      },
      "source": [
        "# **Model Architecture and Traning**"
      ]
    },
    {
      "cell_type": "code",
      "execution_count": null,
      "metadata": {
        "id": "i_EPcRv5IsbA"
      },
      "outputs": [],
      "source": [
        "# Model Architecture\n",
        "model = keras.Sequential(\n",
        "    [\n",
        "     keras.layers.Input(shape=(10,)),\n",
        "     keras.layers.Dense(20, activation='tanh'),\n",
        "     keras.layers.Dense(60, activation='tanh'),\n",
        "     keras.layers.Dense(80, activation='tanh'),\n",
        "     keras.layers.Dense(90, activation='tanh'),\n",
        "     keras.layers.Dense(2, activation='sigmoid') \n",
        "    ]\n",
        "  )"
      ]
    },
    {
      "cell_type": "code",
      "execution_count": null,
      "metadata": {
        "colab": {
          "base_uri": "https://localhost:8080/",
          "height": 644
        },
        "id": "hQGSK99Uwadb",
        "outputId": "677d8a47-8d24-45f7-85f1-0f15b7ecec01"
      },
      "outputs": [
        {
          "output_type": "execute_result",
          "data": {
            "image/png": "[encoded data removed]",
            "text/plain": [
              "<IPython.core.display.Image object>"
            ]
          },
          "metadata": {},
          "execution_count": 61
        }
      ],
      "source": [
        "plot_model(model, to_file='model_plot.png', show_shapes=True, show_layer_names=True)"
      ]
    },
    {
      "cell_type": "code",
      "execution_count": null,
      "metadata": {
        "colab": {
          "base_uri": "https://localhost:8080/"
        },
        "id": "Iunw2fePEW75",
        "outputId": "fac3a521-b8c8-42d6-ff23-4ac377a70fc7"
      },
      "outputs": [
        {
          "output_type": "stream",
          "name": "stdout",
          "text": [
            "(None, 10)\n",
            "Model: \"sequential_1\"\n",
            "_________________________________________________________________\n",
            " Layer (type)                Output Shape              Param #   \n",
            "=================================================================\n",
            " dense_5 (Dense)             (None, 20)                220       \n",
            "                                                                 \n",
            " dense_6 (Dense)             (None, 60)                1260      \n",
            "                                                                 \n",
            " dense_7 (Dense)             (None, 80)                4880      \n",
            "                                                                 \n",
            " dense_8 (Dense)             (None, 90)                7290      \n",
            "                                                                 \n",
            " dense_9 (Dense)             (None, 2)                 182       \n",
            "                                                                 \n",
            "=================================================================\n",
            "Total params: 13,832\n",
            "Trainable params: 13,832\n",
            "Non-trainable params: 0\n",
            "_________________________________________________________________\n",
            "None\n"
          ]
        }
      ],
      "source": [
        "# Model summery\n",
        "print(model.input_shape)\n",
        "print(model.summary())"
      ]
    },
    {
      "cell_type": "markdown",
      "metadata": {
        "id": "BE3NL5__jwdK"
      },
      "source": [
        "## Model Parameters"
      ]
    },
    {
      "cell_type": "code",
      "execution_count": null,
      "metadata": {
        "id": "baX0ACQnLBEH"
      },
      "outputs": [],
      "source": [
        "# Model hyperparameters\n",
        "BATCH_SIZE = 32\n",
        "EPOCH = 3\n",
        "VERBOSE = 1\n",
        "VALIDATION_SPLIT = 0.4\n",
        "RANDOM_STATE = 42\n",
        "LEARNING_RATE = 0.001 #0.01\n",
        "MODEL_PATH = \"/content/drive/MyDrive/VRES/Bot_IoT/model_botIoT.h5\""
      ]
    },
    {
      "cell_type": "code",
      "execution_count": null,
      "metadata": {
        "id": "7DyoiBcCx_V7"
      },
      "outputs": [],
      "source": [
        "# Compile the model\n",
        "model.compile(optimizer=tf.keras.optimizers.SGD(learning_rate=LEARNING_RATE), \n",
        "              loss=tf.keras.losses.BinaryCrossentropy(from_logits=True), metrics=['accuracy']) "
      ]
    },
    {
      "cell_type": "code",
      "execution_count": null,
      "metadata": {
        "colab": {
          "base_uri": "https://localhost:8080/"
        },
        "id": "q-flPeZAjIyB",
        "outputId": "8aa0425c-cf57-4869-cf8c-58ddb21ca303"
      },
      "outputs": [
        {
          "output_type": "stream",
          "name": "stdout",
          "text": [
            "Epoch 1/3\n"
          ]
        },
        {
          "output_type": "stream",
          "name": "stderr",
          "text": [
            "/usr/local/lib/python3.7/dist-packages/tensorflow/python/util/dispatch.py:1082: UserWarning: \"`binary_crossentropy` received `from_logits=True`, but the `output` argument was produced by a sigmoid or softmax activation and thus does not represent logits. Was this intended?\"\n",
            "  return dispatch_target(*args, **kwargs)\n"
          ]
        },
        {
          "output_type": "stream",
          "name": "stdout",
          "text": [
            "77030/77030 [==============================] - 434s 6ms/step - loss: 0.0381 - accuracy: 0.9904 - val_loss: 0.0167 - val_accuracy: 0.9961\n",
            "Epoch 2/3\n",
            "77030/77030 [==============================] - 462s 6ms/step - loss: 0.0153 - accuracy: 0.9963 - val_loss: 0.0141 - val_accuracy: 0.9966\n",
            "Epoch 3/3\n",
            "77030/77030 [==============================] - 434s 6ms/step - loss: 0.0133 - accuracy: 0.9967 - val_loss: 0.0125 - val_accuracy: 0.9969\n"
          ]
        },
        {
          "output_type": "execute_result",
          "data": {
            "text/plain": [
              "<keras.callbacks.History at 0x7f1ac1156fd0>"
            ]
          },
          "metadata": {},
          "execution_count": 23
        }
      ],
      "source": [
        "# Train the model \n",
        "model.fit(x=train_samples, y=train_labels, batch_size=BATCH_SIZE, epochs=EPOCH, \n",
        "          verbose=VERBOSE, validation_split=VALIDATION_SPLIT, shuffle=True)"
      ]
    },
    {
      "cell_type": "code",
      "execution_count": null,
      "metadata": {
        "id": "SwOFxrQKQGFj"
      },
      "outputs": [],
      "source": [
        "# Save the model \n",
        "if exists(MODEL_PATH) == False:\n",
        "  model.save(MODEL_PATH)"
      ]
    },
    {
      "cell_type": "markdown",
      "metadata": {
        "id": "bsLFHy3mucI4"
      },
      "source": [
        "## Model Predictions"
      ]
    },
    {
      "cell_type": "code",
      "execution_count": null,
      "metadata": {
        "colab": {
          "base_uri": "https://localhost:8080/",
          "height": 713
        },
        "id": "WYGp0a2eJu2B",
        "outputId": "5815875f-00e0-428a-f029-4a0748aa97e4"
      },
      "outputs": [
        {
          "output_type": "stream",
          "name": "stdout",
          "text": [
            "Model Evaluation: \n",
            "55021/55021 [==============================] - 166s 3ms/step - loss: 0.0123 - accuracy: 0.9969\n",
            "[0.012301326729357243, 0.9969154000282288]\n",
            "\n",
            "\n",
            "Model Prediction...\n"
          ]
        },
        {
          "output_type": "stream",
          "name": "stderr",
          "text": [
            "/usr/local/lib/python3.7/dist-packages/sklearn/metrics/_classification.py:1318: UndefinedMetricWarning: Precision and F-score are ill-defined and being set to 0.0 in samples with no predicted labels. Use `zero_division` parameter to control this behavior.\n",
            "  _warn_prf(average, modifier, msg_start, len(result))\n"
          ]
        },
        {
          "output_type": "stream",
          "name": "stdout",
          "text": [
            "Classification Report: \n",
            "               precision    recall  f1-score   support\n",
            "\n",
            "           0       0.99      1.00      1.00    880334\n",
            "           1       1.00      0.99      1.00    880335\n",
            "\n",
            "   micro avg       1.00      1.00      1.00   1760669\n",
            "   macro avg       1.00      1.00      1.00   1760669\n",
            "weighted avg       1.00      1.00      1.00   1760669\n",
            " samples avg       1.00      1.00      1.00   1760669\n",
            "\n",
            "Confusion Matrix without normalization\n",
            "[[879781    553]\n",
            " [  4940 875395]]\n"
          ]
        },
        {
          "output_type": "display_data",
          "data": {
            "image/png": "[encoded data removed]",
            "text/plain": [
              "<Figure size 432x288 with 2 Axes>"
            ]
          },
          "metadata": {
            "needs_background": "light"
          }
        }
      ],
      "source": [
        "# Model prediction \n",
        "print(\"Model Evaluation: \")\n",
        "print(model.evaluate(test_samples, test_labels))\n",
        "print(\"\\n\")\n",
        "\n",
        "print(\"Model Prediction...\")\n",
        "pred_Main1 = model.predict(test_samples)\n",
        "pred_Main = np.round(pred_Main1)\n",
        "print(\"Classification Report: \\n\",classification_report(test_labels, pred_Main))\n",
        "\n",
        "cm = confusion_matrix(test_labels.argmax(axis=1), pred_Main.argmax(axis=1))\n",
        "CM_PLOT_LABLES = ['attack','normal'] # Confusion matrix lables defined here\n",
        "plot_confusion_matrix(cm=cm, classes=CM_PLOT_LABLES, title=\"Bot-IoT-Data: Original Data Confusion Matrix\")"
      ]
    },
    {
      "cell_type": "markdown",
      "metadata": {
        "id": "xG_bjwGBj5JK"
      },
      "source": [
        "# **FGSM and Prediction**"
      ]
    },
    {
      "cell_type": "code",
      "execution_count": null,
      "metadata": {
        "colab": {
          "base_uri": "https://localhost:8080/"
        },
        "id": "BXala-GJGfAo",
        "outputId": "79fb2cb1-dbbc-4dda-9e1b-cf2f36d556dd"
      },
      "outputs": [
        {
          "output_type": "execute_result",
          "data": {
            "text/plain": [
              "<KerasTensor: shape=(None, 10) dtype=float32 (created by layer 'input_1')>"
            ]
          },
          "metadata": {},
          "execution_count": 26
        }
      ],
      "source": [
        "# Load the Model: Load model when we need to use it after restarting runtime. \n",
        "# model = load_model(\"/content/drive/MyDrive/VRES/Bot_IoT/model_botIoT.h5\")\n",
        "\n",
        "CM_PLOT_LABLES = ['attack','normal'] # Class lables for Confusion Matix\n",
        "\n",
        "# Create a list for saving accuracy\n",
        "adv_acc = []\n",
        "\n",
        "# Check model shape\n",
        "model.layers[-1].output\n",
        "model.input"
      ]
    },
    {
      "cell_type": "code",
      "execution_count": null,
      "metadata": {
        "colab": {
          "base_uri": "https://localhost:8080/"
        },
        "id": "rHFn4BuD2Q1s",
        "outputId": "f04cb944-aa39-4a5c-8df5-59b9acaa0099"
      },
      "outputs": [
        {
          "output_type": "execute_result",
          "data": {
            "text/plain": [
              "<keras.engine.functional.Functional at 0x7f1ac04d4b90>"
            ]
          },
          "metadata": {},
          "execution_count": 27
        }
      ],
      "source": [
        "# Logits Model as given in - https://arxiv.org/abs/2104.12426\n",
        "logits_model = tf.keras.Model(model.input, model.layers[-1].output)\n",
        "logits_model"
      ]
    },
    {
      "cell_type": "code",
      "execution_count": null,
      "metadata": {
        "colab": {
          "base_uri": "https://localhost:8080/"
        },
        "id": "TioO7iBuJtFH",
        "outputId": "8e453009-14cf-4da2-84f6-ab3768d9ce8a"
      },
      "outputs": [
        {
          "output_type": "execute_result",
          "data": {
            "text/plain": [
              "<tf.Tensor: shape=(1760669, 10), dtype=float64, numpy=\n",
              "array([[1.63380497e-02, 0.00000000e+00, 1.61616162e-01, ...,\n",
              "        0.00000000e+00, 3.10981700e-07, 0.00000000e+00],\n",
              "       [5.30910339e-02, 0.00000000e+00, 1.31313131e-01, ...,\n",
              "        0.00000000e+00, 0.00000000e+00, 1.20000024e-05],\n",
              "       [5.72060562e-05, 4.97769144e-01, 2.52525253e-01, ...,\n",
              "        1.50137229e-05, 8.83161064e-07, 9.99997661e-01],\n",
              "       ...,\n",
              "       [8.76572213e-01, 6.82825723e-01, 5.45454545e-01, ...,\n",
              "        0.00000000e+00, 2.79177000e-07, 9.20785784e-01],\n",
              "       [6.74280157e-01, 2.28698919e-01, 7.87878788e-01, ...,\n",
              "        0.00000000e+00, 3.23973000e-07, 9.32746587e-01],\n",
              "       [1.41070135e-02, 0.00000000e+00, 7.37373737e-01, ...,\n",
              "        0.00000000e+00, 0.00000000e+00, 6.82888129e-03]])>"
            ]
          },
          "metadata": {},
          "execution_count": 28
        }
      ],
      "source": [
        "# Convert the Test samples to tensor\n",
        "original_data = test_samples.copy()\n",
        "original_data = tf.convert_to_tensor(original_data.reshape((len(test_samples), 10)))\n",
        "original_data"
      ]
    },
    {
      "cell_type": "code",
      "execution_count": null,
      "metadata": {
        "colab": {
          "base_uri": "https://localhost:8080/",
          "height": 661
        },
        "id": "0b4YpN-MTOlP",
        "outputId": "5bdab4d8-8bbd-4b43-c206-030a4efbd187"
      },
      "outputs": [
        {
          "output_type": "stream",
          "name": "stdout",
          "text": [
            "Model Evaluation : \n",
            "55021/55021 [==============================] - 164s 3ms/step - loss: 0.0123 - accuracy: 0.9969\n",
            "[0.012301326729357243, 0.9969154000282288]\n"
          ]
        },
        {
          "output_type": "stream",
          "name": "stderr",
          "text": [
            "/usr/local/lib/python3.7/dist-packages/sklearn/metrics/_classification.py:1318: UndefinedMetricWarning: Precision and F-score are ill-defined and being set to 0.0 in samples with no predicted labels. Use `zero_division` parameter to control this behavior.\n",
            "  _warn_prf(average, modifier, msg_start, len(result))\n"
          ]
        },
        {
          "output_type": "stream",
          "name": "stdout",
          "text": [
            "Classification Report: \n",
            "               precision    recall  f1-score   support\n",
            "\n",
            "           0       0.99      1.00      1.00    880334\n",
            "           1       1.00      0.99      1.00    880335\n",
            "\n",
            "   micro avg       1.00      1.00      1.00   1760669\n",
            "   macro avg       1.00      1.00      1.00   1760669\n",
            "weighted avg       1.00      1.00      1.00   1760669\n",
            " samples avg       1.00      1.00      1.00   1760669\n",
            "\n",
            "Confusion Matrix without normalization\n",
            "[[879781    553]\n",
            " [  4940 875395]]\n"
          ]
        },
        {
          "output_type": "display_data",
          "data": {
            "image/png": "[encoded data removed]",
            "text/plain": [
              "<Figure size 432x288 with 2 Axes>"
            ]
          },
          "metadata": {
            "needs_background": "light"
          }
        }
      ],
      "source": [
        "# fast_gradient_method with varing Epsilon value \n",
        "\n",
        "# Epsilon value: EPS\n",
        "EPS= 0 \n",
        "\n",
        "# Generate adversarial samples\n",
        "adv_data_0 = fast_gradient_method(logits_model, original_data, EPS, np.inf, targeted=False)\n",
        "\n",
        "print(\"Model Evaluation : \")\n",
        "print(model.evaluate(adv_data_0, test_labels))\n",
        "\n",
        "pred0 = model.predict(adv_data_0)\n",
        "pred0 = np.round(pred0)\n",
        "print(\"Classification Report: \\n\", classification_report(test_labels, pred0))\n",
        "\n",
        "# The confusion matrix\n",
        "cm0 = confusion_matrix(test_labels.argmax(axis=1), pred0.argmax(axis=1))\n",
        "plot_confusion_matrix(cm=cm0, classes=CM_PLOT_LABLES, title=\"Bot-IoT-Data:Confusion Matrix when Epsilon = 0\")"
      ]
    },
    {
      "cell_type": "code",
      "execution_count": null,
      "metadata": {
        "id": "Mmqww3GNWzq2"
      },
      "outputs": [],
      "source": [
        "adv_acc.append(accuracy_score(test_labels, pred0)) # Saving the prediction accuracy"
      ]
    },
    {
      "cell_type": "markdown",
      "metadata": {
        "id": "KfqAR5lFo42Q"
      },
      "source": [
        "\n",
        "\n",
        "---\n",
        "\n",
        "\n",
        "\n",
        "---\n",
        "\n"
      ]
    },
    {
      "cell_type": "code",
      "execution_count": null,
      "metadata": {
        "colab": {
          "base_uri": "https://localhost:8080/",
          "height": 661
        },
        "id": "hhl-O4rEn18t",
        "outputId": "5c19c003-5c38-45a9-aff1-c3f71b330d94"
      },
      "outputs": [
        {
          "output_type": "stream",
          "name": "stdout",
          "text": [
            "Model Evaluation : \n",
            "55021/55021 [==============================] - 162s 3ms/step - loss: 5.0559 - accuracy: 0.4316\n",
            "[5.0559234619140625, 0.43158140778541565]\n"
          ]
        },
        {
          "output_type": "stream",
          "name": "stderr",
          "text": [
            "/usr/local/lib/python3.7/dist-packages/sklearn/metrics/_classification.py:1318: UndefinedMetricWarning: Precision and F-score are ill-defined and being set to 0.0 in samples with no predicted labels. Use `zero_division` parameter to control this behavior.\n",
            "  _warn_prf(average, modifier, msg_start, len(result))\n"
          ]
        },
        {
          "output_type": "stream",
          "name": "stdout",
          "text": [
            "Classification Report: \n",
            "               precision    recall  f1-score   support\n",
            "\n",
            "           0       0.00      0.00      0.00    880334\n",
            "           1       0.46      0.86      0.60    880335\n",
            "\n",
            "   micro avg       0.43      0.43      0.43   1760669\n",
            "   macro avg       0.23      0.43      0.30   1760669\n",
            "weighted avg       0.23      0.43      0.30   1760669\n",
            " samples avg       0.43      0.43      0.43   1760669\n",
            "\n",
            "Confusion Matrix without normalization\n",
            "[[   555 879779]\n",
            " [122099 758236]]\n"
          ]
        },
        {
          "output_type": "display_data",
          "data": {
            "image/png": "[encoded data removed]",
            "text/plain": [
              "<Figure size 432x288 with 2 Axes>"
            ]
          },
          "metadata": {
            "needs_background": "light"
          }
        }
      ],
      "source": [
        "# fast_gradient_method with varing Epsilon value \n",
        "\n",
        "# Epsilon value: EPS\n",
        "EPS= 0.2\n",
        "\n",
        "# Generate adversarial samples\n",
        "adv_data_1 = fast_gradient_method(logits_model, original_data, EPS, np.inf, targeted=False)\n",
        "\n",
        "print(\"Model Evaluation : \")\n",
        "print(model.evaluate(adv_data_1, test_labels))\n",
        "\n",
        "pred1 = model.predict(adv_data_1)\n",
        "pred1 = np.round(pred1)\n",
        "print(\"Classification Report: \\n\", classification_report(test_labels, pred1))\n",
        "\n",
        "# The confusion matrix\n",
        "cm1 = confusion_matrix(test_labels.argmax(axis=1), pred1.argmax(axis=1))\n",
        "plot_confusion_matrix(cm=cm1, classes=CM_PLOT_LABLES, title=\"Bot-IoT-Data:Confusion Matrix when Epsilon = 0.2\")"
      ]
    },
    {
      "cell_type": "code",
      "execution_count": null,
      "metadata": {
        "id": "qZkerKG_W3OC"
      },
      "outputs": [],
      "source": [
        "adv_acc.append(accuracy_score(test_labels, pred1))"
      ]
    },
    {
      "cell_type": "markdown",
      "metadata": {
        "id": "E_dLh7W8o2kQ"
      },
      "source": [
        "\n",
        "\n",
        "---\n",
        "\n",
        "\n",
        "\n",
        "---\n",
        "\n"
      ]
    },
    {
      "cell_type": "code",
      "execution_count": null,
      "metadata": {
        "colab": {
          "base_uri": "https://localhost:8080/",
          "height": 661
        },
        "id": "erFuo5lmo77r",
        "outputId": "6273dab4-40c6-441d-ee83-374faa7db046"
      },
      "outputs": [
        {
          "output_type": "stream",
          "name": "stdout",
          "text": [
            "Model Evaluation : \n",
            "55021/55021 [==============================] - 164s 3ms/step - loss: 8.7172 - accuracy: 0.1283\n",
            "[8.717207908630371, 0.12825125455856323]\n"
          ]
        },
        {
          "output_type": "stream",
          "name": "stderr",
          "text": [
            "/usr/local/lib/python3.7/dist-packages/sklearn/metrics/_classification.py:1318: UndefinedMetricWarning: Precision and F-score are ill-defined and being set to 0.0 in samples with no predicted labels. Use `zero_division` parameter to control this behavior.\n",
            "  _warn_prf(average, modifier, msg_start, len(result))\n"
          ]
        },
        {
          "output_type": "stream",
          "name": "stdout",
          "text": [
            "Classification Report: \n",
            "               precision    recall  f1-score   support\n",
            "\n",
            "           0       0.00      0.00      0.00    880334\n",
            "           1       0.20      0.25      0.22    880335\n",
            "\n",
            "   micro avg       0.13      0.13      0.13   1760669\n",
            "   macro avg       0.10      0.13      0.11   1760669\n",
            "weighted avg       0.10      0.13      0.11   1760669\n",
            " samples avg       0.13      0.13      0.13   1760669\n",
            "\n",
            "Confusion Matrix without normalization\n",
            "[[   555 879779]\n",
            " [658078 222257]]\n"
          ]
        },
        {
          "output_type": "display_data",
          "data": {
            "image/png": "[encoded data removed]",
            "text/plain": [
              "<Figure size 432x288 with 2 Axes>"
            ]
          },
          "metadata": {
            "needs_background": "light"
          }
        }
      ],
      "source": [
        "# fast_gradient_method with varing Epsilon value \n",
        "\n",
        "# Epsilon value: EPS\n",
        "EPS= 0.4\n",
        "\n",
        "# Generate adversarial samples\n",
        "adv_data_2 = fast_gradient_method(logits_model, original_data, EPS, np.inf, targeted=False)\n",
        "\n",
        "print(\"Model Evaluation : \")\n",
        "print(model.evaluate(adv_data_2, test_labels))\n",
        "\n",
        "pred2 = model.predict(adv_data_2)\n",
        "pred2 = np.round(pred2)\n",
        "print(\"Classification Report: \\n\", classification_report(test_labels, pred2))\n",
        "\n",
        "# The confusion matrix\n",
        "cm2 = confusion_matrix(test_labels.argmax(axis=1), pred2.argmax(axis=1))\n",
        "plot_confusion_matrix(cm=cm2, classes=CM_PLOT_LABLES, title=\"Bot-IoT-Data:Confusion Matrix when Epsilon = 0.4\")"
      ]
    },
    {
      "cell_type": "code",
      "execution_count": null,
      "metadata": {
        "id": "FqL6byvrW7FD"
      },
      "outputs": [],
      "source": [
        "adv_acc.append(accuracy_score(test_labels, pred2))"
      ]
    },
    {
      "cell_type": "markdown",
      "metadata": {
        "id": "usdyBOm4pzjp"
      },
      "source": [
        "\n",
        "\n",
        "---\n",
        "\n",
        "\n",
        "\n",
        "---\n",
        "\n"
      ]
    },
    {
      "cell_type": "code",
      "execution_count": null,
      "metadata": {
        "colab": {
          "base_uri": "https://localhost:8080/",
          "height": 606
        },
        "id": "18ZNAdWRqnLK",
        "outputId": "dd9bf76c-3b3c-4722-ce9b-f40e64a9ce55"
      },
      "outputs": [
        {
          "output_type": "stream",
          "name": "stdout",
          "text": [
            "Model Evaluation : \n",
            "55021/55021 [==============================] - 161s 3ms/step - loss: 11.3892 - accuracy: 0.0031\n",
            "[11.38919448852539, 0.003084623022004962]\n",
            "Classification Report: \n",
            "               precision    recall  f1-score   support\n",
            "\n",
            "           0       0.00      0.00      0.00    880334\n",
            "           1       0.01      0.01      0.01    880335\n",
            "\n",
            "   micro avg       0.00      0.00      0.00   1760669\n",
            "   macro avg       0.00      0.00      0.00   1760669\n",
            "weighted avg       0.00      0.00      0.00   1760669\n",
            " samples avg       0.00      0.00      0.00   1760669\n",
            "\n",
            "Confusion Matrix without normalization\n",
            "[[   555 879779]\n",
            " [875459   4876]]\n"
          ]
        },
        {
          "output_type": "display_data",
          "data": {
            "image/png": "[encoded data removed]",
            "text/plain": [
              "<Figure size 432x288 with 2 Axes>"
            ]
          },
          "metadata": {
            "needs_background": "light"
          }
        }
      ],
      "source": [
        "# fast_gradient_method with varing Epsilon value \n",
        "\n",
        "# Epsilon value: EPS\n",
        "EPS= 0.6\n",
        "\n",
        "# Generate adversarial samples\n",
        "adv_data_3 = fast_gradient_method(logits_model, original_data, EPS, np.inf, targeted=False)\n",
        "\n",
        "print(\"Model Evaluation : \")\n",
        "print(model.evaluate(adv_data_3, test_labels))\n",
        "\n",
        "pred3 = model.predict(adv_data_3)\n",
        "pred3 = np.round(pred3)\n",
        "print(\"Classification Report: \\n\", classification_report(test_labels, pred3))\n",
        "\n",
        "# The confusion matrix\n",
        "cm3 = confusion_matrix(test_labels.argmax(axis=1), pred3.argmax(axis=1))\n",
        "plot_confusion_matrix(cm=cm3, classes=CM_PLOT_LABLES, title=\"Bot-IoT-Data:Confusion Matrix when Epsilon = 0.6\")"
      ]
    },
    {
      "cell_type": "code",
      "execution_count": null,
      "metadata": {
        "id": "P46gFbpxW9ot"
      },
      "outputs": [],
      "source": [
        "adv_acc.append(accuracy_score(test_labels, pred3))"
      ]
    },
    {
      "cell_type": "markdown",
      "metadata": {
        "id": "l71vGJA2sK2J"
      },
      "source": [
        "\n",
        "\n",
        "---\n",
        "\n",
        "\n",
        "\n",
        "---\n",
        "\n"
      ]
    },
    {
      "cell_type": "code",
      "execution_count": null,
      "metadata": {
        "colab": {
          "base_uri": "https://localhost:8080/",
          "height": 606
        },
        "id": "mGwJ4ZKArpNx",
        "outputId": "3c5951d6-ca81-4c85-e260-b27d07cb4e72"
      },
      "outputs": [
        {
          "output_type": "stream",
          "name": "stdout",
          "text": [
            "Model Evaluation : \n",
            "55021/55021 [==============================] - 160s 3ms/step - loss: 11.8604 - accuracy: 0.0031\n",
            "[11.860371589660645, 0.003084623022004962]\n",
            "Classification Report: \n",
            "               precision    recall  f1-score   support\n",
            "\n",
            "           0       0.00      0.00      0.00    880334\n",
            "           1       0.01      0.01      0.01    880335\n",
            "\n",
            "   micro avg       0.00      0.00      0.00   1760669\n",
            "   macro avg       0.00      0.00      0.00   1760669\n",
            "weighted avg       0.00      0.00      0.00   1760669\n",
            " samples avg       0.00      0.00      0.00   1760669\n",
            "\n",
            "Confusion Matrix without normalization\n",
            "[[   555 879779]\n",
            " [875459   4876]]\n"
          ]
        },
        {
          "output_type": "display_data",
          "data": {
            "image/png": "[encoded data removed]",
            "text/plain": [
              "<Figure size 432x288 with 2 Axes>"
            ]
          },
          "metadata": {
            "needs_background": "light"
          }
        }
      ],
      "source": [
        "# fast_gradient_method with varing Epsilon value \n",
        "\n",
        "# Epsilon value: EPS\n",
        "EPS= 0.8\n",
        "\n",
        "# Generate adversarial samples\n",
        "adv_data_4 = fast_gradient_method(logits_model, original_data, EPS, np.inf, targeted=False)\n",
        "\n",
        "print(\"Model Evaluation : \")\n",
        "print(model.evaluate(adv_data_4, test_labels))\n",
        "\n",
        "pred4 = model.predict(adv_data_4)\n",
        "pred4 = np.round(pred4)\n",
        "print(\"Classification Report: \\n\", classification_report(test_labels, pred4))\n",
        "\n",
        "# The confusion matrix\n",
        "cm4 = confusion_matrix(test_labels.argmax(axis=1), pred4.argmax(axis=1))\n",
        "plot_confusion_matrix(cm=cm4, classes=CM_PLOT_LABLES, title=\"Bot-IoT-Data:Confusion Matrix when Epsilon = 0.8\")"
      ]
    },
    {
      "cell_type": "code",
      "execution_count": null,
      "metadata": {
        "id": "n2q92-3oL7-M"
      },
      "outputs": [],
      "source": [
        "adv_acc.append(accuracy_score(test_labels, pred4))"
      ]
    },
    {
      "cell_type": "markdown",
      "metadata": {
        "id": "zu3uQesxsQOJ"
      },
      "source": [
        "\n",
        "\n",
        "---\n",
        "\n",
        "\n",
        "\n",
        "---\n",
        "\n"
      ]
    },
    {
      "cell_type": "code",
      "execution_count": null,
      "metadata": {
        "colab": {
          "base_uri": "https://localhost:8080/",
          "height": 606
        },
        "id": "-hF58BuNsJDq",
        "outputId": "07023377-b010-4b9c-a84f-59984b166a5b"
      },
      "outputs": [
        {
          "output_type": "stream",
          "name": "stdout",
          "text": [
            "Model Evaluation : \n",
            "55021/55021 [==============================] - 165s 3ms/step - loss: 11.9730 - accuracy: 0.0031\n",
            "[11.973029136657715, 0.003084623022004962]\n",
            "Classification Report: \n",
            "               precision    recall  f1-score   support\n",
            "\n",
            "           0       0.00      0.00      0.00    880334\n",
            "           1       0.01      0.01      0.01    880335\n",
            "\n",
            "   micro avg       0.00      0.00      0.00   1760669\n",
            "   macro avg       0.00      0.00      0.00   1760669\n",
            "weighted avg       0.00      0.00      0.00   1760669\n",
            " samples avg       0.00      0.00      0.00   1760669\n",
            "\n",
            "Confusion Matrix without normalization\n",
            "[[   555 879779]\n",
            " [875459   4876]]\n"
          ]
        },
        {
          "output_type": "display_data",
          "data": {
            "image/png": "[encoded data removed]",
            "text/plain": [
              "<Figure size 432x288 with 2 Axes>"
            ]
          },
          "metadata": {
            "needs_background": "light"
          }
        }
      ],
      "source": [
        "# fast_gradient_method with varing Epsilon value \n",
        "\n",
        "# Epsilon value: EPS\n",
        "EPS = 1\n",
        "\n",
        "# Generate adversarial samples\n",
        "adv_data_5 = fast_gradient_method(logits_model, original_data, EPS, np.inf, targeted=False)\n",
        "\n",
        "print(\"Model Evaluation : \")\n",
        "print(model.evaluate(adv_data_5, test_labels))\n",
        "\n",
        "pred5 = model.predict(adv_data_5)\n",
        "pred5 = np.round(pred5)\n",
        "print(\"Classification Report: \\n\", classification_report(test_labels, pred5))\n",
        "\n",
        "# The confusion matrix\n",
        "cm5 = confusion_matrix(test_labels.argmax(axis=1), pred5.argmax(axis=1))\n",
        "plot_confusion_matrix(cm=cm5, classes=CM_PLOT_LABLES, title=\"Bot-IoT-Data:Confusion Matrix when Epsilon = 1\")"
      ]
    },
    {
      "cell_type": "code",
      "execution_count": null,
      "metadata": {
        "id": "WrEVXuiQL__v"
      },
      "outputs": [],
      "source": [
        "adv_acc.append(accuracy_score(test_labels, pred5))"
      ]
    },
    {
      "cell_type": "markdown",
      "metadata": {
        "id": "qKY7Hxuc0PzI"
      },
      "source": [
        "# **Epsilon Value VS. Accuracy**"
      ]
    },
    {
      "cell_type": "code",
      "execution_count": null,
      "metadata": {
        "colab": {
          "base_uri": "https://localhost:8080/",
          "height": 295
        },
        "id": "7ScqeBKvD2wh",
        "outputId": "d793eda1-9c70-485a-a909-81ff8386e9f8"
      },
      "outputs": [
        {
          "output_type": "display_data",
          "data": {
            "image/png": "[encoded data removed]",
            "text/plain": [
              "<Figure size 432x288 with 1 Axes>"
            ]
          },
          "metadata": {
            "needs_background": "light"
          }
        }
      ],
      "source": [
        "# Epsilon value VS. Accuracy\n",
        "plt.plot(np.linspace(0, 1, 6, True), adv_acc, color='#ffa64d')\n",
        "plt.title('BotIoT Data: Accuracy VS. Epsilon Values')\n",
        "plt.xlabel('Epsilon')\n",
        "plt.ylabel('Accuracy')\n",
        "plt.show()"
      ]
    },
    {
      "cell_type": "markdown",
      "metadata": {
        "id": "iylyagd97D8b"
      },
      "source": [
        "# Retrain Model with Adverserial Samples\n",
        "Retrain model with samples including various percentage of adversarial samples."
      ]
    },
    {
      "cell_type": "markdown",
      "metadata": {
        "id": "mmf1k1efO8I0"
      },
      "source": [
        "## Experiment 1\n",
        "\n",
        "We have 70% for training and 30% for testing. Now we are going to split the 70% into 60% and 10%, and use the 10% to generate adversarial samples. "
      ]
    },
    {
      "cell_type": "code",
      "execution_count": null,
      "metadata": {
        "id": "JLjJf4YRud9T"
      },
      "outputs": [],
      "source": [
        "# Retain from \"FGSM and Prediction\"\n",
        "CM_PLOT_LABLES = ['attack','normal'] # Class lables for Confusion Matix"
      ]
    },
    {
      "cell_type": "code",
      "execution_count": null,
      "metadata": {
        "colab": {
          "base_uri": "https://localhost:8080/"
        },
        "id": "cWQYRrm0ukHt",
        "outputId": "cf2bd85c-3f37-4a9d-ffc1-07e166bf7ecc"
      },
      "outputs": [
        {
          "output_type": "execute_result",
          "data": {
            "text/plain": [
              "<keras.engine.functional.Functional at 0x7f1abe970550>"
            ]
          },
          "metadata": {},
          "execution_count": 66
        }
      ],
      "source": [
        "# Logits Model as given in - https://arxiv.org/abs/2104.12426\n",
        "logits_model = tf.keras.Model(model.input, model.layers[-1].output)\n",
        "logits_model"
      ]
    },
    {
      "cell_type": "code",
      "execution_count": null,
      "metadata": {
        "colab": {
          "base_uri": "https://localhost:8080/"
        },
        "id": "r0DBZKXYB7-i",
        "outputId": "6853a56b-bd6e-4fe2-80f7-c7687170ae6a"
      },
      "outputs": [
        {
          "output_type": "stream",
          "name": "stdout",
          "text": [
            "WARNING:tensorflow:6 out of the last 11 calls to <function compute_gradient at 0x7f1b411f7950> triggered tf.function retracing. Tracing is expensive and the excessive number of tracings could be due to (1) creating @tf.function repeatedly in a loop, (2) passing tensors with different shapes, (3) passing Python objects instead of tensors. For (1), please define your @tf.function outside of the loop. For (2), @tf.function has experimental_relax_shapes=True option that relaxes argument shapes that can avoid unnecessary retracing. For (3), please refer to https://www.tensorflow.org/guide/function#controlling_retracing and https://www.tensorflow.org/api_docs/python/tf/function for  more details.\n"
          ]
        }
      ],
      "source": [
        "# Parameters\n",
        "EPS = 1 #Epsilon Value\n",
        "RANDOM_STATE = 42\n",
        "TRAIN_ADVERSERIAL_SIZE = 0.1\n",
        "TEST_ADVERSERIAL_SIZE = 0.5\n",
        "\n",
        "# Adding adverserial samples to train set \n",
        "\n",
        "norm_samples1, adv_samples1, norm_labels1, adv_labels1 = train_test_split(\n",
        "    train_samples, train_labels, test_size=TRAIN_ADVERSERIAL_SIZE, \n",
        "    random_state=RANDOM_STATE, stratify=train_labels) # Making the train and adverserial sample split \n",
        "\n",
        "original_data = adv_samples1.copy()\n",
        "original_data = tf.convert_to_tensor(original_data.reshape((len(adv_samples1), 10))) # Convert to part of train samples to tensor\n",
        "\n",
        "adv_samples1 = fast_gradient_method(logits_model, original_data,EPS, np.inf) # Run fast_gradient_method on the tensor train sample \n",
        "\n",
        "# Concatenate split train data\n",
        "exp_train_samples1 = tf.concat((norm_samples1, adv_samples1), 0)\n",
        "exp_train_labels1 = np.concatenate((norm_labels1, adv_labels1), axis=0)\n",
        "exp_train_samples1 = exp_train_samples1.numpy()\n",
        "\n",
        "# # Shuffle train data\n",
        "exp_train_samples1, exp_train_labels1 = shuffle(exp_train_samples1, exp_train_labels1, random_state=RANDOM_STATE)\n",
        "\n",
        "# # Add Adverserial Samples to testing set \n",
        "# original_data = test_samples.copy()\n",
        "# original_data = tf.convert_to_tensor(original_data.reshape((len(test_samples), 10)))\n",
        "\n",
        "# # \n",
        "# norm_samples, adv_samples, norm_labels, adv_labels = train_test_split(\n",
        "#     test_samples, test_labels, test_size=TEST_ADVERSERIAL_SIZE, \n",
        "#     random_state=RANDOM_STATE, stratify=test_labels) # Making the train and adverserial sample split \n",
        "\n",
        "# original_data = adv_samples.copy()\n",
        "# original_data = tf.convert_to_tensor(original_data.reshape((len(adv_samples), 10))) # Convert to part of test samples to tensor\n",
        "\n",
        "# adv_samples1 = fast_gradient_method(logits_model, original_data, EPS, np.inf) # Run fast_gradient_method on the tensor test sample \n",
        "\n",
        "# # Concatenate split test data\n",
        "# exp_test_samples = tf.concat((norm_samples, adv_samples), 0)\n",
        "# exp_test_labels = tf.concat((norm_labels, adv_labels), 0)\n",
        "# exp_test_samples = exp_test_samples.numpy() # Convert to numpy for shuffling \n",
        "# exp_test_labels = exp_test_labels.numpy()\n",
        "\n",
        "# # Shuffle test data\n",
        "# exp_test_samples, exp_test_labels = shuffle(exp_test_samples, exp_test_labels, random_state=RANDOM_STATE)\n",
        "\n",
        "\n",
        "# Add Adverserial Samples to testing set \n",
        "original_data = test_samples.copy()\n",
        "original_data = tf.convert_to_tensor(original_data.reshape((len(test_samples), 10)))\n",
        "\n",
        "# \n",
        "adv_samples, adv_labels = test_samples, test_labels # Making the train and adverserial sample split \n",
        "\n",
        "original_data = adv_samples.copy()\n",
        "original_data = tf.convert_to_tensor(original_data.reshape((len(adv_samples), 10))) # Convert to part of test samples to tensor\n",
        "\n",
        "adv_samples11 = fast_gradient_method(logits_model, original_data, EPS, np.inf) # Run fast_gradient_method on the tensor test sample \n",
        "\n",
        "# Concatenate split test data\n",
        "\n",
        "exp_test_samples = adv_samples11.numpy() # Convert to numpy for shuffling \n",
        "exp_test_labels = adv_labels.copy()\n",
        "\n",
        "# Shuffle test data\n",
        "exp_test_samples, exp_test_labels = shuffle(exp_test_samples, exp_test_labels, random_state=RANDOM_STATE)\n"
      ]
    },
    {
      "cell_type": "code",
      "execution_count": null,
      "metadata": {
        "colab": {
          "base_uri": "https://localhost:8080/"
        },
        "id": "bfBGLg5oD022",
        "outputId": "821d668e-fc89-4e5b-bba6-a0591f88c816"
      },
      "outputs": [
        {
          "output_type": "stream",
          "name": "stdout",
          "text": [
            "Train Samples -  (2054371, 10) (2054371, 2)\n",
            "Test Samples -  (880446, 10) (880446, 2)\n"
          ]
        }
      ],
      "source": [
        "# Convert test and train samples to tensor\n",
        "exp_train_samples1 = tf.convert_to_tensor(exp_train_samples1)\n",
        "exp_test_samples1 = tf.convert_to_tensor(exp_test_samples)\n",
        "\n",
        "print(\"Train Samples - \", exp_train_samples1.shape, exp_train_labels1.shape)\n",
        "print(\"Test Samples - \", exp_test_samples1.shape, exp_test_labels.shape)"
      ]
    },
    {
      "cell_type": "code",
      "execution_count": null,
      "metadata": {
        "colab": {
          "base_uri": "https://localhost:8080/"
        },
        "id": "n1dcZVBOD6aA",
        "outputId": "016d936e-80e7-479d-d521-59febe1b220c"
      },
      "outputs": [
        {
          "output_type": "stream",
          "name": "stdout",
          "text": [
            "Epoch 1/3\n"
          ]
        },
        {
          "output_type": "stream",
          "name": "stderr",
          "text": [
            "/usr/local/lib/python3.7/dist-packages/tensorflow/python/util/dispatch.py:1082: UserWarning: \"`binary_crossentropy` received `from_logits=True`, but the `output` argument was produced by a sigmoid or softmax activation and thus does not represent logits. Was this intended?\"\n",
            "  return dispatch_target(*args, **kwargs)\n"
          ]
        },
        {
          "output_type": "stream",
          "name": "stdout",
          "text": [
            "38520/38520 [==============================] - 211s 5ms/step - loss: 0.0120 - accuracy: 0.9992 - val_loss: 0.0015 - val_accuracy: 0.9999\n",
            "Epoch 2/3\n",
            "38520/38520 [==============================] - 237s 6ms/step - loss: 0.0013 - accuracy: 0.9999 - val_loss: 0.0011 - val_accuracy: 0.9999\n",
            "Epoch 3/3\n",
            "38520/38520 [==============================] - 212s 6ms/step - loss: 0.0011 - accuracy: 0.9999 - val_loss: 0.0010 - val_accuracy: 0.9999\n"
          ]
        },
        {
          "output_type": "execute_result",
          "data": {
            "text/plain": [
              "<keras.callbacks.History at 0x7f1abe9ad890>"
            ]
          },
          "metadata": {},
          "execution_count": 69
        }
      ],
      "source": [
        "# Model training\n",
        "# Model hyperparameters\n",
        "BATCH_SIZE = 32\n",
        "EPOCH = 3\n",
        "VERBOSE = 1\n",
        "VALIDATION_SPLIT = 0.4\n",
        "\n",
        "model.fit(x=exp_train_samples1, y=exp_train_labels1, batch_size=BATCH_SIZE, epochs=EPOCH, \n",
        "          verbose=1, validation_split=VALIDATION_SPLIT, shuffle=True)"
      ]
    },
    {
      "cell_type": "code",
      "execution_count": null,
      "metadata": {
        "colab": {
          "base_uri": "https://localhost:8080/",
          "height": 678
        },
        "id": "vBrSUcZ5EBE1",
        "outputId": "320a3243-fb5e-427f-d2ab-9012d9ceaaaf"
      },
      "outputs": [
        {
          "output_type": "stream",
          "name": "stdout",
          "text": [
            "Model Evaluation .. \n",
            "27514/27514 [==============================] - 82s 3ms/step - loss: 0.0012 - accuracy: 0.9999\n",
            "[0.0012116810539737344, 0.9998739361763]\n",
            "Model Prediction....\n"
          ]
        },
        {
          "output_type": "stream",
          "name": "stderr",
          "text": [
            "/usr/local/lib/python3.7/dist-packages/sklearn/metrics/_classification.py:1318: UndefinedMetricWarning: Precision and F-score are ill-defined and being set to 0.0 in labels with no predicted samples. Use `zero_division` parameter to control this behavior.\n",
            "  _warn_prf(average, modifier, msg_start, len(result))\n"
          ]
        },
        {
          "output_type": "stream",
          "name": "stdout",
          "text": [
            "Classification Report: \n",
            "               precision    recall  f1-score   support\n",
            "\n",
            "           0       0.00      0.00      0.00       111\n",
            "           1       1.00      1.00      1.00    880335\n",
            "\n",
            "   micro avg       1.00      1.00      1.00    880446\n",
            "   macro avg       0.50      0.50      0.50    880446\n",
            "weighted avg       1.00      1.00      1.00    880446\n",
            " samples avg       1.00      1.00      1.00    880446\n",
            "\n",
            "Confusion Matrix without normalization\n",
            "[[     0    111]\n",
            " [     0 880335]]\n"
          ]
        },
        {
          "output_type": "display_data",
          "data": {
            "image/png": "[encoded data removed]",
            "text/plain": [
              "<Figure size 432x288 with 2 Axes>"
            ]
          },
          "metadata": {
            "needs_background": "light"
          }
        }
      ],
      "source": [
        "# Predict after fitting mixed data to the model\n",
        "print(\"Model Evaluation .. \")\n",
        "print(model.evaluate(exp_test_samples1, exp_test_labels))\n",
        "\n",
        "print(\"Model Prediction....\")\n",
        "exp_pred1 = model.predict(exp_test_samples1)\n",
        "exp_pred1 = np.round(exp_pred1)\n",
        "\n",
        "print(\"Classification Report: \\n\",classification_report(exp_test_labels, exp_pred1))\n",
        "exp1= confusion_matrix(exp_test_labels.argmax(axis=1), exp_pred1.argmax(axis=1))\n",
        "plot_confusion_matrix(cm=exp1, classes=CM_PLOT_LABLES, title=\"Bot-IoT-Data: Experiment 1 Confusion Matrix, Epsilion=1.0\")"
      ]
    },
    {
      "cell_type": "markdown",
      "metadata": {
        "id": "bNZGE_tNPAL1"
      },
      "source": [
        "## Experiment 2"
      ]
    },
    {
      "cell_type": "code",
      "execution_count": null,
      "metadata": {
        "id": "83OcdjU2ufD2"
      },
      "outputs": [],
      "source": [
        "# Retain from \"FGSM and Prediction\"\n",
        "CM_PLOT_LABLES = ['attack','normal'] # Class lables for Confusion Matix"
      ]
    },
    {
      "cell_type": "code",
      "execution_count": null,
      "metadata": {
        "colab": {
          "base_uri": "https://localhost:8080/"
        },
        "id": "Xlo-BA68ujIH",
        "outputId": "ca7c67e6-b90b-4759-dc3b-ee43e6b84bfb"
      },
      "outputs": [
        {
          "output_type": "execute_result",
          "data": {
            "text/plain": [
              "<keras.engine.functional.Functional at 0x7f1abeadb550>"
            ]
          },
          "metadata": {},
          "execution_count": 49
        }
      ],
      "source": [
        "# Logits Model as given in - https://arxiv.org/abs/2104.12426\n",
        "logits_model = tf.keras.Model(model.input, model.layers[-1].output)\n",
        "logits_model"
      ]
    },
    {
      "cell_type": "code",
      "execution_count": null,
      "metadata": {
        "colab": {
          "base_uri": "https://localhost:8080/"
        },
        "id": "gjmf49WQyy9u",
        "outputId": "f1436187-cc09-43ca-96f3-962b5f5e7a29"
      },
      "outputs": [
        {
          "output_type": "stream",
          "name": "stdout",
          "text": [
            "WARNING:tensorflow:5 out of the last 10 calls to <function compute_gradient at 0x7f1b411f7950> triggered tf.function retracing. Tracing is expensive and the excessive number of tracings could be due to (1) creating @tf.function repeatedly in a loop, (2) passing tensors with different shapes, (3) passing Python objects instead of tensors. For (1), please define your @tf.function outside of the loop. For (2), @tf.function has experimental_relax_shapes=True option that relaxes argument shapes that can avoid unnecessary retracing. For (3), please refer to https://www.tensorflow.org/guide/function#controlling_retracing and https://www.tensorflow.org/api_docs/python/tf/function for  more details.\n"
          ]
        }
      ],
      "source": [
        "# Parameters\n",
        "\n",
        "EPS = 1 # Epsilon Value\n",
        "RANDOM_STATE = 42\n",
        "TRAIN_ADVERSERIAL_SIZE = 0.2\n",
        "TEST_ADVERSERIAL_SIZE = 0.5\n",
        "\n",
        "# Adding Adverserial Samples to train set \n",
        "\n",
        "norm_samples, adv_samples2, norm_labels, adv_labels2 = train_test_split(\n",
        "    train_samples, train_labels, test_size=TRAIN_ADVERSERIAL_SIZE, \n",
        "    random_state=RANDOM_STATE, stratify=train_labels) # Making the train and adverserial sample split \n",
        "\n",
        "original_data = adv_samples2.copy()\n",
        "original_data = tf.convert_to_tensor(original_data.reshape((len(adv_samples2), 10))) #Convert to part of train samples to tensor\n",
        "\n",
        "adv_samples2 = fast_gradient_method(logits_model, original_data,EPS, np.inf) # Run fast_gradient_method on the tensor train sample \n",
        "\n",
        "# Concatenate split train data\n",
        "exp_train_samples2 = tf.concat((norm_samples, adv_samples2), 0)\n",
        "exp_train_labels2 = np.concatenate((norm_labels, adv_labels2), axis=0)\n",
        "exp_train_samples2 = exp_train_samples2.numpy()\n",
        "\n",
        "# Shuffle train data\n",
        "exp_train_samples2, exp_train_labels2 = shuffle(exp_train_samples2, exp_train_labels2, random_state=RANDOM_STATE)\n",
        "\n",
        "# We have kept the test size split same as experiment 1 \n",
        "\n",
        "# # Add Adverserial Samples to test set \n",
        "# norm_samples, adv_samples, norm_labels, adv_labels = train_test_split(\n",
        "#     test_samples, test_labels, test_size=TEST_ADVERSERIAL_SIZE, \n",
        "#     random_state=RANDOM_STATE, stratify=test_labels) # Making the train and adverserial sample split \n",
        "\n",
        "# original_data = adv_samples.copy()\n",
        "# original_data = tf.convert_to_tensor(original_data.reshape((len(adv_samples), 10))) # Convert to part of test samples to tensor\n",
        "\n",
        "# adv_samples1 = fast_gradient_method(logits_model, original_data, EPS, np.inf) # Run fast_gradient_method on the tensor test sample \n",
        "\n",
        "# # Concatenate split test data\n",
        "# exp_test_samples = tf.concat((norm_samples, adv_samples), 0)\n",
        "# exp_test_labels = tf.concat((norm_labels, adv_labels), 0)\n",
        "# exp_test_samples = exp_test_samples.numpy() # Convert to numpy for shuffling \n",
        "# exp_test_labels = exp_test_labels.numpy()\n",
        "\n",
        "# # Shuffle test data\n",
        "# exp_test_samples, exp_test_labels = shuffle(exp_test_samples, \n",
        "#                                             exp_test_labels, random_state=RANDOM_STATE)\n",
        "\n",
        "# Add Adverserial Samples to test set \n",
        "adv_samples, adv_labels = test_samples, test_labels # Making the train and adverserial sample split \n",
        "\n",
        "original_data = adv_samples.copy()\n",
        "original_data = tf.convert_to_tensor(original_data.reshape((len(adv_samples), 10))) # Convert to part of test samples to tensor\n",
        "\n",
        "adv_samples21 = fast_gradient_method(logits_model, original_data, EPS, np.inf) # Run fast_gradient_method on the tensor test sample \n",
        "\n",
        "# Concatenate split test data\n",
        "exp_test_samples = adv_samples21.numpy() # Convert to numpy for shuffling \n",
        "exp_test_labels = adv_labels.copy()\n",
        "\n",
        "# Shuffle test data\n",
        "exp_test_samples, exp_test_labels = shuffle(exp_test_samples, \n",
        "                                            exp_test_labels, random_state=RANDOM_STATE)"
      ]
    },
    {
      "cell_type": "code",
      "execution_count": null,
      "metadata": {
        "colab": {
          "base_uri": "https://localhost:8080/"
        },
        "id": "n7koX9QXzP64",
        "outputId": "952eba89-b7b7-4075-a2f8-2e56d2ade92e"
      },
      "outputs": [
        {
          "output_type": "stream",
          "name": "stdout",
          "text": [
            "Train Samples -  (4108225, 10) (4108225, 2)\n",
            "Test Samples -  (1760669, 10) (1760669, 2)\n"
          ]
        }
      ],
      "source": [
        "# Convert test and train samples to tensor\n",
        "exp_train_samples2 = tf.convert_to_tensor(exp_train_samples2)\n",
        "exp_test_samples2 = tf.convert_to_tensor(exp_test_samples)\n",
        "\n",
        "print(\"Train Samples - \", exp_train_samples2.shape, exp_train_labels2.shape)\n",
        "print(\"Test Samples - \", exp_test_samples2.shape, exp_test_labels.shape)"
      ]
    },
    {
      "cell_type": "code",
      "execution_count": null,
      "metadata": {
        "id": "aznQF4fMLElx",
        "colab": {
          "base_uri": "https://localhost:8080/",
          "height": 397
        },
        "outputId": "0475d854-ebee-48cb-a238-fa883495bcbd"
      },
      "outputs": [
        {
          "output_type": "stream",
          "name": "stdout",
          "text": [
            "Epoch 1/3\n",
            "77028/77030 [============================>.] - ETA: 0s - loss: 0.0507 - accuracy: 0.9885"
          ]
        },
        {
          "output_type": "error",
          "ename": "KeyboardInterrupt",
          "evalue": "ignored",
          "traceback": [
            "\u001b[0;31m---------------------------------------------------------------------------\u001b[0m",
            "\u001b[0;31mKeyboardInterrupt\u001b[0m                         Traceback (most recent call last)",
            "\u001b[0;32m<ipython-input-52-7380026804f2>\u001b[0m in \u001b[0;36m<module>\u001b[0;34m()\u001b[0m\n\u001b[1;32m      7\u001b[0m \u001b[0;34m\u001b[0m\u001b[0m\n\u001b[1;32m      8\u001b[0m model.fit(x=exp_train_samples2, y=exp_train_labels2, batch_size=BATCH_SIZE, epochs=EPOCH, \n\u001b[0;32m----> 9\u001b[0;31m           verbose=VERBOSE, validation_split=VALIDATION_SPLIT, shuffle=True)\n\u001b[0m",
            "\u001b[0;32m/usr/local/lib/python3.7/dist-packages/keras/utils/traceback_utils.py\u001b[0m in \u001b[0;36merror_handler\u001b[0;34m(*args, **kwargs)\u001b[0m\n\u001b[1;32m     62\u001b[0m     \u001b[0mfiltered_tb\u001b[0m \u001b[0;34m=\u001b[0m \u001b[0;32mNone\u001b[0m\u001b[0;34m\u001b[0m\u001b[0;34m\u001b[0m\u001b[0m\n\u001b[1;32m     63\u001b[0m     \u001b[0;32mtry\u001b[0m\u001b[0;34m:\u001b[0m\u001b[0;34m\u001b[0m\u001b[0;34m\u001b[0m\u001b[0m\n\u001b[0;32m---> 64\u001b[0;31m       \u001b[0;32mreturn\u001b[0m \u001b[0mfn\u001b[0m\u001b[0;34m(\u001b[0m\u001b[0;34m*\u001b[0m\u001b[0margs\u001b[0m\u001b[0;34m,\u001b[0m \u001b[0;34m**\u001b[0m\u001b[0mkwargs\u001b[0m\u001b[0;34m)\u001b[0m\u001b[0;34m\u001b[0m\u001b[0;34m\u001b[0m\u001b[0m\n\u001b[0m\u001b[1;32m     65\u001b[0m     \u001b[0;32mexcept\u001b[0m \u001b[0mException\u001b[0m \u001b[0;32mas\u001b[0m \u001b[0me\u001b[0m\u001b[0;34m:\u001b[0m  \u001b[0;31m# pylint: disable=broad-except\u001b[0m\u001b[0;34m\u001b[0m\u001b[0;34m\u001b[0m\u001b[0m\n\u001b[1;32m     66\u001b[0m       \u001b[0mfiltered_tb\u001b[0m \u001b[0;34m=\u001b[0m \u001b[0m_process_traceback_frames\u001b[0m\u001b[0;34m(\u001b[0m\u001b[0me\u001b[0m\u001b[0;34m.\u001b[0m\u001b[0m__traceback__\u001b[0m\u001b[0;34m)\u001b[0m\u001b[0;34m\u001b[0m\u001b[0;34m\u001b[0m\u001b[0m\n",
            "\u001b[0;32m/usr/local/lib/python3.7/dist-packages/keras/engine/training.py\u001b[0m in \u001b[0;36mfit\u001b[0;34m(self, x, y, batch_size, epochs, verbose, callbacks, validation_split, validation_data, shuffle, class_weight, sample_weight, initial_epoch, steps_per_epoch, validation_steps, validation_batch_size, validation_freq, max_queue_size, workers, use_multiprocessing)\u001b[0m\n\u001b[1;32m   1429\u001b[0m               \u001b[0muse_multiprocessing\u001b[0m\u001b[0;34m=\u001b[0m\u001b[0muse_multiprocessing\u001b[0m\u001b[0;34m,\u001b[0m\u001b[0;34m\u001b[0m\u001b[0;34m\u001b[0m\u001b[0m\n\u001b[1;32m   1430\u001b[0m               \u001b[0mreturn_dict\u001b[0m\u001b[0;34m=\u001b[0m\u001b[0;32mTrue\u001b[0m\u001b[0;34m,\u001b[0m\u001b[0;34m\u001b[0m\u001b[0;34m\u001b[0m\u001b[0m\n\u001b[0;32m-> 1431\u001b[0;31m               _use_cached_eval_dataset=True)\n\u001b[0m\u001b[1;32m   1432\u001b[0m           \u001b[0mval_logs\u001b[0m \u001b[0;34m=\u001b[0m \u001b[0;34m{\u001b[0m\u001b[0;34m'val_'\u001b[0m \u001b[0;34m+\u001b[0m \u001b[0mname\u001b[0m\u001b[0;34m:\u001b[0m \u001b[0mval\u001b[0m \u001b[0;32mfor\u001b[0m \u001b[0mname\u001b[0m\u001b[0;34m,\u001b[0m \u001b[0mval\u001b[0m \u001b[0;32min\u001b[0m \u001b[0mval_logs\u001b[0m\u001b[0;34m.\u001b[0m\u001b[0mitems\u001b[0m\u001b[0;34m(\u001b[0m\u001b[0;34m)\u001b[0m\u001b[0;34m}\u001b[0m\u001b[0;34m\u001b[0m\u001b[0;34m\u001b[0m\u001b[0m\n\u001b[1;32m   1433\u001b[0m           \u001b[0mepoch_logs\u001b[0m\u001b[0;34m.\u001b[0m\u001b[0mupdate\u001b[0m\u001b[0;34m(\u001b[0m\u001b[0mval_logs\u001b[0m\u001b[0;34m)\u001b[0m\u001b[0;34m\u001b[0m\u001b[0;34m\u001b[0m\u001b[0m\n",
            "\u001b[0;32m/usr/local/lib/python3.7/dist-packages/keras/utils/traceback_utils.py\u001b[0m in \u001b[0;36merror_handler\u001b[0;34m(*args, **kwargs)\u001b[0m\n\u001b[1;32m     62\u001b[0m     \u001b[0mfiltered_tb\u001b[0m \u001b[0;34m=\u001b[0m \u001b[0;32mNone\u001b[0m\u001b[0;34m\u001b[0m\u001b[0;34m\u001b[0m\u001b[0m\n\u001b[1;32m     63\u001b[0m     \u001b[0;32mtry\u001b[0m\u001b[0;34m:\u001b[0m\u001b[0;34m\u001b[0m\u001b[0;34m\u001b[0m\u001b[0m\n\u001b[0;32m---> 64\u001b[0;31m       \u001b[0;32mreturn\u001b[0m \u001b[0mfn\u001b[0m\u001b[0;34m(\u001b[0m\u001b[0;34m*\u001b[0m\u001b[0margs\u001b[0m\u001b[0;34m,\u001b[0m \u001b[0;34m**\u001b[0m\u001b[0mkwargs\u001b[0m\u001b[0;34m)\u001b[0m\u001b[0;34m\u001b[0m\u001b[0;34m\u001b[0m\u001b[0m\n\u001b[0m\u001b[1;32m     65\u001b[0m     \u001b[0;32mexcept\u001b[0m \u001b[0mException\u001b[0m \u001b[0;32mas\u001b[0m \u001b[0me\u001b[0m\u001b[0;34m:\u001b[0m  \u001b[0;31m# pylint: disable=broad-except\u001b[0m\u001b[0;34m\u001b[0m\u001b[0;34m\u001b[0m\u001b[0m\n\u001b[1;32m     66\u001b[0m       \u001b[0mfiltered_tb\u001b[0m \u001b[0;34m=\u001b[0m \u001b[0m_process_traceback_frames\u001b[0m\u001b[0;34m(\u001b[0m\u001b[0me\u001b[0m\u001b[0;34m.\u001b[0m\u001b[0m__traceback__\u001b[0m\u001b[0;34m)\u001b[0m\u001b[0;34m\u001b[0m\u001b[0;34m\u001b[0m\u001b[0m\n",
            "\u001b[0;32m/usr/local/lib/python3.7/dist-packages/keras/engine/training.py\u001b[0m in \u001b[0;36mevaluate\u001b[0;34m(self, x, y, batch_size, verbose, sample_weight, steps, callbacks, max_queue_size, workers, use_multiprocessing, return_dict, **kwargs)\u001b[0m\n\u001b[1;32m   1714\u001b[0m             \u001b[0;32mwith\u001b[0m \u001b[0mtf\u001b[0m\u001b[0;34m.\u001b[0m\u001b[0mprofiler\u001b[0m\u001b[0;34m.\u001b[0m\u001b[0mexperimental\u001b[0m\u001b[0;34m.\u001b[0m\u001b[0mTrace\u001b[0m\u001b[0;34m(\u001b[0m\u001b[0;34m'test'\u001b[0m\u001b[0;34m,\u001b[0m \u001b[0mstep_num\u001b[0m\u001b[0;34m=\u001b[0m\u001b[0mstep\u001b[0m\u001b[0;34m,\u001b[0m \u001b[0m_r\u001b[0m\u001b[0;34m=\u001b[0m\u001b[0;36m1\u001b[0m\u001b[0;34m)\u001b[0m\u001b[0;34m:\u001b[0m\u001b[0;34m\u001b[0m\u001b[0;34m\u001b[0m\u001b[0m\n\u001b[1;32m   1715\u001b[0m               \u001b[0mcallbacks\u001b[0m\u001b[0;34m.\u001b[0m\u001b[0mon_test_batch_begin\u001b[0m\u001b[0;34m(\u001b[0m\u001b[0mstep\u001b[0m\u001b[0;34m)\u001b[0m\u001b[0;34m\u001b[0m\u001b[0;34m\u001b[0m\u001b[0m\n\u001b[0;32m-> 1716\u001b[0;31m               \u001b[0mtmp_logs\u001b[0m \u001b[0;34m=\u001b[0m \u001b[0mself\u001b[0m\u001b[0;34m.\u001b[0m\u001b[0mtest_function\u001b[0m\u001b[0;34m(\u001b[0m\u001b[0miterator\u001b[0m\u001b[0;34m)\u001b[0m\u001b[0;34m\u001b[0m\u001b[0;34m\u001b[0m\u001b[0m\n\u001b[0m\u001b[1;32m   1717\u001b[0m               \u001b[0;32mif\u001b[0m \u001b[0mdata_handler\u001b[0m\u001b[0;34m.\u001b[0m\u001b[0mshould_sync\u001b[0m\u001b[0;34m:\u001b[0m\u001b[0;34m\u001b[0m\u001b[0;34m\u001b[0m\u001b[0m\n\u001b[1;32m   1718\u001b[0m                 \u001b[0mcontext\u001b[0m\u001b[0;34m.\u001b[0m\u001b[0masync_wait\u001b[0m\u001b[0;34m(\u001b[0m\u001b[0;34m)\u001b[0m\u001b[0;34m\u001b[0m\u001b[0;34m\u001b[0m\u001b[0m\n",
            "\u001b[0;32m/usr/local/lib/python3.7/dist-packages/tensorflow/python/util/traceback_utils.py\u001b[0m in \u001b[0;36merror_handler\u001b[0;34m(*args, **kwargs)\u001b[0m\n\u001b[1;32m    148\u001b[0m     \u001b[0mfiltered_tb\u001b[0m \u001b[0;34m=\u001b[0m \u001b[0;32mNone\u001b[0m\u001b[0;34m\u001b[0m\u001b[0;34m\u001b[0m\u001b[0m\n\u001b[1;32m    149\u001b[0m     \u001b[0;32mtry\u001b[0m\u001b[0;34m:\u001b[0m\u001b[0;34m\u001b[0m\u001b[0;34m\u001b[0m\u001b[0m\n\u001b[0;32m--> 150\u001b[0;31m       \u001b[0;32mreturn\u001b[0m \u001b[0mfn\u001b[0m\u001b[0;34m(\u001b[0m\u001b[0;34m*\u001b[0m\u001b[0margs\u001b[0m\u001b[0;34m,\u001b[0m \u001b[0;34m**\u001b[0m\u001b[0mkwargs\u001b[0m\u001b[0;34m)\u001b[0m\u001b[0;34m\u001b[0m\u001b[0;34m\u001b[0m\u001b[0m\n\u001b[0m\u001b[1;32m    151\u001b[0m     \u001b[0;32mexcept\u001b[0m \u001b[0mException\u001b[0m \u001b[0;32mas\u001b[0m \u001b[0me\u001b[0m\u001b[0;34m:\u001b[0m\u001b[0;34m\u001b[0m\u001b[0;34m\u001b[0m\u001b[0m\n\u001b[1;32m    152\u001b[0m       \u001b[0mfiltered_tb\u001b[0m \u001b[0;34m=\u001b[0m \u001b[0m_process_traceback_frames\u001b[0m\u001b[0;34m(\u001b[0m\u001b[0me\u001b[0m\u001b[0;34m.\u001b[0m\u001b[0m__traceback__\u001b[0m\u001b[0;34m)\u001b[0m\u001b[0;34m\u001b[0m\u001b[0;34m\u001b[0m\u001b[0m\n",
            "\u001b[0;32m/usr/local/lib/python3.7/dist-packages/tensorflow/python/eager/def_function.py\u001b[0m in \u001b[0;36m__call__\u001b[0;34m(self, *args, **kwds)\u001b[0m\n\u001b[1;32m    913\u001b[0m \u001b[0;34m\u001b[0m\u001b[0m\n\u001b[1;32m    914\u001b[0m       \u001b[0;32mwith\u001b[0m \u001b[0mOptionalXlaContext\u001b[0m\u001b[0;34m(\u001b[0m\u001b[0mself\u001b[0m\u001b[0;34m.\u001b[0m\u001b[0m_jit_compile\u001b[0m\u001b[0;34m)\u001b[0m\u001b[0;34m:\u001b[0m\u001b[0;34m\u001b[0m\u001b[0;34m\u001b[0m\u001b[0m\n\u001b[0;32m--> 915\u001b[0;31m         \u001b[0mresult\u001b[0m \u001b[0;34m=\u001b[0m \u001b[0mself\u001b[0m\u001b[0;34m.\u001b[0m\u001b[0m_call\u001b[0m\u001b[0;34m(\u001b[0m\u001b[0;34m*\u001b[0m\u001b[0margs\u001b[0m\u001b[0;34m,\u001b[0m \u001b[0;34m**\u001b[0m\u001b[0mkwds\u001b[0m\u001b[0;34m)\u001b[0m\u001b[0;34m\u001b[0m\u001b[0;34m\u001b[0m\u001b[0m\n\u001b[0m\u001b[1;32m    916\u001b[0m \u001b[0;34m\u001b[0m\u001b[0m\n\u001b[1;32m    917\u001b[0m       \u001b[0mnew_tracing_count\u001b[0m \u001b[0;34m=\u001b[0m \u001b[0mself\u001b[0m\u001b[0;34m.\u001b[0m\u001b[0mexperimental_get_tracing_count\u001b[0m\u001b[0;34m(\u001b[0m\u001b[0;34m)\u001b[0m\u001b[0;34m\u001b[0m\u001b[0;34m\u001b[0m\u001b[0m\n",
            "\u001b[0;32m/usr/local/lib/python3.7/dist-packages/tensorflow/python/eager/def_function.py\u001b[0m in \u001b[0;36m_call\u001b[0;34m(self, *args, **kwds)\u001b[0m\n\u001b[1;32m    952\u001b[0m       \u001b[0;31m# In this case we have not created variables on the first call. So we can\u001b[0m\u001b[0;34m\u001b[0m\u001b[0;34m\u001b[0m\u001b[0;34m\u001b[0m\u001b[0m\n\u001b[1;32m    953\u001b[0m       \u001b[0;31m# run the first trace but we should fail if variables are created.\u001b[0m\u001b[0;34m\u001b[0m\u001b[0;34m\u001b[0m\u001b[0;34m\u001b[0m\u001b[0m\n\u001b[0;32m--> 954\u001b[0;31m       \u001b[0mresults\u001b[0m \u001b[0;34m=\u001b[0m \u001b[0mself\u001b[0m\u001b[0;34m.\u001b[0m\u001b[0m_stateful_fn\u001b[0m\u001b[0;34m(\u001b[0m\u001b[0;34m*\u001b[0m\u001b[0margs\u001b[0m\u001b[0;34m,\u001b[0m \u001b[0;34m**\u001b[0m\u001b[0mkwds\u001b[0m\u001b[0;34m)\u001b[0m\u001b[0;34m\u001b[0m\u001b[0;34m\u001b[0m\u001b[0m\n\u001b[0m\u001b[1;32m    955\u001b[0m       \u001b[0;32mif\u001b[0m \u001b[0mself\u001b[0m\u001b[0;34m.\u001b[0m\u001b[0m_created_variables\u001b[0m \u001b[0;32mand\u001b[0m \u001b[0;32mnot\u001b[0m \u001b[0mALLOW_DYNAMIC_VARIABLE_CREATION\u001b[0m\u001b[0;34m:\u001b[0m\u001b[0;34m\u001b[0m\u001b[0;34m\u001b[0m\u001b[0m\n\u001b[1;32m    956\u001b[0m         raise ValueError(\"Creating variables on a non-first call to a function\"\n",
            "\u001b[0;32m/usr/local/lib/python3.7/dist-packages/tensorflow/python/eager/function.py\u001b[0m in \u001b[0;36m__call__\u001b[0;34m(self, *args, **kwargs)\u001b[0m\n\u001b[1;32m   2955\u001b[0m        filtered_flat_args) = self._maybe_define_function(args, kwargs)\n\u001b[1;32m   2956\u001b[0m     return graph_function._call_flat(\n\u001b[0;32m-> 2957\u001b[0;31m         filtered_flat_args, captured_inputs=graph_function.captured_inputs)  # pylint: disable=protected-access\n\u001b[0m\u001b[1;32m   2958\u001b[0m \u001b[0;34m\u001b[0m\u001b[0m\n\u001b[1;32m   2959\u001b[0m   \u001b[0;34m@\u001b[0m\u001b[0mproperty\u001b[0m\u001b[0;34m\u001b[0m\u001b[0;34m\u001b[0m\u001b[0m\n",
            "\u001b[0;32m/usr/local/lib/python3.7/dist-packages/tensorflow/python/eager/function.py\u001b[0m in \u001b[0;36m_call_flat\u001b[0;34m(self, args, captured_inputs, cancellation_manager)\u001b[0m\n\u001b[1;32m   1852\u001b[0m       \u001b[0;31m# No tape is watching; skip to running the function.\u001b[0m\u001b[0;34m\u001b[0m\u001b[0;34m\u001b[0m\u001b[0;34m\u001b[0m\u001b[0m\n\u001b[1;32m   1853\u001b[0m       return self._build_call_outputs(self._inference_function.call(\n\u001b[0;32m-> 1854\u001b[0;31m           ctx, args, cancellation_manager=cancellation_manager))\n\u001b[0m\u001b[1;32m   1855\u001b[0m     forward_backward = self._select_forward_and_backward_functions(\n\u001b[1;32m   1856\u001b[0m         \u001b[0margs\u001b[0m\u001b[0;34m,\u001b[0m\u001b[0;34m\u001b[0m\u001b[0;34m\u001b[0m\u001b[0m\n",
            "\u001b[0;32m/usr/local/lib/python3.7/dist-packages/tensorflow/python/eager/function.py\u001b[0m in \u001b[0;36mcall\u001b[0;34m(self, ctx, args, cancellation_manager)\u001b[0m\n\u001b[1;32m    502\u001b[0m               \u001b[0minputs\u001b[0m\u001b[0;34m=\u001b[0m\u001b[0margs\u001b[0m\u001b[0;34m,\u001b[0m\u001b[0;34m\u001b[0m\u001b[0;34m\u001b[0m\u001b[0m\n\u001b[1;32m    503\u001b[0m               \u001b[0mattrs\u001b[0m\u001b[0;34m=\u001b[0m\u001b[0mattrs\u001b[0m\u001b[0;34m,\u001b[0m\u001b[0;34m\u001b[0m\u001b[0;34m\u001b[0m\u001b[0m\n\u001b[0;32m--> 504\u001b[0;31m               ctx=ctx)\n\u001b[0m\u001b[1;32m    505\u001b[0m         \u001b[0;32melse\u001b[0m\u001b[0;34m:\u001b[0m\u001b[0;34m\u001b[0m\u001b[0;34m\u001b[0m\u001b[0m\n\u001b[1;32m    506\u001b[0m           outputs = execute.execute_with_cancellation(\n",
            "\u001b[0;32m/usr/local/lib/python3.7/dist-packages/tensorflow/python/eager/execute.py\u001b[0m in \u001b[0;36mquick_execute\u001b[0;34m(op_name, num_outputs, inputs, attrs, ctx, name)\u001b[0m\n\u001b[1;32m     53\u001b[0m     \u001b[0mctx\u001b[0m\u001b[0;34m.\u001b[0m\u001b[0mensure_initialized\u001b[0m\u001b[0;34m(\u001b[0m\u001b[0;34m)\u001b[0m\u001b[0;34m\u001b[0m\u001b[0;34m\u001b[0m\u001b[0m\n\u001b[1;32m     54\u001b[0m     tensors = pywrap_tfe.TFE_Py_Execute(ctx._handle, device_name, op_name,\n\u001b[0;32m---> 55\u001b[0;31m                                         inputs, attrs, num_outputs)\n\u001b[0m\u001b[1;32m     56\u001b[0m   \u001b[0;32mexcept\u001b[0m \u001b[0mcore\u001b[0m\u001b[0;34m.\u001b[0m\u001b[0m_NotOkStatusException\u001b[0m \u001b[0;32mas\u001b[0m \u001b[0me\u001b[0m\u001b[0;34m:\u001b[0m\u001b[0;34m\u001b[0m\u001b[0;34m\u001b[0m\u001b[0m\n\u001b[1;32m     57\u001b[0m     \u001b[0;32mif\u001b[0m \u001b[0mname\u001b[0m \u001b[0;32mis\u001b[0m \u001b[0;32mnot\u001b[0m \u001b[0;32mNone\u001b[0m\u001b[0;34m:\u001b[0m\u001b[0;34m\u001b[0m\u001b[0;34m\u001b[0m\u001b[0m\n",
            "\u001b[0;31mKeyboardInterrupt\u001b[0m: "
          ]
        }
      ],
      "source": [
        "# Model training\n",
        "# Model hyperparameters\n",
        "BATCH_SIZE = 32\n",
        "EPOCH = 3\n",
        "VERBOSE = 1\n",
        "VALIDATION_SPLIT = 0.4\n",
        "\n",
        "model.fit(x=exp_train_samples2, y=exp_train_labels2, batch_size=BATCH_SIZE, epochs=EPOCH, \n",
        "          verbose=VERBOSE, validation_split=VALIDATION_SPLIT, shuffle=True)"
      ]
    },
    {
      "cell_type": "code",
      "execution_count": null,
      "metadata": {
        "id": "bHw5UFOkLJ59"
      },
      "outputs": [],
      "source": [
        "# Predict after fitting mixed data to the model\n",
        "print(\"Model Evaluation\")\n",
        "print(model.evaluate(exp_test_samples2, exp_test_labels))\n",
        "\n",
        "print(\"Model Prediction...\")\n",
        "exp_pred2 = model.predict(exp_test_samples2)\n",
        "exp_pred2 = np.round(exp_pred2)\n",
        "\n",
        "print(\"Classification Report: \\n\",classification_report(exp_test_labels, exp_pred2))\n",
        "exp2= confusion_matrix(exp_test_labels.argmax(axis=1), exp_pred2.argmax(axis=1))\n",
        "plot_confusion_matrix(cm=exp2, classes=CM_PLOT_LABLES, title=\"Bot-IoT-Data: Experiment 2 Confusion Matrix, Epsilion=1.0\")"
      ]
    },
    {
      "cell_type": "code",
      "execution_count": null,
      "metadata": {
        "id": "NjCS9Fx49yEN"
      },
      "outputs": [],
      "source": [
        ""
      ]
    }
  ],
  "metadata": {
    "accelerator": "GPU",
    "colab": {
      "collapsed_sections": [],
      "name": "Bot-IoT Data: Detection_of_Adverserial_attack ",
      "provenance": [],
      "include_colab_link": true
    },
    "kernelspec": {
      "display_name": "Python 3",
      "name": "python3"
    },
    "language_info": {
      "name": "python"
    }
  },
  "nbformat": 4,
  "nbformat_minor": 0
}